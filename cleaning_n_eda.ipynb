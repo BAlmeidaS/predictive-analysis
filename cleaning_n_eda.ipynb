{
 "cells": [
  {
   "cell_type": "markdown",
   "id": "d4819d93-5f01-4fe3-9c2e-16e4cb228df5",
   "metadata": {},
   "source": [
    "### Imports"
   ]
  },
  {
   "cell_type": "code",
   "execution_count": 12,
   "id": "82124960-847e-45f9-8222-ce741ed58131",
   "metadata": {
    "execution": {
     "iopub.execute_input": "2024-01-17T14:54:02.346140Z",
     "iopub.status.busy": "2024-01-17T14:54:02.345960Z",
     "iopub.status.idle": "2024-01-17T14:54:03.076372Z",
     "shell.execute_reply": "2024-01-17T14:54:03.075980Z",
     "shell.execute_reply.started": "2024-01-17T14:54:02.346125Z"
    }
   },
   "outputs": [],
   "source": [
    "!pip install -q pandas matplotlib"
   ]
  },
  {
   "cell_type": "code",
   "execution_count": 14,
   "id": "4c34705a-0a35-4b63-9d2e-7aebf8d1ed52",
   "metadata": {
    "execution": {
     "iopub.execute_input": "2024-01-17T14:54:48.778882Z",
     "iopub.status.busy": "2024-01-17T14:54:48.778755Z",
     "iopub.status.idle": "2024-01-17T14:54:48.894541Z",
     "shell.execute_reply": "2024-01-17T14:54:48.894242Z",
     "shell.execute_reply.started": "2024-01-17T14:54:48.778875Z"
    }
   },
   "outputs": [],
   "source": [
    "import pandas as pd\n",
    "from matplotlib import pyplot as plt"
   ]
  },
  {
   "cell_type": "markdown",
   "id": "1d80156a-f415-4eda-bbd8-9395ac54eeec",
   "metadata": {},
   "source": [
    "# Data Gathering"
   ]
  },
  {
   "cell_type": "code",
   "execution_count": null,
   "id": "e4c2d925-2eb3-45ea-bbe4-d0bc177f95cc",
   "metadata": {},
   "outputs": [],
   "source": []
  }
 ],
 "metadata": {
  "kernelspec": {
   "display_name": "Python 3 (ipykernel)",
   "language": "python",
   "name": "python3"
  },
  "language_info": {
   "codemirror_mode": {
    "name": "ipython",
    "version": 3
   },
   "file_extension": ".py",
   "mimetype": "text/x-python",
   "name": "python",
   "nbconvert_exporter": "python",
   "pygments_lexer": "ipython3",
   "version": "3.11.6"
  }
 },
 "nbformat": 4,
 "nbformat_minor": 5
}
