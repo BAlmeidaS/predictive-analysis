{
  "cells": [
    {
      "cell_type": "markdown",
      "id": "d4819d93-5f01-4fe3-9c2e-16e4cb228df5",
      "metadata": {
        "id": "d4819d93-5f01-4fe3-9c2e-16e4cb228df5"
      },
      "source": [
        "### Imports"
      ]
    },
    {
      "cell_type": "code",
      "execution_count": 4,
      "id": "4c34705a-0a35-4b63-9d2e-7aebf8d1ed52",
      "metadata": {
        "execution": {
          "iopub.execute_input": "2024-01-17T14:54:48.778882Z",
          "iopub.status.busy": "2024-01-17T14:54:48.778755Z",
          "iopub.status.idle": "2024-01-17T14:54:48.894541Z",
          "shell.execute_reply": "2024-01-17T14:54:48.894242Z",
          "shell.execute_reply.started": "2024-01-17T14:54:48.778875Z"
        },
        "id": "4c34705a-0a35-4b63-9d2e-7aebf8d1ed52",
        "outputId": "4faab622-4ef2-40e2-e006-70329d970500",
        "colab": {
          "base_uri": "https://localhost:8080/"
        }
      },
      "outputs": [
        {
          "output_type": "stream",
          "name": "stdout",
          "text": [
            "Mounted at /content/drive\n"
          ]
        }
      ],
      "source": [
        "import pandas as pd\n",
        "from matplotlib import pyplot as plt\n",
        "\n",
        "from google.colab import drive\n",
        "drive.mount('/content/drive')"
      ]
    },
    {
      "cell_type": "markdown",
      "id": "1d80156a-f415-4eda-bbd8-9395ac54eeec",
      "metadata": {
        "id": "1d80156a-f415-4eda-bbd8-9395ac54eeec"
      },
      "source": [
        "# Data Gathering"
      ]
    },
    {
      "cell_type": "markdown",
      "source": [
        "Download [here](https://drive.google.com/file/d/1hWST2LvCc4ai15ZtUMoC9vj0cDDf3izS/view?usp=drive_link) the CSV. Upload it to your own google-drive inside a folder called `predictive-analysis`"
      ],
      "metadata": {
        "id": "Tnini6-f-hgP"
      },
      "id": "Tnini6-f-hgP"
    },
    {
      "cell_type": "code",
      "source": [
        "df = pd.read_csv('/content/drive/MyDrive/predictive-analysis/essays.csv')"
      ],
      "metadata": {
        "id": "3Z0eccw6-ac7"
      },
      "id": "3Z0eccw6-ac7",
      "execution_count": 5,
      "outputs": []
    }
  ],
  "metadata": {
    "kernelspec": {
      "display_name": "Python 3 (ipykernel)",
      "language": "python",
      "name": "python3"
    },
    "language_info": {
      "codemirror_mode": {
        "name": "ipython",
        "version": 3
      },
      "file_extension": ".py",
      "mimetype": "text/x-python",
      "name": "python",
      "nbconvert_exporter": "python",
      "pygments_lexer": "ipython3",
      "version": "3.11.6"
    },
    "colab": {
      "provenance": []
    }
  },
  "nbformat": 4,
  "nbformat_minor": 5
}