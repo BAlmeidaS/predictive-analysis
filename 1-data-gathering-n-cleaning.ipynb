{
 "cells": [
  {
   "cell_type": "markdown",
   "id": "d4819d93-5f01-4fe3-9c2e-16e4cb228df5",
   "metadata": {
    "id": "d4819d93-5f01-4fe3-9c2e-16e4cb228df5"
   },
   "source": [
    "### Imports"
   ]
  },
  {
   "cell_type": "code",
   "execution_count": 1,
   "id": "4c34705a-0a35-4b63-9d2e-7aebf8d1ed52",
   "metadata": {
    "ExecuteTime": {
     "end_time": "2024-02-14T16:51:48.309946924Z",
     "start_time": "2024-02-14T16:51:48.242516708Z"
    },
    "execution": {
     "iopub.execute_input": "2024-03-17T01:00:31.370939Z",
     "iopub.status.busy": "2024-03-17T01:00:31.370814Z",
     "iopub.status.idle": "2024-03-17T01:00:31.772852Z",
     "shell.execute_reply": "2024-03-17T01:00:31.772489Z",
     "shell.execute_reply.started": "2024-03-17T01:00:31.370930Z"
    },
    "id": "4c34705a-0a35-4b63-9d2e-7aebf8d1ed52"
   },
   "outputs": [],
   "source": [
    "import json\n",
    "import pandas as pd\n",
    "import matplotlib as mpl\n",
    "from matplotlib import pyplot as plt\n",
    "from sklearn import preprocessing as preproc\n",
    "from sklearn.decomposition import PCA\n",
    "import numpy as np\n",
    "\n",
    "from scipy import stats\n",
    "\n",
    "# https://stackoverflow.com/questions/52285104/3d-scatterplots-with-hue-colormap-and-legend\n",
    "from mpl_toolkits.mplot3d import Axes3D\n",
    "\n",
    "import seaborn as sns\n",
    "\n",
    "try:\n",
    "  from google.colab import drive\n",
    "  drive.mount('/content/drive')\n",
    "\n",
    "  COLAB = True\n",
    "except ModuleNotFoundError:\n",
    "  COLAB = False\n",
    "\n",
    "def display_df(df: pd.DataFrame, title: str = \"\"):\n",
    "  display(df.style.hide(axis=\"index\").set_caption(title))\n",
    "\n",
    "%matplotlib inline"
   ]
  },
  {
   "cell_type": "markdown",
   "id": "1c6ada910006460",
   "metadata": {
    "collapsed": false,
    "jupyter": {
     "outputs_hidden": false
    }
   },
   "source": [
    "# Download Data\n",
    "To download the data you can go to [this link](https://drive.google.com/file/d/1NjvuEXyX65fQT7K4TFmxo1VGoJVNQwU4/view?usp=drive_link).\n",
    "\n",
    "If using colab: upload the data to your own google-drive inside a folder called `predictive-analysis`."
   ]
  },
  {
   "cell_type": "markdown",
   "id": "2e14ef273c434f85",
   "metadata": {
    "collapsed": false,
    "jupyter": {
     "outputs_hidden": false
    }
   },
   "source": [
    "# Data Gathering"
   ]
  },
  {
   "cell_type": "code",
   "execution_count": 2,
   "id": "3Z0eccw6-ac7",
   "metadata": {
    "ExecuteTime": {
     "end_time": "2024-02-14T16:51:48.526020763Z",
     "start_time": "2024-02-14T16:51:48.286974620Z"
    },
    "colab": {
     "base_uri": "https://localhost:8080/",
     "height": 206
    },
    "execution": {
     "iopub.execute_input": "2024-03-17T01:00:31.773457Z",
     "iopub.status.busy": "2024-03-17T01:00:31.773350Z",
     "iopub.status.idle": "2024-03-17T01:00:31.958326Z",
     "shell.execute_reply": "2024-03-17T01:00:31.957993Z",
     "shell.execute_reply.started": "2024-03-17T01:00:31.773449Z"
    },
    "id": "3Z0eccw6-ac7",
    "outputId": "2295f609-5b90-424c-c830-fa8ba0cf774e"
   },
   "outputs": [
    {
     "data": {
      "text/html": [
       "<div>\n",
       "<style scoped>\n",
       "    .dataframe tbody tr th:only-of-type {\n",
       "        vertical-align: middle;\n",
       "    }\n",
       "\n",
       "    .dataframe tbody tr th {\n",
       "        vertical-align: top;\n",
       "    }\n",
       "\n",
       "    .dataframe thead th {\n",
       "        text-align: right;\n",
       "    }\n",
       "</style>\n",
       "<table border=\"1\" class=\"dataframe\">\n",
       "  <thead>\n",
       "    <tr style=\"text-align: right;\">\n",
       "      <th></th>\n",
       "      <th>0</th>\n",
       "      <th>1</th>\n",
       "      <th>2</th>\n",
       "      <th>3</th>\n",
       "      <th>4</th>\n",
       "    </tr>\n",
       "  </thead>\n",
       "  <tbody>\n",
       "    <tr>\n",
       "      <th>encounter_id</th>\n",
       "      <td>2278392</td>\n",
       "      <td>149190</td>\n",
       "      <td>64410</td>\n",
       "      <td>500364</td>\n",
       "      <td>16680</td>\n",
       "    </tr>\n",
       "    <tr>\n",
       "      <th>patient_nbr</th>\n",
       "      <td>8222157</td>\n",
       "      <td>55629189</td>\n",
       "      <td>86047875</td>\n",
       "      <td>82442376</td>\n",
       "      <td>42519267</td>\n",
       "    </tr>\n",
       "    <tr>\n",
       "      <th>race</th>\n",
       "      <td>Caucasian</td>\n",
       "      <td>Caucasian</td>\n",
       "      <td>AfricanAmerican</td>\n",
       "      <td>Caucasian</td>\n",
       "      <td>Caucasian</td>\n",
       "    </tr>\n",
       "    <tr>\n",
       "      <th>gender</th>\n",
       "      <td>Female</td>\n",
       "      <td>Female</td>\n",
       "      <td>Female</td>\n",
       "      <td>Male</td>\n",
       "      <td>Male</td>\n",
       "    </tr>\n",
       "    <tr>\n",
       "      <th>age</th>\n",
       "      <td>[0-10)</td>\n",
       "      <td>[10-20)</td>\n",
       "      <td>[20-30)</td>\n",
       "      <td>[30-40)</td>\n",
       "      <td>[40-50)</td>\n",
       "    </tr>\n",
       "    <tr>\n",
       "      <th>weight</th>\n",
       "      <td>?</td>\n",
       "      <td>?</td>\n",
       "      <td>?</td>\n",
       "      <td>?</td>\n",
       "      <td>?</td>\n",
       "    </tr>\n",
       "    <tr>\n",
       "      <th>admission_type_id</th>\n",
       "      <td>6</td>\n",
       "      <td>1</td>\n",
       "      <td>1</td>\n",
       "      <td>1</td>\n",
       "      <td>1</td>\n",
       "    </tr>\n",
       "    <tr>\n",
       "      <th>discharge_disposition_id</th>\n",
       "      <td>25</td>\n",
       "      <td>1</td>\n",
       "      <td>1</td>\n",
       "      <td>1</td>\n",
       "      <td>1</td>\n",
       "    </tr>\n",
       "    <tr>\n",
       "      <th>admission_source_id</th>\n",
       "      <td>1</td>\n",
       "      <td>7</td>\n",
       "      <td>7</td>\n",
       "      <td>7</td>\n",
       "      <td>7</td>\n",
       "    </tr>\n",
       "    <tr>\n",
       "      <th>time_in_hospital</th>\n",
       "      <td>1</td>\n",
       "      <td>3</td>\n",
       "      <td>2</td>\n",
       "      <td>2</td>\n",
       "      <td>1</td>\n",
       "    </tr>\n",
       "    <tr>\n",
       "      <th>payer_code</th>\n",
       "      <td>?</td>\n",
       "      <td>?</td>\n",
       "      <td>?</td>\n",
       "      <td>?</td>\n",
       "      <td>?</td>\n",
       "    </tr>\n",
       "    <tr>\n",
       "      <th>medical_specialty</th>\n",
       "      <td>Pediatrics-Endocrinology</td>\n",
       "      <td>?</td>\n",
       "      <td>?</td>\n",
       "      <td>?</td>\n",
       "      <td>?</td>\n",
       "    </tr>\n",
       "    <tr>\n",
       "      <th>num_lab_procedures</th>\n",
       "      <td>41</td>\n",
       "      <td>59</td>\n",
       "      <td>11</td>\n",
       "      <td>44</td>\n",
       "      <td>51</td>\n",
       "    </tr>\n",
       "    <tr>\n",
       "      <th>num_procedures</th>\n",
       "      <td>0</td>\n",
       "      <td>0</td>\n",
       "      <td>5</td>\n",
       "      <td>1</td>\n",
       "      <td>0</td>\n",
       "    </tr>\n",
       "    <tr>\n",
       "      <th>num_medications</th>\n",
       "      <td>1</td>\n",
       "      <td>18</td>\n",
       "      <td>13</td>\n",
       "      <td>16</td>\n",
       "      <td>8</td>\n",
       "    </tr>\n",
       "    <tr>\n",
       "      <th>number_outpatient</th>\n",
       "      <td>0</td>\n",
       "      <td>0</td>\n",
       "      <td>2</td>\n",
       "      <td>0</td>\n",
       "      <td>0</td>\n",
       "    </tr>\n",
       "    <tr>\n",
       "      <th>number_emergency</th>\n",
       "      <td>0</td>\n",
       "      <td>0</td>\n",
       "      <td>0</td>\n",
       "      <td>0</td>\n",
       "      <td>0</td>\n",
       "    </tr>\n",
       "    <tr>\n",
       "      <th>number_inpatient</th>\n",
       "      <td>0</td>\n",
       "      <td>0</td>\n",
       "      <td>1</td>\n",
       "      <td>0</td>\n",
       "      <td>0</td>\n",
       "    </tr>\n",
       "    <tr>\n",
       "      <th>diag_1</th>\n",
       "      <td>250.83</td>\n",
       "      <td>276</td>\n",
       "      <td>648</td>\n",
       "      <td>8</td>\n",
       "      <td>197</td>\n",
       "    </tr>\n",
       "    <tr>\n",
       "      <th>diag_2</th>\n",
       "      <td>?</td>\n",
       "      <td>250.01</td>\n",
       "      <td>250</td>\n",
       "      <td>250.43</td>\n",
       "      <td>157</td>\n",
       "    </tr>\n",
       "    <tr>\n",
       "      <th>diag_3</th>\n",
       "      <td>?</td>\n",
       "      <td>255</td>\n",
       "      <td>V27</td>\n",
       "      <td>403</td>\n",
       "      <td>250</td>\n",
       "    </tr>\n",
       "    <tr>\n",
       "      <th>number_diagnoses</th>\n",
       "      <td>1</td>\n",
       "      <td>9</td>\n",
       "      <td>6</td>\n",
       "      <td>7</td>\n",
       "      <td>5</td>\n",
       "    </tr>\n",
       "    <tr>\n",
       "      <th>max_glu_serum</th>\n",
       "      <td>NaN</td>\n",
       "      <td>NaN</td>\n",
       "      <td>NaN</td>\n",
       "      <td>NaN</td>\n",
       "      <td>NaN</td>\n",
       "    </tr>\n",
       "    <tr>\n",
       "      <th>A1Cresult</th>\n",
       "      <td>NaN</td>\n",
       "      <td>NaN</td>\n",
       "      <td>NaN</td>\n",
       "      <td>NaN</td>\n",
       "      <td>NaN</td>\n",
       "    </tr>\n",
       "    <tr>\n",
       "      <th>metformin</th>\n",
       "      <td>No</td>\n",
       "      <td>No</td>\n",
       "      <td>No</td>\n",
       "      <td>No</td>\n",
       "      <td>No</td>\n",
       "    </tr>\n",
       "    <tr>\n",
       "      <th>repaglinide</th>\n",
       "      <td>No</td>\n",
       "      <td>No</td>\n",
       "      <td>No</td>\n",
       "      <td>No</td>\n",
       "      <td>No</td>\n",
       "    </tr>\n",
       "    <tr>\n",
       "      <th>nateglinide</th>\n",
       "      <td>No</td>\n",
       "      <td>No</td>\n",
       "      <td>No</td>\n",
       "      <td>No</td>\n",
       "      <td>No</td>\n",
       "    </tr>\n",
       "    <tr>\n",
       "      <th>chlorpropamide</th>\n",
       "      <td>No</td>\n",
       "      <td>No</td>\n",
       "      <td>No</td>\n",
       "      <td>No</td>\n",
       "      <td>No</td>\n",
       "    </tr>\n",
       "    <tr>\n",
       "      <th>glimepiride</th>\n",
       "      <td>No</td>\n",
       "      <td>No</td>\n",
       "      <td>No</td>\n",
       "      <td>No</td>\n",
       "      <td>No</td>\n",
       "    </tr>\n",
       "    <tr>\n",
       "      <th>acetohexamide</th>\n",
       "      <td>No</td>\n",
       "      <td>No</td>\n",
       "      <td>No</td>\n",
       "      <td>No</td>\n",
       "      <td>No</td>\n",
       "    </tr>\n",
       "    <tr>\n",
       "      <th>glipizide</th>\n",
       "      <td>No</td>\n",
       "      <td>No</td>\n",
       "      <td>Steady</td>\n",
       "      <td>No</td>\n",
       "      <td>Steady</td>\n",
       "    </tr>\n",
       "    <tr>\n",
       "      <th>glyburide</th>\n",
       "      <td>No</td>\n",
       "      <td>No</td>\n",
       "      <td>No</td>\n",
       "      <td>No</td>\n",
       "      <td>No</td>\n",
       "    </tr>\n",
       "    <tr>\n",
       "      <th>tolbutamide</th>\n",
       "      <td>No</td>\n",
       "      <td>No</td>\n",
       "      <td>No</td>\n",
       "      <td>No</td>\n",
       "      <td>No</td>\n",
       "    </tr>\n",
       "    <tr>\n",
       "      <th>pioglitazone</th>\n",
       "      <td>No</td>\n",
       "      <td>No</td>\n",
       "      <td>No</td>\n",
       "      <td>No</td>\n",
       "      <td>No</td>\n",
       "    </tr>\n",
       "    <tr>\n",
       "      <th>rosiglitazone</th>\n",
       "      <td>No</td>\n",
       "      <td>No</td>\n",
       "      <td>No</td>\n",
       "      <td>No</td>\n",
       "      <td>No</td>\n",
       "    </tr>\n",
       "    <tr>\n",
       "      <th>acarbose</th>\n",
       "      <td>No</td>\n",
       "      <td>No</td>\n",
       "      <td>No</td>\n",
       "      <td>No</td>\n",
       "      <td>No</td>\n",
       "    </tr>\n",
       "    <tr>\n",
       "      <th>miglitol</th>\n",
       "      <td>No</td>\n",
       "      <td>No</td>\n",
       "      <td>No</td>\n",
       "      <td>No</td>\n",
       "      <td>No</td>\n",
       "    </tr>\n",
       "    <tr>\n",
       "      <th>troglitazone</th>\n",
       "      <td>No</td>\n",
       "      <td>No</td>\n",
       "      <td>No</td>\n",
       "      <td>No</td>\n",
       "      <td>No</td>\n",
       "    </tr>\n",
       "    <tr>\n",
       "      <th>tolazamide</th>\n",
       "      <td>No</td>\n",
       "      <td>No</td>\n",
       "      <td>No</td>\n",
       "      <td>No</td>\n",
       "      <td>No</td>\n",
       "    </tr>\n",
       "    <tr>\n",
       "      <th>examide</th>\n",
       "      <td>No</td>\n",
       "      <td>No</td>\n",
       "      <td>No</td>\n",
       "      <td>No</td>\n",
       "      <td>No</td>\n",
       "    </tr>\n",
       "    <tr>\n",
       "      <th>citoglipton</th>\n",
       "      <td>No</td>\n",
       "      <td>No</td>\n",
       "      <td>No</td>\n",
       "      <td>No</td>\n",
       "      <td>No</td>\n",
       "    </tr>\n",
       "    <tr>\n",
       "      <th>insulin</th>\n",
       "      <td>No</td>\n",
       "      <td>Up</td>\n",
       "      <td>No</td>\n",
       "      <td>Up</td>\n",
       "      <td>Steady</td>\n",
       "    </tr>\n",
       "    <tr>\n",
       "      <th>glyburide-metformin</th>\n",
       "      <td>No</td>\n",
       "      <td>No</td>\n",
       "      <td>No</td>\n",
       "      <td>No</td>\n",
       "      <td>No</td>\n",
       "    </tr>\n",
       "    <tr>\n",
       "      <th>glipizide-metformin</th>\n",
       "      <td>No</td>\n",
       "      <td>No</td>\n",
       "      <td>No</td>\n",
       "      <td>No</td>\n",
       "      <td>No</td>\n",
       "    </tr>\n",
       "    <tr>\n",
       "      <th>glimepiride-pioglitazone</th>\n",
       "      <td>No</td>\n",
       "      <td>No</td>\n",
       "      <td>No</td>\n",
       "      <td>No</td>\n",
       "      <td>No</td>\n",
       "    </tr>\n",
       "    <tr>\n",
       "      <th>metformin-rosiglitazone</th>\n",
       "      <td>No</td>\n",
       "      <td>No</td>\n",
       "      <td>No</td>\n",
       "      <td>No</td>\n",
       "      <td>No</td>\n",
       "    </tr>\n",
       "    <tr>\n",
       "      <th>metformin-pioglitazone</th>\n",
       "      <td>No</td>\n",
       "      <td>No</td>\n",
       "      <td>No</td>\n",
       "      <td>No</td>\n",
       "      <td>No</td>\n",
       "    </tr>\n",
       "    <tr>\n",
       "      <th>change</th>\n",
       "      <td>No</td>\n",
       "      <td>Ch</td>\n",
       "      <td>No</td>\n",
       "      <td>Ch</td>\n",
       "      <td>Ch</td>\n",
       "    </tr>\n",
       "    <tr>\n",
       "      <th>diabetesMed</th>\n",
       "      <td>No</td>\n",
       "      <td>Yes</td>\n",
       "      <td>Yes</td>\n",
       "      <td>Yes</td>\n",
       "      <td>Yes</td>\n",
       "    </tr>\n",
       "    <tr>\n",
       "      <th>readmitted</th>\n",
       "      <td>NO</td>\n",
       "      <td>&gt;30</td>\n",
       "      <td>NO</td>\n",
       "      <td>NO</td>\n",
       "      <td>NO</td>\n",
       "    </tr>\n",
       "  </tbody>\n",
       "</table>\n",
       "</div>"
      ],
      "text/plain": [
       "                                                 0          1  \\\n",
       "encounter_id                               2278392     149190   \n",
       "patient_nbr                                8222157   55629189   \n",
       "race                                     Caucasian  Caucasian   \n",
       "gender                                      Female     Female   \n",
       "age                                         [0-10)    [10-20)   \n",
       "weight                                           ?          ?   \n",
       "admission_type_id                                6          1   \n",
       "discharge_disposition_id                        25          1   \n",
       "admission_source_id                              1          7   \n",
       "time_in_hospital                                 1          3   \n",
       "payer_code                                       ?          ?   \n",
       "medical_specialty         Pediatrics-Endocrinology          ?   \n",
       "num_lab_procedures                              41         59   \n",
       "num_procedures                                   0          0   \n",
       "num_medications                                  1         18   \n",
       "number_outpatient                                0          0   \n",
       "number_emergency                                 0          0   \n",
       "number_inpatient                                 0          0   \n",
       "diag_1                                      250.83        276   \n",
       "diag_2                                           ?     250.01   \n",
       "diag_3                                           ?        255   \n",
       "number_diagnoses                                 1          9   \n",
       "max_glu_serum                                  NaN        NaN   \n",
       "A1Cresult                                      NaN        NaN   \n",
       "metformin                                       No         No   \n",
       "repaglinide                                     No         No   \n",
       "nateglinide                                     No         No   \n",
       "chlorpropamide                                  No         No   \n",
       "glimepiride                                     No         No   \n",
       "acetohexamide                                   No         No   \n",
       "glipizide                                       No         No   \n",
       "glyburide                                       No         No   \n",
       "tolbutamide                                     No         No   \n",
       "pioglitazone                                    No         No   \n",
       "rosiglitazone                                   No         No   \n",
       "acarbose                                        No         No   \n",
       "miglitol                                        No         No   \n",
       "troglitazone                                    No         No   \n",
       "tolazamide                                      No         No   \n",
       "examide                                         No         No   \n",
       "citoglipton                                     No         No   \n",
       "insulin                                         No         Up   \n",
       "glyburide-metformin                             No         No   \n",
       "glipizide-metformin                             No         No   \n",
       "glimepiride-pioglitazone                        No         No   \n",
       "metformin-rosiglitazone                         No         No   \n",
       "metformin-pioglitazone                          No         No   \n",
       "change                                          No         Ch   \n",
       "diabetesMed                                     No        Yes   \n",
       "readmitted                                      NO        >30   \n",
       "\n",
       "                                        2          3          4  \n",
       "encounter_id                        64410     500364      16680  \n",
       "patient_nbr                      86047875   82442376   42519267  \n",
       "race                      AfricanAmerican  Caucasian  Caucasian  \n",
       "gender                             Female       Male       Male  \n",
       "age                               [20-30)    [30-40)    [40-50)  \n",
       "weight                                  ?          ?          ?  \n",
       "admission_type_id                       1          1          1  \n",
       "discharge_disposition_id                1          1          1  \n",
       "admission_source_id                     7          7          7  \n",
       "time_in_hospital                        2          2          1  \n",
       "payer_code                              ?          ?          ?  \n",
       "medical_specialty                       ?          ?          ?  \n",
       "num_lab_procedures                     11         44         51  \n",
       "num_procedures                          5          1          0  \n",
       "num_medications                        13         16          8  \n",
       "number_outpatient                       2          0          0  \n",
       "number_emergency                        0          0          0  \n",
       "number_inpatient                        1          0          0  \n",
       "diag_1                                648          8        197  \n",
       "diag_2                                250     250.43        157  \n",
       "diag_3                                V27        403        250  \n",
       "number_diagnoses                        6          7          5  \n",
       "max_glu_serum                         NaN        NaN        NaN  \n",
       "A1Cresult                             NaN        NaN        NaN  \n",
       "metformin                              No         No         No  \n",
       "repaglinide                            No         No         No  \n",
       "nateglinide                            No         No         No  \n",
       "chlorpropamide                         No         No         No  \n",
       "glimepiride                            No         No         No  \n",
       "acetohexamide                          No         No         No  \n",
       "glipizide                          Steady         No     Steady  \n",
       "glyburide                              No         No         No  \n",
       "tolbutamide                            No         No         No  \n",
       "pioglitazone                           No         No         No  \n",
       "rosiglitazone                          No         No         No  \n",
       "acarbose                               No         No         No  \n",
       "miglitol                               No         No         No  \n",
       "troglitazone                           No         No         No  \n",
       "tolazamide                             No         No         No  \n",
       "examide                                No         No         No  \n",
       "citoglipton                            No         No         No  \n",
       "insulin                                No         Up     Steady  \n",
       "glyburide-metformin                    No         No         No  \n",
       "glipizide-metformin                    No         No         No  \n",
       "glimepiride-pioglitazone               No         No         No  \n",
       "metformin-rosiglitazone                No         No         No  \n",
       "metformin-pioglitazone                 No         No         No  \n",
       "change                                 No         Ch         Ch  \n",
       "diabetesMed                           Yes        Yes        Yes  \n",
       "readmitted                             NO         NO         NO  "
      ]
     },
     "execution_count": 2,
     "metadata": {},
     "output_type": "execute_result"
    }
   ],
   "source": [
    "if COLAB:\n",
    "  df_raw = pd.read_csv('/content/drive/MyDrive/predictive-analysis/diabetic_data.csv')\n",
    "else:\n",
    "  df_raw = pd.read_csv(\"diabetic_data.csv\")\n",
    "\n",
    "df_raw.head().T"
   ]
  },
  {
   "cell_type": "code",
   "execution_count": 3,
   "id": "cbcf2955e4e1ff75",
   "metadata": {
    "ExecuteTime": {
     "end_time": "2024-02-14T16:51:48.527376055Z",
     "start_time": "2024-02-14T16:51:48.496350799Z"
    },
    "collapsed": false,
    "execution": {
     "iopub.execute_input": "2024-03-17T01:00:31.958785Z",
     "iopub.status.busy": "2024-03-17T01:00:31.958710Z",
     "iopub.status.idle": "2024-03-17T01:00:31.968263Z",
     "shell.execute_reply": "2024-03-17T01:00:31.967968Z",
     "shell.execute_reply.started": "2024-03-17T01:00:31.958778Z"
    },
    "jupyter": {
     "outputs_hidden": false
    }
   },
   "outputs": [
    {
     "name": "stdout",
     "output_type": "stream",
     "text": [
      "num of categorical columns: 41\n"
     ]
    }
   ],
   "source": [
    "CAT_COLUMNS = [\n",
    "  \"encounter_id\", \"patient_nbr\",\n",
    "  \"race\", \"gender\", \"age\", \"weight\", \"payer_code\", \"medical_specialty\",\n",
    "  \"diag_1\", \"diag_2\", \"diag_3\", \"max_glu_serum\", \"A1Cresult\", \"metformin\",\n",
    "  \"repaglinide\", \"nateglinide\", \"chlorpropamide\", \"glimepiride\", \"acetohexamide\",\n",
    "  \"glipizide\", \"glyburide\", \"tolbutamide\", \"pioglitazone\", \"rosiglitazone\",\n",
    "  \"acarbose\", \"miglitol\", \"troglitazone\", \"tolazamide\",\n",
    "  \"examide\", \"citoglipton\", \"insulin\", \"glyburide-metformin\", \"glipizide-metformin\",\n",
    "  \"glimepiride-pioglitazone\", \"metformin-rosiglitazone\",\n",
    "  \"metformin-pioglitazone\", \"change\", \"diabetesMed\", \n",
    "  \"admission_type_id\", \"discharge_disposition_id\", \"admission_source_id\",\n",
    "]\n",
    "print(f\"num of categorical columns: {len(CAT_COLUMNS)}\")"
   ]
  },
  {
   "cell_type": "code",
   "execution_count": 4,
   "id": "186380b65a59cec9",
   "metadata": {
    "ExecuteTime": {
     "end_time": "2024-02-14T16:51:48.527617755Z",
     "start_time": "2024-02-14T16:51:48.496433443Z"
    },
    "collapsed": false,
    "execution": {
     "iopub.execute_input": "2024-03-17T01:00:31.968878Z",
     "iopub.status.busy": "2024-03-17T01:00:31.968803Z",
     "iopub.status.idle": "2024-03-17T01:00:31.977679Z",
     "shell.execute_reply": "2024-03-17T01:00:31.977361Z",
     "shell.execute_reply.started": "2024-03-17T01:00:31.968871Z"
    },
    "jupyter": {
     "outputs_hidden": false
    }
   },
   "outputs": [
    {
     "name": "stdout",
     "output_type": "stream",
     "text": [
      "num of numerical columns: 8\n"
     ]
    }
   ],
   "source": [
    "NUM_COLUMNS = [\n",
    "  \"time_in_hospital\", \"num_lab_procedures\", \"num_procedures\", \"num_medications\",\n",
    "  \"number_outpatient\", \"number_emergency\", \"number_inpatient\", \"number_diagnoses\"\n",
    "]\n",
    "print(f\"num of numerical columns: {len(NUM_COLUMNS)}\")"
   ]
  },
  {
   "cell_type": "code",
   "execution_count": 5,
   "id": "a1450de9",
   "metadata": {
    "execution": {
     "iopub.execute_input": "2024-03-17T01:00:31.978008Z",
     "iopub.status.busy": "2024-03-17T01:00:31.977941Z",
     "iopub.status.idle": "2024-03-17T01:00:31.984590Z",
     "shell.execute_reply": "2024-03-17T01:00:31.984385Z",
     "shell.execute_reply.started": "2024-03-17T01:00:31.978002Z"
    }
   },
   "outputs": [],
   "source": [
    "TGT = \"readmitted\""
   ]
  },
  {
   "cell_type": "code",
   "execution_count": 6,
   "id": "1d08b720-8100-4c66-acbb-8c96e2427b09",
   "metadata": {
    "execution": {
     "iopub.execute_input": "2024-03-17T01:00:31.984978Z",
     "iopub.status.busy": "2024-03-17T01:00:31.984911Z",
     "iopub.status.idle": "2024-03-17T01:00:31.997529Z",
     "shell.execute_reply": "2024-03-17T01:00:31.997204Z",
     "shell.execute_reply.started": "2024-03-17T01:00:31.984972Z"
    }
   },
   "outputs": [],
   "source": [
    "# copping the dataset df_raw to df\n",
    "df = df_raw.copy()"
   ]
  },
  {
   "cell_type": "code",
   "execution_count": 7,
   "id": "8dveW0tqGFE4",
   "metadata": {
    "ExecuteTime": {
     "end_time": "2024-02-14T16:51:48.527836232Z",
     "start_time": "2024-02-14T16:51:48.496466635Z"
    },
    "colab": {
     "base_uri": "https://localhost:8080/"
    },
    "execution": {
     "iopub.execute_input": "2024-03-17T01:00:31.997954Z",
     "iopub.status.busy": "2024-03-17T01:00:31.997878Z",
     "iopub.status.idle": "2024-03-17T01:00:32.006800Z",
     "shell.execute_reply": "2024-03-17T01:00:32.006605Z",
     "shell.execute_reply.started": "2024-03-17T01:00:31.997947Z"
    },
    "id": "8dveW0tqGFE4",
    "outputId": "953e8885-b72e-498d-b701-42927053a9fe"
   },
   "outputs": [
    {
     "data": {
      "text/plain": [
       "(101766, 50)"
      ]
     },
     "execution_count": 7,
     "metadata": {},
     "output_type": "execute_result"
    }
   ],
   "source": [
    "df.shape"
   ]
  },
  {
   "cell_type": "code",
   "execution_count": 8,
   "id": "89755b44-a9c4-4aa2-bdd3-137a16f7c3cd",
   "metadata": {
    "ExecuteTime": {
     "end_time": "2024-02-14T16:51:48.528089684Z",
     "start_time": "2024-02-14T16:51:48.496493164Z"
    },
    "execution": {
     "iopub.execute_input": "2024-03-17T01:00:32.007186Z",
     "iopub.status.busy": "2024-03-17T01:00:32.007112Z",
     "iopub.status.idle": "2024-03-17T01:00:32.016283Z",
     "shell.execute_reply": "2024-03-17T01:00:32.016080Z",
     "shell.execute_reply.started": "2024-03-17T01:00:32.007179Z"
    },
    "id": "89755b44-a9c4-4aa2-bdd3-137a16f7c3cd",
    "outputId": "40a9f427-8786-4d42-9e03-edbc36503d06"
   },
   "outputs": [
    {
     "data": {
      "text/plain": [
       "encounter_id                 int64\n",
       "patient_nbr                  int64\n",
       "race                        object\n",
       "gender                      object\n",
       "age                         object\n",
       "weight                      object\n",
       "admission_type_id            int64\n",
       "discharge_disposition_id     int64\n",
       "admission_source_id          int64\n",
       "time_in_hospital             int64\n",
       "payer_code                  object\n",
       "medical_specialty           object\n",
       "num_lab_procedures           int64\n",
       "num_procedures               int64\n",
       "num_medications              int64\n",
       "number_outpatient            int64\n",
       "number_emergency             int64\n",
       "number_inpatient             int64\n",
       "diag_1                      object\n",
       "diag_2                      object\n",
       "diag_3                      object\n",
       "number_diagnoses             int64\n",
       "max_glu_serum               object\n",
       "A1Cresult                   object\n",
       "metformin                   object\n",
       "repaglinide                 object\n",
       "nateglinide                 object\n",
       "chlorpropamide              object\n",
       "glimepiride                 object\n",
       "acetohexamide               object\n",
       "glipizide                   object\n",
       "glyburide                   object\n",
       "tolbutamide                 object\n",
       "pioglitazone                object\n",
       "rosiglitazone               object\n",
       "acarbose                    object\n",
       "miglitol                    object\n",
       "troglitazone                object\n",
       "tolazamide                  object\n",
       "examide                     object\n",
       "citoglipton                 object\n",
       "insulin                     object\n",
       "glyburide-metformin         object\n",
       "glipizide-metformin         object\n",
       "glimepiride-pioglitazone    object\n",
       "metformin-rosiglitazone     object\n",
       "metformin-pioglitazone      object\n",
       "change                      object\n",
       "diabetesMed                 object\n",
       "readmitted                  object\n",
       "dtype: object"
      ]
     },
     "execution_count": 8,
     "metadata": {},
     "output_type": "execute_result"
    }
   ],
   "source": [
    "df.dtypes"
   ]
  },
  {
   "cell_type": "markdown",
   "id": "61d643ea-cf35-4201-a9fe-e974661daf59",
   "metadata": {},
   "source": [
    "## Data Preparation"
   ]
  },
  {
   "cell_type": "markdown",
   "id": "e00665b31775e77b",
   "metadata": {
    "collapsed": false,
    "jupyter": {
     "outputs_hidden": false
    }
   },
   "source": [
    "Replace all the \"?\" and \"Unknown/Invalid\" in the dataset for `None` values and counting the nulls"
   ]
  },
  {
   "cell_type": "code",
   "execution_count": 9,
   "id": "fd5063ea873bb4f5",
   "metadata": {
    "ExecuteTime": {
     "end_time": "2024-02-14T16:51:48.609213452Z",
     "start_time": "2024-02-14T16:51:48.496533509Z"
    },
    "collapsed": false,
    "execution": {
     "iopub.execute_input": "2024-03-17T01:00:32.110584Z",
     "iopub.status.busy": "2024-03-17T01:00:32.110507Z",
     "iopub.status.idle": "2024-03-17T01:00:32.158555Z",
     "shell.execute_reply": "2024-03-17T01:00:32.158282Z",
     "shell.execute_reply.started": "2024-03-17T01:00:32.110576Z"
    },
    "jupyter": {
     "outputs_hidden": false
    }
   },
   "outputs": [
    {
     "data": {
      "text/plain": [
       "weight                      98569\n",
       "max_glu_serum               96420\n",
       "A1Cresult                   84748\n",
       "medical_specialty           49949\n",
       "payer_code                  40256\n",
       "race                         2273\n",
       "diag_3                       1423\n",
       "diag_2                        358\n",
       "diag_1                         21\n",
       "gender                          3\n",
       "time_in_hospital                0\n",
       "admission_source_id             0\n",
       "num_lab_procedures              0\n",
       "encounter_id                    0\n",
       "patient_nbr                     0\n",
       "discharge_disposition_id        0\n",
       "admission_type_id               0\n",
       "age                             0\n",
       "number_inpatient                0\n",
       "number_emergency                0\n",
       "number_outpatient               0\n",
       "num_medications                 0\n",
       "num_procedures                  0\n",
       "number_diagnoses                0\n",
       "metformin                       0\n",
       "repaglinide                     0\n",
       "nateglinide                     0\n",
       "chlorpropamide                  0\n",
       "glimepiride                     0\n",
       "acetohexamide                   0\n",
       "glipizide                       0\n",
       "glyburide                       0\n",
       "tolbutamide                     0\n",
       "pioglitazone                    0\n",
       "rosiglitazone                   0\n",
       "acarbose                        0\n",
       "miglitol                        0\n",
       "troglitazone                    0\n",
       "tolazamide                      0\n",
       "examide                         0\n",
       "citoglipton                     0\n",
       "insulin                         0\n",
       "glyburide-metformin             0\n",
       "glipizide-metformin             0\n",
       "glimepiride-pioglitazone        0\n",
       "metformin-rosiglitazone         0\n",
       "metformin-pioglitazone          0\n",
       "change                          0\n",
       "diabetesMed                     0\n",
       "readmitted                      0\n",
       "dtype: int64"
      ]
     },
     "execution_count": 9,
     "metadata": {},
     "output_type": "execute_result"
    }
   ],
   "source": [
    "df = df.replace(\"?\", None)\n",
    "df = df.replace(\"Unknown/Invalid\", None)\n",
    "df.isnull().sum().sort_values(ascending=False)"
   ]
  },
  {
   "cell_type": "markdown",
   "id": "3248a23f",
   "metadata": {},
   "source": [
    "Set categorical cols as categories"
   ]
  },
  {
   "cell_type": "code",
   "execution_count": 10,
   "id": "2e19bedc",
   "metadata": {},
   "outputs": [
    {
     "data": {
      "text/plain": [
       "encounter_id                category\n",
       "patient_nbr                 category\n",
       "race                        category\n",
       "gender                      category\n",
       "age                         category\n",
       "weight                      category\n",
       "payer_code                  category\n",
       "medical_specialty           category\n",
       "diag_1                      category\n",
       "diag_2                      category\n",
       "diag_3                      category\n",
       "max_glu_serum               category\n",
       "A1Cresult                   category\n",
       "metformin                   category\n",
       "repaglinide                 category\n",
       "nateglinide                 category\n",
       "chlorpropamide              category\n",
       "glimepiride                 category\n",
       "acetohexamide               category\n",
       "glipizide                   category\n",
       "glyburide                   category\n",
       "tolbutamide                 category\n",
       "pioglitazone                category\n",
       "rosiglitazone               category\n",
       "acarbose                    category\n",
       "miglitol                    category\n",
       "troglitazone                category\n",
       "tolazamide                  category\n",
       "examide                     category\n",
       "citoglipton                 category\n",
       "insulin                     category\n",
       "glyburide-metformin         category\n",
       "glipizide-metformin         category\n",
       "glimepiride-pioglitazone    category\n",
       "metformin-rosiglitazone     category\n",
       "metformin-pioglitazone      category\n",
       "change                      category\n",
       "diabetesMed                 category\n",
       "admission_type_id           category\n",
       "discharge_disposition_id    category\n",
       "admission_source_id         category\n",
       "readmitted                  category\n",
       "dtype: object"
      ]
     },
     "execution_count": 10,
     "metadata": {},
     "output_type": "execute_result"
    }
   ],
   "source": [
    "# set all categorical columns to type 'category'\n",
    "for col in CAT_COLUMNS + [TGT]:\n",
    "  df[col] = df[col].astype('category')\n",
    "\n",
    "df[CAT_COLUMNS + [TGT]].dtypes"
   ]
  },
  {
   "cell_type": "markdown",
   "id": "722732e4",
   "metadata": {},
   "source": [
    "## describe attributes"
   ]
  },
  {
   "cell_type": "markdown",
   "id": "6eca4f9e",
   "metadata": {},
   "source": [
    "Tgt variable distribution"
   ]
  },
  {
   "cell_type": "code",
   "execution_count": 11,
   "id": "106f0274",
   "metadata": {
    "execution": {
     "iopub.execute_input": "2024-03-17T01:00:32.158958Z",
     "iopub.status.busy": "2024-03-17T01:00:32.158887Z",
     "iopub.status.idle": "2024-03-17T01:00:32.170767Z",
     "shell.execute_reply": "2024-03-17T01:00:32.170535Z",
     "shell.execute_reply.started": "2024-03-17T01:00:32.158951Z"
    }
   },
   "outputs": [
    {
     "data": {
      "text/plain": [
       "readmitted\n",
       "NO     54864\n",
       ">30    35545\n",
       "<30    11357\n",
       "Name: count, dtype: int64"
      ]
     },
     "execution_count": 11,
     "metadata": {},
     "output_type": "execute_result"
    }
   ],
   "source": [
    "df[TGT].value_counts()"
   ]
  },
  {
   "cell_type": "markdown",
   "id": "62e72781",
   "metadata": {},
   "source": [
    "categorical variables distribution"
   ]
  },
  {
   "cell_type": "code",
   "execution_count": 12,
   "id": "76ee1c93d464fa3e",
   "metadata": {
    "ExecuteTime": {
     "end_time": "2024-02-14T16:51:54.714117623Z",
     "start_time": "2024-02-14T16:51:54.651578742Z"
    },
    "collapsed": false,
    "execution": {
     "iopub.execute_input": "2024-03-17T01:00:32.171261Z",
     "iopub.status.busy": "2024-03-17T01:00:32.171088Z",
     "iopub.status.idle": "2024-03-17T01:00:32.201644Z",
     "shell.execute_reply": "2024-03-17T01:00:32.201369Z",
     "shell.execute_reply.started": "2024-03-17T01:00:32.171253Z"
    },
    "jupyter": {
     "outputs_hidden": false
    }
   },
   "outputs": [
    {
     "data": {
      "text/html": [
       "<div>\n",
       "<style scoped>\n",
       "    .dataframe tbody tr th:only-of-type {\n",
       "        vertical-align: middle;\n",
       "    }\n",
       "\n",
       "    .dataframe tbody tr th {\n",
       "        vertical-align: top;\n",
       "    }\n",
       "\n",
       "    .dataframe thead th {\n",
       "        text-align: right;\n",
       "    }\n",
       "</style>\n",
       "<table border=\"1\" class=\"dataframe\">\n",
       "  <thead>\n",
       "    <tr style=\"text-align: right;\">\n",
       "      <th></th>\n",
       "      <th>count</th>\n",
       "      <th>unique</th>\n",
       "      <th>top</th>\n",
       "      <th>freq</th>\n",
       "    </tr>\n",
       "  </thead>\n",
       "  <tbody>\n",
       "    <tr>\n",
       "      <th>citoglipton</th>\n",
       "      <td>101766</td>\n",
       "      <td>1</td>\n",
       "      <td>No</td>\n",
       "      <td>101766</td>\n",
       "    </tr>\n",
       "    <tr>\n",
       "      <th>examide</th>\n",
       "      <td>101766</td>\n",
       "      <td>1</td>\n",
       "      <td>No</td>\n",
       "      <td>101766</td>\n",
       "    </tr>\n",
       "    <tr>\n",
       "      <th>metformin-rosiglitazone</th>\n",
       "      <td>101766</td>\n",
       "      <td>2</td>\n",
       "      <td>No</td>\n",
       "      <td>101764</td>\n",
       "    </tr>\n",
       "    <tr>\n",
       "      <th>tolbutamide</th>\n",
       "      <td>101766</td>\n",
       "      <td>2</td>\n",
       "      <td>No</td>\n",
       "      <td>101743</td>\n",
       "    </tr>\n",
       "    <tr>\n",
       "      <th>glimepiride-pioglitazone</th>\n",
       "      <td>101766</td>\n",
       "      <td>2</td>\n",
       "      <td>No</td>\n",
       "      <td>101765</td>\n",
       "    </tr>\n",
       "    <tr>\n",
       "      <th>acetohexamide</th>\n",
       "      <td>101766</td>\n",
       "      <td>2</td>\n",
       "      <td>No</td>\n",
       "      <td>101765</td>\n",
       "    </tr>\n",
       "    <tr>\n",
       "      <th>metformin-pioglitazone</th>\n",
       "      <td>101766</td>\n",
       "      <td>2</td>\n",
       "      <td>No</td>\n",
       "      <td>101765</td>\n",
       "    </tr>\n",
       "    <tr>\n",
       "      <th>glipizide-metformin</th>\n",
       "      <td>101766</td>\n",
       "      <td>2</td>\n",
       "      <td>No</td>\n",
       "      <td>101753</td>\n",
       "    </tr>\n",
       "    <tr>\n",
       "      <th>diabetesMed</th>\n",
       "      <td>101766</td>\n",
       "      <td>2</td>\n",
       "      <td>Yes</td>\n",
       "      <td>78363</td>\n",
       "    </tr>\n",
       "    <tr>\n",
       "      <th>troglitazone</th>\n",
       "      <td>101766</td>\n",
       "      <td>2</td>\n",
       "      <td>No</td>\n",
       "      <td>101763</td>\n",
       "    </tr>\n",
       "    <tr>\n",
       "      <th>gender</th>\n",
       "      <td>101763</td>\n",
       "      <td>2</td>\n",
       "      <td>Female</td>\n",
       "      <td>54708</td>\n",
       "    </tr>\n",
       "    <tr>\n",
       "      <th>change</th>\n",
       "      <td>101766</td>\n",
       "      <td>2</td>\n",
       "      <td>No</td>\n",
       "      <td>54755</td>\n",
       "    </tr>\n",
       "    <tr>\n",
       "      <th>tolazamide</th>\n",
       "      <td>101766</td>\n",
       "      <td>3</td>\n",
       "      <td>No</td>\n",
       "      <td>101727</td>\n",
       "    </tr>\n",
       "    <tr>\n",
       "      <th>max_glu_serum</th>\n",
       "      <td>5346</td>\n",
       "      <td>3</td>\n",
       "      <td>Norm</td>\n",
       "      <td>2597</td>\n",
       "    </tr>\n",
       "    <tr>\n",
       "      <th>A1Cresult</th>\n",
       "      <td>17018</td>\n",
       "      <td>3</td>\n",
       "      <td>&gt;8</td>\n",
       "      <td>8216</td>\n",
       "    </tr>\n",
       "    <tr>\n",
       "      <th>miglitol</th>\n",
       "      <td>101766</td>\n",
       "      <td>4</td>\n",
       "      <td>No</td>\n",
       "      <td>101728</td>\n",
       "    </tr>\n",
       "    <tr>\n",
       "      <th>acarbose</th>\n",
       "      <td>101766</td>\n",
       "      <td>4</td>\n",
       "      <td>No</td>\n",
       "      <td>101458</td>\n",
       "    </tr>\n",
       "    <tr>\n",
       "      <th>rosiglitazone</th>\n",
       "      <td>101766</td>\n",
       "      <td>4</td>\n",
       "      <td>No</td>\n",
       "      <td>95401</td>\n",
       "    </tr>\n",
       "    <tr>\n",
       "      <th>pioglitazone</th>\n",
       "      <td>101766</td>\n",
       "      <td>4</td>\n",
       "      <td>No</td>\n",
       "      <td>94438</td>\n",
       "    </tr>\n",
       "    <tr>\n",
       "      <th>glyburide</th>\n",
       "      <td>101766</td>\n",
       "      <td>4</td>\n",
       "      <td>No</td>\n",
       "      <td>91116</td>\n",
       "    </tr>\n",
       "    <tr>\n",
       "      <th>nateglinide</th>\n",
       "      <td>101766</td>\n",
       "      <td>4</td>\n",
       "      <td>No</td>\n",
       "      <td>101063</td>\n",
       "    </tr>\n",
       "    <tr>\n",
       "      <th>glimepiride</th>\n",
       "      <td>101766</td>\n",
       "      <td>4</td>\n",
       "      <td>No</td>\n",
       "      <td>96575</td>\n",
       "    </tr>\n",
       "    <tr>\n",
       "      <th>chlorpropamide</th>\n",
       "      <td>101766</td>\n",
       "      <td>4</td>\n",
       "      <td>No</td>\n",
       "      <td>101680</td>\n",
       "    </tr>\n",
       "    <tr>\n",
       "      <th>insulin</th>\n",
       "      <td>101766</td>\n",
       "      <td>4</td>\n",
       "      <td>No</td>\n",
       "      <td>47383</td>\n",
       "    </tr>\n",
       "    <tr>\n",
       "      <th>repaglinide</th>\n",
       "      <td>101766</td>\n",
       "      <td>4</td>\n",
       "      <td>No</td>\n",
       "      <td>100227</td>\n",
       "    </tr>\n",
       "    <tr>\n",
       "      <th>metformin</th>\n",
       "      <td>101766</td>\n",
       "      <td>4</td>\n",
       "      <td>No</td>\n",
       "      <td>81778</td>\n",
       "    </tr>\n",
       "    <tr>\n",
       "      <th>glipizide</th>\n",
       "      <td>101766</td>\n",
       "      <td>4</td>\n",
       "      <td>No</td>\n",
       "      <td>89080</td>\n",
       "    </tr>\n",
       "    <tr>\n",
       "      <th>glyburide-metformin</th>\n",
       "      <td>101766</td>\n",
       "      <td>4</td>\n",
       "      <td>No</td>\n",
       "      <td>101060</td>\n",
       "    </tr>\n",
       "    <tr>\n",
       "      <th>race</th>\n",
       "      <td>99493</td>\n",
       "      <td>5</td>\n",
       "      <td>Caucasian</td>\n",
       "      <td>76099</td>\n",
       "    </tr>\n",
       "    <tr>\n",
       "      <th>admission_type_id</th>\n",
       "      <td>101766</td>\n",
       "      <td>8</td>\n",
       "      <td>1</td>\n",
       "      <td>53990</td>\n",
       "    </tr>\n",
       "    <tr>\n",
       "      <th>weight</th>\n",
       "      <td>3197</td>\n",
       "      <td>9</td>\n",
       "      <td>[75-100)</td>\n",
       "      <td>1336</td>\n",
       "    </tr>\n",
       "    <tr>\n",
       "      <th>age</th>\n",
       "      <td>101766</td>\n",
       "      <td>10</td>\n",
       "      <td>[70-80)</td>\n",
       "      <td>26068</td>\n",
       "    </tr>\n",
       "    <tr>\n",
       "      <th>admission_source_id</th>\n",
       "      <td>101766</td>\n",
       "      <td>17</td>\n",
       "      <td>7</td>\n",
       "      <td>57494</td>\n",
       "    </tr>\n",
       "    <tr>\n",
       "      <th>payer_code</th>\n",
       "      <td>61510</td>\n",
       "      <td>17</td>\n",
       "      <td>MC</td>\n",
       "      <td>32439</td>\n",
       "    </tr>\n",
       "    <tr>\n",
       "      <th>discharge_disposition_id</th>\n",
       "      <td>101766</td>\n",
       "      <td>26</td>\n",
       "      <td>1</td>\n",
       "      <td>60234</td>\n",
       "    </tr>\n",
       "    <tr>\n",
       "      <th>medical_specialty</th>\n",
       "      <td>51817</td>\n",
       "      <td>72</td>\n",
       "      <td>InternalMedicine</td>\n",
       "      <td>14635</td>\n",
       "    </tr>\n",
       "    <tr>\n",
       "      <th>diag_1</th>\n",
       "      <td>101745</td>\n",
       "      <td>716</td>\n",
       "      <td>428</td>\n",
       "      <td>6862</td>\n",
       "    </tr>\n",
       "    <tr>\n",
       "      <th>diag_2</th>\n",
       "      <td>101408</td>\n",
       "      <td>748</td>\n",
       "      <td>276</td>\n",
       "      <td>6752</td>\n",
       "    </tr>\n",
       "    <tr>\n",
       "      <th>diag_3</th>\n",
       "      <td>100343</td>\n",
       "      <td>789</td>\n",
       "      <td>250</td>\n",
       "      <td>11555</td>\n",
       "    </tr>\n",
       "    <tr>\n",
       "      <th>patient_nbr</th>\n",
       "      <td>101766</td>\n",
       "      <td>71518</td>\n",
       "      <td>88785891</td>\n",
       "      <td>40</td>\n",
       "    </tr>\n",
       "    <tr>\n",
       "      <th>encounter_id</th>\n",
       "      <td>101766</td>\n",
       "      <td>101766</td>\n",
       "      <td>443867222</td>\n",
       "      <td>1</td>\n",
       "    </tr>\n",
       "  </tbody>\n",
       "</table>\n",
       "</div>"
      ],
      "text/plain": [
       "                           count  unique               top    freq\n",
       "citoglipton               101766       1                No  101766\n",
       "examide                   101766       1                No  101766\n",
       "metformin-rosiglitazone   101766       2                No  101764\n",
       "tolbutamide               101766       2                No  101743\n",
       "glimepiride-pioglitazone  101766       2                No  101765\n",
       "acetohexamide             101766       2                No  101765\n",
       "metformin-pioglitazone    101766       2                No  101765\n",
       "glipizide-metformin       101766       2                No  101753\n",
       "diabetesMed               101766       2               Yes   78363\n",
       "troglitazone              101766       2                No  101763\n",
       "gender                    101763       2            Female   54708\n",
       "change                    101766       2                No   54755\n",
       "tolazamide                101766       3                No  101727\n",
       "max_glu_serum               5346       3              Norm    2597\n",
       "A1Cresult                  17018       3                >8    8216\n",
       "miglitol                  101766       4                No  101728\n",
       "acarbose                  101766       4                No  101458\n",
       "rosiglitazone             101766       4                No   95401\n",
       "pioglitazone              101766       4                No   94438\n",
       "glyburide                 101766       4                No   91116\n",
       "nateglinide               101766       4                No  101063\n",
       "glimepiride               101766       4                No   96575\n",
       "chlorpropamide            101766       4                No  101680\n",
       "insulin                   101766       4                No   47383\n",
       "repaglinide               101766       4                No  100227\n",
       "metformin                 101766       4                No   81778\n",
       "glipizide                 101766       4                No   89080\n",
       "glyburide-metformin       101766       4                No  101060\n",
       "race                       99493       5         Caucasian   76099\n",
       "admission_type_id         101766       8                 1   53990\n",
       "weight                      3197       9          [75-100)    1336\n",
       "age                       101766      10           [70-80)   26068\n",
       "admission_source_id       101766      17                 7   57494\n",
       "payer_code                 61510      17                MC   32439\n",
       "discharge_disposition_id  101766      26                 1   60234\n",
       "medical_specialty          51817      72  InternalMedicine   14635\n",
       "diag_1                    101745     716               428    6862\n",
       "diag_2                    101408     748               276    6752\n",
       "diag_3                    100343     789               250   11555\n",
       "patient_nbr               101766   71518          88785891      40\n",
       "encounter_id              101766  101766         443867222       1"
      ]
     },
     "execution_count": 12,
     "metadata": {},
     "output_type": "execute_result"
    }
   ],
   "source": [
    "df[CAT_COLUMNS].describe().T.sort_values(by=\"unique\")"
   ]
  },
  {
   "cell_type": "markdown",
   "id": "797dc2f9",
   "metadata": {},
   "source": [
    "numerical variables distribution"
   ]
  },
  {
   "cell_type": "code",
   "execution_count": 13,
   "id": "8d6e7f66293f2738",
   "metadata": {
    "ExecuteTime": {
     "end_time": "2024-02-14T16:51:48.743254489Z",
     "start_time": "2024-02-14T16:51:48.701732343Z"
    },
    "collapsed": false,
    "execution": {
     "iopub.execute_input": "2024-03-17T01:00:32.202046Z",
     "iopub.status.busy": "2024-03-17T01:00:32.201975Z",
     "iopub.status.idle": "2024-03-17T01:00:32.227518Z",
     "shell.execute_reply": "2024-03-17T01:00:32.227250Z",
     "shell.execute_reply.started": "2024-03-17T01:00:32.202039Z"
    },
    "jupyter": {
     "outputs_hidden": false
    }
   },
   "outputs": [
    {
     "data": {
      "text/html": [
       "<div>\n",
       "<style scoped>\n",
       "    .dataframe tbody tr th:only-of-type {\n",
       "        vertical-align: middle;\n",
       "    }\n",
       "\n",
       "    .dataframe tbody tr th {\n",
       "        vertical-align: top;\n",
       "    }\n",
       "\n",
       "    .dataframe thead th {\n",
       "        text-align: right;\n",
       "    }\n",
       "</style>\n",
       "<table border=\"1\" class=\"dataframe\">\n",
       "  <thead>\n",
       "    <tr style=\"text-align: right;\">\n",
       "      <th></th>\n",
       "      <th>count</th>\n",
       "      <th>mean</th>\n",
       "      <th>std</th>\n",
       "      <th>min</th>\n",
       "      <th>25%</th>\n",
       "      <th>50%</th>\n",
       "      <th>75%</th>\n",
       "      <th>80%</th>\n",
       "      <th>85%</th>\n",
       "      <th>90%</th>\n",
       "      <th>95%</th>\n",
       "      <th>99%</th>\n",
       "      <th>max</th>\n",
       "    </tr>\n",
       "  </thead>\n",
       "  <tbody>\n",
       "    <tr>\n",
       "      <th>time_in_hospital</th>\n",
       "      <td>101766.0</td>\n",
       "      <td>4.395987</td>\n",
       "      <td>2.985108</td>\n",
       "      <td>1.0</td>\n",
       "      <td>2.0</td>\n",
       "      <td>4.0</td>\n",
       "      <td>6.0</td>\n",
       "      <td>7.0</td>\n",
       "      <td>8.0</td>\n",
       "      <td>9.0</td>\n",
       "      <td>11.0</td>\n",
       "      <td>14.0</td>\n",
       "      <td>14.0</td>\n",
       "    </tr>\n",
       "    <tr>\n",
       "      <th>num_lab_procedures</th>\n",
       "      <td>101766.0</td>\n",
       "      <td>43.095641</td>\n",
       "      <td>19.674362</td>\n",
       "      <td>1.0</td>\n",
       "      <td>31.0</td>\n",
       "      <td>44.0</td>\n",
       "      <td>57.0</td>\n",
       "      <td>60.0</td>\n",
       "      <td>63.0</td>\n",
       "      <td>67.0</td>\n",
       "      <td>73.0</td>\n",
       "      <td>85.0</td>\n",
       "      <td>132.0</td>\n",
       "    </tr>\n",
       "    <tr>\n",
       "      <th>num_procedures</th>\n",
       "      <td>101766.0</td>\n",
       "      <td>1.339730</td>\n",
       "      <td>1.705807</td>\n",
       "      <td>0.0</td>\n",
       "      <td>0.0</td>\n",
       "      <td>1.0</td>\n",
       "      <td>2.0</td>\n",
       "      <td>3.0</td>\n",
       "      <td>3.0</td>\n",
       "      <td>4.0</td>\n",
       "      <td>5.0</td>\n",
       "      <td>6.0</td>\n",
       "      <td>6.0</td>\n",
       "    </tr>\n",
       "    <tr>\n",
       "      <th>num_medications</th>\n",
       "      <td>101766.0</td>\n",
       "      <td>16.021844</td>\n",
       "      <td>8.127566</td>\n",
       "      <td>1.0</td>\n",
       "      <td>10.0</td>\n",
       "      <td>15.0</td>\n",
       "      <td>20.0</td>\n",
       "      <td>22.0</td>\n",
       "      <td>24.0</td>\n",
       "      <td>26.0</td>\n",
       "      <td>31.0</td>\n",
       "      <td>43.0</td>\n",
       "      <td>81.0</td>\n",
       "    </tr>\n",
       "    <tr>\n",
       "      <th>number_outpatient</th>\n",
       "      <td>101766.0</td>\n",
       "      <td>0.369357</td>\n",
       "      <td>1.267265</td>\n",
       "      <td>0.0</td>\n",
       "      <td>0.0</td>\n",
       "      <td>0.0</td>\n",
       "      <td>0.0</td>\n",
       "      <td>0.0</td>\n",
       "      <td>1.0</td>\n",
       "      <td>1.0</td>\n",
       "      <td>2.0</td>\n",
       "      <td>5.0</td>\n",
       "      <td>42.0</td>\n",
       "    </tr>\n",
       "    <tr>\n",
       "      <th>number_emergency</th>\n",
       "      <td>101766.0</td>\n",
       "      <td>0.197836</td>\n",
       "      <td>0.930472</td>\n",
       "      <td>0.0</td>\n",
       "      <td>0.0</td>\n",
       "      <td>0.0</td>\n",
       "      <td>0.0</td>\n",
       "      <td>0.0</td>\n",
       "      <td>0.0</td>\n",
       "      <td>1.0</td>\n",
       "      <td>1.0</td>\n",
       "      <td>3.0</td>\n",
       "      <td>76.0</td>\n",
       "    </tr>\n",
       "    <tr>\n",
       "      <th>number_inpatient</th>\n",
       "      <td>101766.0</td>\n",
       "      <td>0.635566</td>\n",
       "      <td>1.262863</td>\n",
       "      <td>0.0</td>\n",
       "      <td>0.0</td>\n",
       "      <td>0.0</td>\n",
       "      <td>1.0</td>\n",
       "      <td>1.0</td>\n",
       "      <td>1.0</td>\n",
       "      <td>2.0</td>\n",
       "      <td>3.0</td>\n",
       "      <td>6.0</td>\n",
       "      <td>21.0</td>\n",
       "    </tr>\n",
       "    <tr>\n",
       "      <th>number_diagnoses</th>\n",
       "      <td>101766.0</td>\n",
       "      <td>7.422607</td>\n",
       "      <td>1.933600</td>\n",
       "      <td>1.0</td>\n",
       "      <td>6.0</td>\n",
       "      <td>8.0</td>\n",
       "      <td>9.0</td>\n",
       "      <td>9.0</td>\n",
       "      <td>9.0</td>\n",
       "      <td>9.0</td>\n",
       "      <td>9.0</td>\n",
       "      <td>9.0</td>\n",
       "      <td>16.0</td>\n",
       "    </tr>\n",
       "  </tbody>\n",
       "</table>\n",
       "</div>"
      ],
      "text/plain": [
       "                       count       mean        std  min   25%   50%   75%  \\\n",
       "time_in_hospital    101766.0   4.395987   2.985108  1.0   2.0   4.0   6.0   \n",
       "num_lab_procedures  101766.0  43.095641  19.674362  1.0  31.0  44.0  57.0   \n",
       "num_procedures      101766.0   1.339730   1.705807  0.0   0.0   1.0   2.0   \n",
       "num_medications     101766.0  16.021844   8.127566  1.0  10.0  15.0  20.0   \n",
       "number_outpatient   101766.0   0.369357   1.267265  0.0   0.0   0.0   0.0   \n",
       "number_emergency    101766.0   0.197836   0.930472  0.0   0.0   0.0   0.0   \n",
       "number_inpatient    101766.0   0.635566   1.262863  0.0   0.0   0.0   1.0   \n",
       "number_diagnoses    101766.0   7.422607   1.933600  1.0   6.0   8.0   9.0   \n",
       "\n",
       "                     80%   85%   90%   95%   99%    max  \n",
       "time_in_hospital     7.0   8.0   9.0  11.0  14.0   14.0  \n",
       "num_lab_procedures  60.0  63.0  67.0  73.0  85.0  132.0  \n",
       "num_procedures       3.0   3.0   4.0   5.0   6.0    6.0  \n",
       "num_medications     22.0  24.0  26.0  31.0  43.0   81.0  \n",
       "number_outpatient    0.0   1.0   1.0   2.0   5.0   42.0  \n",
       "number_emergency     0.0   0.0   1.0   1.0   3.0   76.0  \n",
       "number_inpatient     1.0   1.0   2.0   3.0   6.0   21.0  \n",
       "number_diagnoses     9.0   9.0   9.0   9.0   9.0   16.0  "
      ]
     },
     "execution_count": 13,
     "metadata": {},
     "output_type": "execute_result"
    }
   ],
   "source": [
    "percentiles = [.25, .5, .75, .8, .85, .9, .95, .99]\n",
    "df[NUM_COLUMNS].describe(percentiles).T"
   ]
  },
  {
   "cell_type": "markdown",
   "id": "512f4f85-4cc1-49f7-a46a-4cd45acaaee7",
   "metadata": {
    "id": "leLeSgzKF9z2"
   },
   "source": [
    "# Data Cleaning"
   ]
  },
  {
   "cell_type": "markdown",
   "id": "2a3f6059",
   "metadata": {},
   "source": [
    "### Duplicates rows"
   ]
  },
  {
   "cell_type": "code",
   "execution_count": 14,
   "id": "68b1568e",
   "metadata": {
    "execution": {
     "iopub.execute_input": "2024-03-17T01:00:32.227935Z",
     "iopub.status.busy": "2024-03-17T01:00:32.227861Z",
     "iopub.status.idle": "2024-03-17T01:00:32.260631Z",
     "shell.execute_reply": "2024-03-17T01:00:32.260389Z",
     "shell.execute_reply.started": "2024-03-17T01:00:32.227928Z"
    }
   },
   "outputs": [
    {
     "data": {
      "text/plain": [
       "0"
      ]
     },
     "execution_count": 14,
     "metadata": {},
     "output_type": "execute_result"
    }
   ],
   "source": [
    "df.duplicated().sum()"
   ]
  },
  {
   "cell_type": "markdown",
   "id": "4063c635",
   "metadata": {},
   "source": [
    "The dataset has no duplicate rows"
   ]
  },
  {
   "cell_type": "markdown",
   "id": "8baae251-c799-44b4-b0c9-528962a72baf",
   "metadata": {},
   "source": [
    "## Irrelevant features"
   ]
  },
  {
   "cell_type": "markdown",
   "id": "c96ccd28",
   "metadata": {},
   "source": [
    "The columns `weight`, `max_glu_serum` and `A1result` can be removed due to a considerable **proportion of nulls**."
   ]
  },
  {
   "cell_type": "code",
   "execution_count": 15,
   "id": "02b0fca6",
   "metadata": {
    "execution": {
     "iopub.execute_input": "2024-03-17T01:00:32.261042Z",
     "iopub.status.busy": "2024-03-17T01:00:32.260969Z",
     "iopub.status.idle": "2024-03-17T01:00:32.271419Z",
     "shell.execute_reply": "2024-03-17T01:00:32.271111Z",
     "shell.execute_reply.started": "2024-03-17T01:00:32.261035Z"
    }
   },
   "outputs": [],
   "source": [
    "df = df.drop(columns=[\"weight\", \"max_glu_serum\", \"A1Cresult\"])\n",
    "CAT_COLUMNS.remove(\"weight\")\n",
    "CAT_COLUMNS.remove(\"max_glu_serum\")\n",
    "CAT_COLUMNS.remove(\"A1Cresult\")"
   ]
  },
  {
   "cell_type": "markdown",
   "id": "438d6f821e6b3a64",
   "metadata": {
    "collapsed": false,
    "jupyter": {
     "outputs_hidden": false
    }
   },
   "source": [
    "`encounter_id` has one value for each row, consistent with the definition \"Unique identifier of an encounter\". We can remove it."
   ]
  },
  {
   "cell_type": "code",
   "execution_count": 16,
   "id": "6835564294273a56",
   "metadata": {
    "ExecuteTime": {
     "end_time": "2024-02-14T16:51:48.689091601Z",
     "start_time": "2024-02-14T16:51:48.677145543Z"
    },
    "collapsed": false,
    "execution": {
     "iopub.execute_input": "2024-03-17T01:00:32.271856Z",
     "iopub.status.busy": "2024-03-17T01:00:32.271784Z",
     "iopub.status.idle": "2024-03-17T01:00:32.281715Z",
     "shell.execute_reply": "2024-03-17T01:00:32.281437Z",
     "shell.execute_reply.started": "2024-03-17T01:00:32.271849Z"
    },
    "jupyter": {
     "outputs_hidden": false
    }
   },
   "outputs": [],
   "source": [
    "df = df.drop(columns=[\"encounter_id\"], errors=\"ignore\")\n",
    "CAT_COLUMNS.remove(\"encounter_id\")"
   ]
  },
  {
   "cell_type": "markdown",
   "id": "5458d7820a0f30a",
   "metadata": {
    "collapsed": false,
    "jupyter": {
     "outputs_hidden": false
    }
   },
   "source": [
    "`citoglipton` and `examide` have only one value for all the rows, so we can remove them from the dataset"
   ]
  },
  {
   "cell_type": "code",
   "execution_count": 17,
   "id": "d76a7d321920f0d8",
   "metadata": {
    "ExecuteTime": {
     "end_time": "2024-02-14T16:51:48.713328530Z",
     "start_time": "2024-02-14T16:51:48.689420954Z"
    },
    "collapsed": false,
    "execution": {
     "iopub.execute_input": "2024-03-17T01:00:32.282123Z",
     "iopub.status.busy": "2024-03-17T01:00:32.282046Z",
     "iopub.status.idle": "2024-03-17T01:00:32.292023Z",
     "shell.execute_reply": "2024-03-17T01:00:32.291777Z",
     "shell.execute_reply.started": "2024-03-17T01:00:32.282117Z"
    },
    "jupyter": {
     "outputs_hidden": false
    }
   },
   "outputs": [],
   "source": [
    "df = df.drop(columns=[\"citoglipton\", \"examide\"], errors=\"ignore\")\n",
    "CAT_COLUMNS.remove(\"citoglipton\")\n",
    "CAT_COLUMNS.remove(\"examide\")"
   ]
  },
  {
   "cell_type": "markdown",
   "id": "31331e23-3273-43ae-aae6-15761f7558e3",
   "metadata": {},
   "source": [
    "`patient_nbr` is the \"Unique identifier of a patient\" (by the dataset definition). We can remove it."
   ]
  },
  {
   "cell_type": "code",
   "execution_count": 18,
   "id": "db930d7d-cd0e-4751-b6bf-8da2cd6bcaca",
   "metadata": {
    "ExecuteTime": {
     "end_time": "2024-02-14T16:51:48.713328530Z",
     "start_time": "2024-02-14T16:51:48.689420954Z"
    },
    "collapsed": false,
    "execution": {
     "iopub.execute_input": "2024-03-17T01:00:32.292502Z",
     "iopub.status.busy": "2024-03-17T01:00:32.292358Z",
     "iopub.status.idle": "2024-03-17T01:00:32.302209Z",
     "shell.execute_reply": "2024-03-17T01:00:32.301962Z",
     "shell.execute_reply.started": "2024-03-17T01:00:32.292495Z"
    },
    "jupyter": {
     "outputs_hidden": false
    }
   },
   "outputs": [],
   "source": [
    "df = df.drop(columns=[\"patient_nbr\"], errors=\"ignore\")\n",
    "CAT_COLUMNS.remove(\"patient_nbr\")"
   ]
  },
  {
   "cell_type": "markdown",
   "id": "21bb6e4f",
   "metadata": {},
   "source": [
    "dropping a bunch of columns due to SUPER skewed distribution. They can be removed without losing much information, basically each of the points that has the levels in these columns will be considered outliers"
   ]
  },
  {
   "cell_type": "code",
   "execution_count": 19,
   "id": "fb6c3aee",
   "metadata": {
    "execution": {
     "iopub.execute_input": "2024-03-17T01:00:32.302745Z",
     "iopub.status.busy": "2024-03-17T01:00:32.302547Z",
     "iopub.status.idle": "2024-03-17T01:00:32.335464Z",
     "shell.execute_reply": "2024-03-17T01:00:32.335227Z",
     "shell.execute_reply.started": "2024-03-17T01:00:32.302737Z"
    }
   },
   "outputs": [
    {
     "data": {
      "text/plain": [
       "nateglinide\n",
       "No        101063\n",
       "Steady       668\n",
       "Up            24\n",
       "Down          11\n",
       "Name: count, dtype: int64"
      ]
     },
     "metadata": {},
     "output_type": "display_data"
    },
    {
     "data": {
      "text/plain": [
       "chlorpropamide\n",
       "No        101680\n",
       "Steady        79\n",
       "Up             6\n",
       "Down           1\n",
       "Name: count, dtype: int64"
      ]
     },
     "metadata": {},
     "output_type": "display_data"
    },
    {
     "data": {
      "text/plain": [
       "acetohexamide\n",
       "No        101765\n",
       "Steady         1\n",
       "Name: count, dtype: int64"
      ]
     },
     "metadata": {},
     "output_type": "display_data"
    },
    {
     "data": {
      "text/plain": [
       "tolbutamide\n",
       "No        101743\n",
       "Steady        23\n",
       "Name: count, dtype: int64"
      ]
     },
     "metadata": {},
     "output_type": "display_data"
    },
    {
     "data": {
      "text/plain": [
       "acarbose\n",
       "No        101458\n",
       "Steady       295\n",
       "Up            10\n",
       "Down           3\n",
       "Name: count, dtype: int64"
      ]
     },
     "metadata": {},
     "output_type": "display_data"
    },
    {
     "data": {
      "text/plain": [
       "miglitol\n",
       "No        101728\n",
       "Steady        31\n",
       "Down           5\n",
       "Up             2\n",
       "Name: count, dtype: int64"
      ]
     },
     "metadata": {},
     "output_type": "display_data"
    },
    {
     "data": {
      "text/plain": [
       "troglitazone\n",
       "No        101763\n",
       "Steady         3\n",
       "Name: count, dtype: int64"
      ]
     },
     "metadata": {},
     "output_type": "display_data"
    },
    {
     "data": {
      "text/plain": [
       "tolazamide\n",
       "No        101727\n",
       "Steady        38\n",
       "Up             1\n",
       "Name: count, dtype: int64"
      ]
     },
     "metadata": {},
     "output_type": "display_data"
    },
    {
     "data": {
      "text/plain": [
       "glipizide-metformin\n",
       "No        101753\n",
       "Steady        13\n",
       "Name: count, dtype: int64"
      ]
     },
     "metadata": {},
     "output_type": "display_data"
    },
    {
     "data": {
      "text/plain": [
       "glimepiride-pioglitazone\n",
       "No        101765\n",
       "Steady         1\n",
       "Name: count, dtype: int64"
      ]
     },
     "metadata": {},
     "output_type": "display_data"
    },
    {
     "data": {
      "text/plain": [
       "metformin-rosiglitazone\n",
       "No        101764\n",
       "Steady         2\n",
       "Name: count, dtype: int64"
      ]
     },
     "metadata": {},
     "output_type": "display_data"
    },
    {
     "data": {
      "text/plain": [
       "metformin-pioglitazone\n",
       "No        101765\n",
       "Steady         1\n",
       "Name: count, dtype: int64"
      ]
     },
     "metadata": {},
     "output_type": "display_data"
    }
   ],
   "source": [
    "DROP_CAT_COLUMNS = [\n",
    "    \"nateglinide\", # prop: 11:24:668:101063\n",
    "    \"chlorpropamide\", # prop: 1:6:79:101680\n",
    "    \"acetohexamide\", # prop: 1:101765\n",
    "    \"tolbutamide\", # prop: 23:101742\n",
    "    \"acarbose\", # prop: 3:10:295:101458\n",
    "    \"miglitol\", # prop 2:5:31:101728\n",
    "    \"troglitazone\", # prop: 3:101763\n",
    "    \"tolazamide\", # prop 1:38:101727\n",
    "    \"glipizide-metformin\", # prop: 13:101753\n",
    "    \"glimepiride-pioglitazone\", # prop: 1:101765\n",
    "    \"metformin-rosiglitazone\", # prop: 2:101764\n",
    "    \"metformin-pioglitazone\", # prop: 1:101765 \n",
    "]\n",
    "\n",
    "for c in DROP_CAT_COLUMNS:\n",
    "    display(df[c].value_counts())\n",
    "    df = df.drop(columns=[c], errors=\"ignore\")\n",
    "    CAT_COLUMNS.remove(c)"
   ]
  },
  {
   "cell_type": "markdown",
   "id": "cbab665e",
   "metadata": {},
   "source": [
    "## Remaining missing values"
   ]
  },
  {
   "cell_type": "markdown",
   "id": "e9f31531",
   "metadata": {},
   "source": [
    "After handling with irrelevant features 7 columns remained with null values (gender, race, payer_code, medical_specialty, diag_1, diag_2, diag_3).\n",
    "\n",
    "- payer code and medical specialty we will keep it! as they are, if the ML model that you choose cannot handle with null values, **REMOVE THESE COLUMNS**.\n",
    "- diag_1, diag_2, diag_3 we will remove the rows\n",
    "- race and gender we will do random sample imputation\n"
   ]
  },
  {
   "cell_type": "markdown",
   "id": "2c26d97a",
   "metadata": {},
   "source": [
    "`Medical_specialty` and `payer_code` were not removed, but it could be. They have a high number of null variables but they also carry a considerable amount of variance that can be useful for the models"
   ]
  },
  {
   "cell_type": "code",
   "execution_count": 20,
   "id": "b494765e",
   "metadata": {
    "execution": {
     "iopub.execute_input": "2024-03-17T01:00:32.335854Z",
     "iopub.status.busy": "2024-03-17T01:00:32.335783Z",
     "iopub.status.idle": "2024-03-17T01:00:32.346326Z",
     "shell.execute_reply": "2024-03-17T01:00:32.346125Z",
     "shell.execute_reply.started": "2024-03-17T01:00:32.335846Z"
    }
   },
   "outputs": [
    {
     "data": {
      "text/plain": [
       "medical_specialty            \n",
       "InternalMedicine                 14635\n",
       "Emergency/Trauma                  7565\n",
       "Family/GeneralPractice            7440\n",
       "Cardiology                        5352\n",
       "Surgery-General                   3099\n",
       "                                 ...  \n",
       "Psychiatry-Addictive                 1\n",
       "Neurophysiology                      1\n",
       "Pediatrics-InfectiousDiseases        1\n",
       "SportsMedicine                       1\n",
       "Speech                               1\n",
       "Name: count, Length: 72, dtype: int64"
      ]
     },
     "execution_count": 20,
     "metadata": {},
     "output_type": "execute_result"
    }
   ],
   "source": [
    "df[[\"medical_specialty\"]].value_counts()"
   ]
  },
  {
   "cell_type": "code",
   "execution_count": 21,
   "id": "e9c88c61",
   "metadata": {
    "execution": {
     "iopub.execute_input": "2024-03-17T01:00:32.346788Z",
     "iopub.status.busy": "2024-03-17T01:00:32.346608Z",
     "iopub.status.idle": "2024-03-17T01:00:32.354999Z",
     "shell.execute_reply": "2024-03-17T01:00:32.354806Z",
     "shell.execute_reply.started": "2024-03-17T01:00:32.346781Z"
    }
   },
   "outputs": [
    {
     "data": {
      "text/plain": [
       "payer_code\n",
       "MC            32439\n",
       "HM             6274\n",
       "SP             5007\n",
       "BC             4655\n",
       "MD             3532\n",
       "CP             2533\n",
       "UN             2448\n",
       "CM             1937\n",
       "OG             1033\n",
       "PO              592\n",
       "DM              549\n",
       "CH              146\n",
       "WC              135\n",
       "OT               95\n",
       "MP               79\n",
       "SI               55\n",
       "FR                1\n",
       "Name: count, dtype: int64"
      ]
     },
     "execution_count": 21,
     "metadata": {},
     "output_type": "execute_result"
    }
   ],
   "source": [
    "df[[\"payer_code\"]].value_counts()"
   ]
  },
  {
   "cell_type": "markdown",
   "id": "3f7d90ad",
   "metadata": {},
   "source": [
    "regarding the null values in the columns `diag_3`, `diag_2`, `diag_1` we will drop those rows.\n",
    "These count for 1522 out of 101766, around 1.5%. These columns show a high level of complexity (many levels), thus the impact of removing those records rather then doing any type of imputation will be minimal."
   ]
  },
  {
   "cell_type": "code",
   "execution_count": 22,
   "id": "8b58fc5e",
   "metadata": {
    "execution": {
     "iopub.execute_input": "2024-03-17T01:00:32.355308Z",
     "iopub.status.busy": "2024-03-17T01:00:32.355242Z",
     "iopub.status.idle": "2024-03-17T01:00:32.362868Z",
     "shell.execute_reply": "2024-03-17T01:00:32.362682Z",
     "shell.execute_reply.started": "2024-03-17T01:00:32.355302Z"
    }
   },
   "outputs": [
    {
     "data": {
      "text/plain": [
       "(1522, 31)"
      ]
     },
     "execution_count": 22,
     "metadata": {},
     "output_type": "execute_result"
    }
   ],
   "source": [
    "df[df.diag_3.isnull() | df.diag_2.isnull() | df.diag_1.isnull()].shape"
   ]
  },
  {
   "cell_type": "code",
   "execution_count": 23,
   "id": "19e22793",
   "metadata": {
    "execution": {
     "iopub.execute_input": "2024-03-17T01:00:32.363287Z",
     "iopub.status.busy": "2024-03-17T01:00:32.363128Z",
     "iopub.status.idle": "2024-03-17T01:00:32.372427Z",
     "shell.execute_reply": "2024-03-17T01:00:32.372167Z",
     "shell.execute_reply.started": "2024-03-17T01:00:32.363281Z"
    }
   },
   "outputs": [],
   "source": [
    "df = df.dropna(subset=[\"diag_3\", \"diag_2\", \"diag_1\"])"
   ]
  },
  {
   "cell_type": "markdown",
   "id": "6a3f6cb2",
   "metadata": {},
   "source": [
    "regarding the null values in race, we will run random sample imputation (sampling from the race and gender distribution - the mode has the highest chance to be chosen)."
   ]
  },
  {
   "cell_type": "code",
   "execution_count": 24,
   "id": "0e352c7f",
   "metadata": {
    "execution": {
     "iopub.execute_input": "2024-03-17T01:00:32.372929Z",
     "iopub.status.busy": "2024-03-17T01:00:32.372781Z",
     "iopub.status.idle": "2024-03-17T01:00:32.382785Z",
     "shell.execute_reply": "2024-03-17T01:00:32.382506Z",
     "shell.execute_reply.started": "2024-03-17T01:00:32.372922Z"
    }
   },
   "outputs": [],
   "source": [
    "# race\n",
    "valid_races = df.race.dropna().values\n",
    "missing_values_indices = df.race.isna()\n",
    "race_sample = np.random.choice(valid_races, missing_values_indices.sum())\n",
    "\n",
    "df.loc[missing_values_indices, \"race\"] = race_sample"
   ]
  },
  {
   "cell_type": "code",
   "execution_count": 25,
   "id": "497193e1",
   "metadata": {},
   "outputs": [],
   "source": [
    "# gender\n",
    "valid_genders = df.gender.dropna().values\n",
    "missing_values_indices = df.gender.isna()\n",
    "gender_sample = np.random.choice(valid_genders, missing_values_indices.sum())\n",
    "\n",
    "df.loc[missing_values_indices, \"gender\"] = gender_sample"
   ]
  },
  {
   "cell_type": "markdown",
   "id": "5a8c25b9",
   "metadata": {},
   "source": [
    "null values in the dataset"
   ]
  },
  {
   "cell_type": "code",
   "execution_count": 26,
   "id": "8bac3c83",
   "metadata": {
    "execution": {
     "iopub.execute_input": "2024-03-17T01:00:32.383274Z",
     "iopub.status.busy": "2024-03-17T01:00:32.383127Z",
     "iopub.status.idle": "2024-03-17T01:00:32.394645Z",
     "shell.execute_reply": "2024-03-17T01:00:32.394427Z",
     "shell.execute_reply.started": "2024-03-17T01:00:32.383266Z"
    }
   },
   "outputs": [
    {
     "data": {
      "text/plain": [
       "race                            0\n",
       "gender                          0\n",
       "age                             0\n",
       "admission_type_id               0\n",
       "discharge_disposition_id        0\n",
       "admission_source_id             0\n",
       "time_in_hospital                0\n",
       "payer_code                  39455\n",
       "medical_specialty           49482\n",
       "num_lab_procedures              0\n",
       "num_procedures                  0\n",
       "num_medications                 0\n",
       "number_outpatient               0\n",
       "number_emergency                0\n",
       "number_inpatient                0\n",
       "diag_1                          0\n",
       "diag_2                          0\n",
       "diag_3                          0\n",
       "number_diagnoses                0\n",
       "metformin                       0\n",
       "repaglinide                     0\n",
       "glimepiride                     0\n",
       "glipizide                       0\n",
       "glyburide                       0\n",
       "pioglitazone                    0\n",
       "rosiglitazone                   0\n",
       "insulin                         0\n",
       "glyburide-metformin             0\n",
       "change                          0\n",
       "diabetesMed                     0\n",
       "readmitted                      0\n",
       "dtype: int64"
      ]
     },
     "execution_count": 26,
     "metadata": {},
     "output_type": "execute_result"
    }
   ],
   "source": [
    "df.isna().sum()"
   ]
  },
  {
   "cell_type": "markdown",
   "id": "229a8d88",
   "metadata": {},
   "source": [
    "## Data type transformation"
   ]
  },
  {
   "cell_type": "markdown",
   "id": "476adfc2",
   "metadata": {},
   "source": [
    "There is no much to be done here, though there is one thing that I think it is helpful just to show them that we are using all the things they teach."
   ]
  },
  {
   "cell_type": "code",
   "execution_count": 27,
   "id": "b016f9b4",
   "metadata": {
    "execution": {
     "iopub.execute_input": "2024-03-17T01:00:32.395133Z",
     "iopub.status.busy": "2024-03-17T01:00:32.394981Z",
     "iopub.status.idle": "2024-03-17T01:00:32.404006Z",
     "shell.execute_reply": "2024-03-17T01:00:32.403781Z",
     "shell.execute_reply.started": "2024-03-17T01:00:32.395125Z"
    }
   },
   "outputs": [
    {
     "name": "stdout",
     "output_type": "stream",
     "text": [
      "metformin                 : Index(['Down', 'No', 'Steady', 'Up'], dtype='object')\n",
      "repaglinide               : Index(['Down', 'No', 'Steady', 'Up'], dtype='object')\n",
      "glimepiride               : Index(['Down', 'No', 'Steady', 'Up'], dtype='object')\n",
      "glipizide                 : Index(['Down', 'No', 'Steady', 'Up'], dtype='object')\n",
      "glyburide                 : Index(['Down', 'No', 'Steady', 'Up'], dtype='object')\n",
      "pioglitazone              : Index(['Down', 'No', 'Steady', 'Up'], dtype='object')\n",
      "rosiglitazone             : Index(['Down', 'No', 'Steady', 'Up'], dtype='object')\n",
      "insulin                   : Index(['Down', 'No', 'Steady', 'Up'], dtype='object')\n",
      "glyburide-metformin       : Index(['Down', 'No', 'Steady', 'Up'], dtype='object')\n"
     ]
    }
   ],
   "source": [
    "MEDICINE_COLUMNS = [\n",
    "    \"metformin\", \"repaglinide\", \n",
    "    # \"nateglinide\", \"chlorpropamide\", \n",
    "    \"glimepiride\", \n",
    "    #\"acetohexamide\", \n",
    "    \"glipizide\", \"glyburide\", \n",
    "    #\"tolbutamide\", \n",
    "    \"pioglitazone\", \"rosiglitazone\", \n",
    "    #\"acarbose\", \"miglitol\", \"troglitazone\", \"tolazamide\",\n",
    "    \"insulin\", \"glyburide-metformin\",\n",
    "    #\"glipizide-metformin\", \"glimepiride-pioglitazone\", \"metformin-rosiglitazone\", \"metformin-pioglitazone\"\n",
    "]\n",
    "\n",
    "for c in MEDICINE_COLUMNS:\n",
    "    print(f\"{c:25s} : {df[c].cat.categories}\")"
   ]
  },
  {
   "cell_type": "markdown",
   "id": "e2406ba5",
   "metadata": {},
   "source": [
    "all this \"medicine columns\" they have categories that have a type of order, this might be a good opportunity to do a *data type transformation from nominal to ordinal*, and this is what I will do.\n",
    "\n",
    "We can say that \"No\" is lower than \"Down\", \"Down\" is lower than \"Steady\", and \"Steady\" is lower than \"Up\", so this will be the order."
   ]
  },
  {
   "cell_type": "code",
   "execution_count": 28,
   "id": "b230b533",
   "metadata": {
    "execution": {
     "iopub.execute_input": "2024-03-17T01:00:32.404387Z",
     "iopub.status.busy": "2024-03-17T01:00:32.404319Z",
     "iopub.status.idle": "2024-03-17T01:00:32.413819Z",
     "shell.execute_reply": "2024-03-17T01:00:32.413556Z",
     "shell.execute_reply.started": "2024-03-17T01:00:32.404380Z"
    }
   },
   "outputs": [],
   "source": [
    "# cast glimepiride from category to int type following this order ['No', 'Down', 'Steady', 'Up']\n",
    "from pandas.api.types import CategoricalDtype\n",
    "\n",
    "medicine_levels = CategoricalDtype(categories=['No', 'Down', 'Steady', 'Up'], ordered=True)\n",
    "\n",
    "for c in MEDICINE_COLUMNS:\n",
    "    df[c] = df[c].astype(medicine_levels)"
   ]
  },
  {
   "cell_type": "markdown",
   "id": "e2b52c8a",
   "metadata": {},
   "source": [
    "This is great because we reduce a lot the numbers of categorical variables!"
   ]
  },
  {
   "cell_type": "markdown",
   "id": "60ffb81e",
   "metadata": {},
   "source": [
    "One more thing can be done. The column `Change` and `DiabetesMed` can be converted to 0 and 1"
   ]
  },
  {
   "cell_type": "code",
   "execution_count": 29,
   "id": "ec92600c",
   "metadata": {
    "execution": {
     "iopub.execute_input": "2024-03-17T01:00:32.415016Z",
     "iopub.status.busy": "2024-03-17T01:00:32.414863Z",
     "iopub.status.idle": "2024-03-17T01:00:32.423023Z",
     "shell.execute_reply": "2024-03-17T01:00:32.422809Z",
     "shell.execute_reply.started": "2024-03-17T01:00:32.415009Z"
    }
   },
   "outputs": [],
   "source": [
    "df.change = df.change == \"Ch\"\n",
    "df.diabetesMed = df.diabetesMed == \"Yes\""
   ]
  },
  {
   "cell_type": "markdown",
   "id": "fb29169a-58ef-4bff-b0a7-fabfd55b8a62",
   "metadata": {},
   "source": [
    "## Outliers"
   ]
  },
  {
   "cell_type": "markdown",
   "id": "a9110d31",
   "metadata": {},
   "source": [
    "### Not skewed numerical columns"
   ]
  },
  {
   "cell_type": "code",
   "execution_count": 30,
   "id": "5caabf1b",
   "metadata": {
    "execution": {
     "iopub.execute_input": "2024-03-17T01:00:32.423445Z",
     "iopub.status.busy": "2024-03-17T01:00:32.423376Z",
     "iopub.status.idle": "2024-03-17T01:00:32.838051Z",
     "shell.execute_reply": "2024-03-17T01:00:32.837750Z",
     "shell.execute_reply.started": "2024-03-17T01:00:32.423439Z"
    }
   },
   "outputs": [
    {
     "data": {
      "image/png": "[encoded data removed]",
      "text/plain": [
       "<Figure size 1600x600 with 8 Axes>"
      ]
     },
     "metadata": {},
     "output_type": "display_data"
    }
   ],
   "source": [
    "# print df hist exactly as the one above but with 4 columns\n",
    "fig, axes = plt.subplots(nrows=2, ncols=4, figsize=(16, 6), constrained_layout=True)\n",
    "for i, col in enumerate(NUM_COLUMNS):\n",
    "    df[col].plot(kind='hist', bins=30, ax=axes[i//4, i%4], title=col)"
   ]
  },
  {
   "cell_type": "markdown",
   "id": "9bfa7ee8",
   "metadata": {},
   "source": [
    "IQR will work well for some of this columns, but not for all\n",
    "\n",
    "`time_in_hospital`, `num_lab_procedures`, `num_procedures`, `num_medications`, `number_diagnoses` are the ones we will use IQR"
   ]
  },
  {
   "cell_type": "code",
   "execution_count": 31,
   "id": "981e5c8f",
   "metadata": {
    "execution": {
     "iopub.execute_input": "2024-03-17T01:00:32.838509Z",
     "iopub.status.busy": "2024-03-17T01:00:32.838432Z",
     "iopub.status.idle": "2024-03-17T01:00:32.861423Z",
     "shell.execute_reply": "2024-03-17T01:00:32.861189Z",
     "shell.execute_reply.started": "2024-03-17T01:00:32.838502Z"
    }
   },
   "outputs": [
    {
     "name": "stdout",
     "output_type": "stream",
     "text": [
      "not skewed columns - IQR method\n"
     ]
    },
    {
     "data": {
      "text/html": [
       "<style type=\"text/css\">\n",
       "</style>\n",
       "<table id=\"T_4d467\">\n",
       "  <thead>\n",
       "    <tr>\n",
       "      <th id=\"T_4d467_level0_col0\" class=\"col_heading level0 col0\" >attribute</th>\n",
       "      <th id=\"T_4d467_level0_col1\" class=\"col_heading level0 col1\" >outliers</th>\n",
       "    </tr>\n",
       "  </thead>\n",
       "  <tbody>\n",
       "    <tr>\n",
       "      <td id=\"T_4d467_row0_col0\" class=\"data row0 col0\" >time_in_hospital</td>\n",
       "      <td id=\"T_4d467_row0_col1\" class=\"data row0 col1\" >2246</td>\n",
       "    </tr>\n",
       "    <tr>\n",
       "      <td id=\"T_4d467_row1_col0\" class=\"data row1 col0\" >num_lab_procedures</td>\n",
       "      <td id=\"T_4d467_row1_col1\" class=\"data row1 col1\" >217</td>\n",
       "    </tr>\n",
       "    <tr>\n",
       "      <td id=\"T_4d467_row2_col0\" class=\"data row2 col0\" >num_procedures</td>\n",
       "      <td id=\"T_4d467_row2_col1\" class=\"data row2 col1\" >4940</td>\n",
       "    </tr>\n",
       "    <tr>\n",
       "      <td id=\"T_4d467_row3_col0\" class=\"data row3 col0\" >num_medications</td>\n",
       "      <td id=\"T_4d467_row3_col1\" class=\"data row3 col1\" >3396</td>\n",
       "    </tr>\n",
       "    <tr>\n",
       "      <td id=\"T_4d467_row4_col0\" class=\"data row4 col0\" >number_diagnoses</td>\n",
       "      <td id=\"T_4d467_row4_col1\" class=\"data row4 col1\" >62</td>\n",
       "    </tr>\n",
       "  </tbody>\n",
       "</table>\n"
      ],
      "text/plain": [
       "<pandas.io.formats.style.Styler at 0x788b4a929b90>"
      ]
     },
     "metadata": {},
     "output_type": "display_data"
    },
    {
     "data": {
      "text/html": [
       "<style type=\"text/css\">\n",
       "</style>\n",
       "<table id=\"T_6cc89\">\n",
       "  <thead>\n",
       "    <tr>\n",
       "      <th id=\"T_6cc89_level0_col0\" class=\"col_heading level0 col0\" >attibute with outlier</th>\n",
       "      <th id=\"T_6cc89_level0_col1\" class=\"col_heading level0 col1\" >number of rows</th>\n",
       "    </tr>\n",
       "  </thead>\n",
       "  <tbody>\n",
       "    <tr>\n",
       "      <td id=\"T_6cc89_row0_col0\" class=\"data row0 col0\" >0</td>\n",
       "      <td id=\"T_6cc89_row0_col1\" class=\"data row0 col1\" >91134</td>\n",
       "    </tr>\n",
       "    <tr>\n",
       "      <td id=\"T_6cc89_row1_col0\" class=\"data row1 col0\" >1</td>\n",
       "      <td id=\"T_6cc89_row1_col1\" class=\"data row1 col1\" >7563</td>\n",
       "    </tr>\n",
       "    <tr>\n",
       "      <td id=\"T_6cc89_row2_col0\" class=\"data row2 col0\" >2</td>\n",
       "      <td id=\"T_6cc89_row2_col1\" class=\"data row2 col1\" >1349</td>\n",
       "    </tr>\n",
       "    <tr>\n",
       "      <td id=\"T_6cc89_row3_col0\" class=\"data row3 col0\" >3</td>\n",
       "      <td id=\"T_6cc89_row3_col1\" class=\"data row3 col1\" >192</td>\n",
       "    </tr>\n",
       "    <tr>\n",
       "      <td id=\"T_6cc89_row4_col0\" class=\"data row4 col0\" >4</td>\n",
       "      <td id=\"T_6cc89_row4_col1\" class=\"data row4 col1\" >6</td>\n",
       "    </tr>\n",
       "  </tbody>\n",
       "</table>\n"
      ],
      "text/plain": [
       "<pandas.io.formats.style.Styler at 0x788b4a5df410>"
      ]
     },
     "metadata": {},
     "output_type": "display_data"
    }
   ],
   "source": [
    "\n",
    "NOT_SKEWED_COLUMNS = [\"time_in_hospital\", \"num_lab_procedures\", \"num_procedures\", \"num_medications\", \"number_diagnoses\"]\n",
    "\n",
    "Q1 = df[NOT_SKEWED_COLUMNS].quantile(.25)\n",
    "Q3 = df[NOT_SKEWED_COLUMNS].quantile(.75)\n",
    "IQR = Q3 - Q1\n",
    "\n",
    "outliers_iqr = (df[NOT_SKEWED_COLUMNS] < (Q1 - 1.5 * IQR)) | (df[NOT_SKEWED_COLUMNS] > (Q3 + 1.5 * IQR))\n",
    "\n",
    "print(\"not skewed columns - IQR method\")\n",
    "\n",
    "outs = outliers_iqr.sum().reset_index().rename(columns={\"index\": \"attribute\", 0: \"outliers\"})\n",
    "display_df(outs)\n",
    "\n",
    "outs = outliers_iqr.sum(axis=1).value_counts().reset_index().rename(columns={\"index\": \"attibute with outlier\", \"count\": \"number of rows\"})\n",
    "display_df(outs)"
   ]
  },
  {
   "cell_type": "markdown",
   "id": "15e11e74",
   "metadata": {},
   "source": [
    "using IQR method we have almost 10% of the rows with at least one outlier, this is a very high number.\n",
    "\n",
    "Therefore, I decided to check how will be with we use the Z-score method to detect outliers (using 3 std dev):"
   ]
  },
  {
   "cell_type": "code",
   "execution_count": 32,
   "id": "b08960e1",
   "metadata": {
    "execution": {
     "iopub.execute_input": "2024-03-17T01:00:44.265264Z",
     "iopub.status.busy": "2024-03-17T01:00:44.265070Z",
     "iopub.status.idle": "2024-03-17T01:00:44.282743Z",
     "shell.execute_reply": "2024-03-17T01:00:44.282510Z",
     "shell.execute_reply.started": "2024-03-17T01:00:44.265255Z"
    }
   },
   "outputs": [
    {
     "name": "stdout",
     "output_type": "stream",
     "text": [
      "not skewed columns - Z-score method\n"
     ]
    },
    {
     "data": {
      "text/html": [
       "<style type=\"text/css\">\n",
       "</style>\n",
       "<table id=\"T_c6882\">\n",
       "  <thead>\n",
       "    <tr>\n",
       "      <th id=\"T_c6882_level0_col0\" class=\"col_heading level0 col0\" >attribute</th>\n",
       "      <th id=\"T_c6882_level0_col1\" class=\"col_heading level0 col1\" >outliers</th>\n",
       "    </tr>\n",
       "  </thead>\n",
       "  <tbody>\n",
       "    <tr>\n",
       "      <td id=\"T_c6882_row0_col0\" class=\"data row0 col0\" >time_in_hospital</td>\n",
       "      <td id=\"T_c6882_row0_col1\" class=\"data row0 col1\" >1041</td>\n",
       "    </tr>\n",
       "    <tr>\n",
       "      <td id=\"T_c6882_row1_col0\" class=\"data row1 col0\" >num_lab_procedures</td>\n",
       "      <td id=\"T_c6882_row1_col1\" class=\"data row1 col1\" >43</td>\n",
       "    </tr>\n",
       "    <tr>\n",
       "      <td id=\"T_c6882_row2_col0\" class=\"data row2 col0\" >num_procedures</td>\n",
       "      <td id=\"T_c6882_row2_col1\" class=\"data row2 col1\" >0</td>\n",
       "    </tr>\n",
       "    <tr>\n",
       "      <td id=\"T_c6882_row3_col0\" class=\"data row3 col0\" >num_medications</td>\n",
       "      <td id=\"T_c6882_row3_col1\" class=\"data row3 col1\" >1360</td>\n",
       "    </tr>\n",
       "    <tr>\n",
       "      <td id=\"T_c6882_row4_col0\" class=\"data row4 col0\" >number_diagnoses</td>\n",
       "      <td id=\"T_c6882_row4_col1\" class=\"data row4 col1\" >62</td>\n",
       "    </tr>\n",
       "  </tbody>\n",
       "</table>\n"
      ],
      "text/plain": [
       "<pandas.io.formats.style.Styler at 0x788b4a4f01d0>"
      ]
     },
     "metadata": {},
     "output_type": "display_data"
    },
    {
     "name": "stdout",
     "output_type": "stream",
     "text": [
      "Number of instances by number of outliers:\n"
     ]
    },
    {
     "data": {
      "text/html": [
       "<style type=\"text/css\">\n",
       "</style>\n",
       "<table id=\"T_468ff\">\n",
       "  <thead>\n",
       "    <tr>\n",
       "      <th id=\"T_468ff_level0_col0\" class=\"col_heading level0 col0\" >attibute with outlier</th>\n",
       "      <th id=\"T_468ff_level0_col1\" class=\"col_heading level0 col1\" >number of rows</th>\n",
       "    </tr>\n",
       "  </thead>\n",
       "  <tbody>\n",
       "    <tr>\n",
       "      <td id=\"T_468ff_row0_col0\" class=\"data row0 col0\" >0</td>\n",
       "      <td id=\"T_468ff_row0_col1\" class=\"data row0 col1\" >97843</td>\n",
       "    </tr>\n",
       "    <tr>\n",
       "      <td id=\"T_468ff_row1_col0\" class=\"data row1 col0\" >1</td>\n",
       "      <td id=\"T_468ff_row1_col1\" class=\"data row1 col1\" >2296</td>\n",
       "    </tr>\n",
       "    <tr>\n",
       "      <td id=\"T_468ff_row2_col0\" class=\"data row2 col0\" >2</td>\n",
       "      <td id=\"T_468ff_row2_col1\" class=\"data row2 col1\" >105</td>\n",
       "    </tr>\n",
       "  </tbody>\n",
       "</table>\n"
      ],
      "text/plain": [
       "<pandas.io.formats.style.Styler at 0x788b4ab68210>"
      ]
     },
     "metadata": {},
     "output_type": "display_data"
    }
   ],
   "source": [
    "print(\"not skewed columns - Z-score method\")\n",
    "\n",
    "z = np.abs(stats.zscore(df[NOT_SKEWED_COLUMNS]))\n",
    "out_zscore = z > 3\n",
    "\n",
    "outliers_zscore = pd.DataFrame(out_zscore, columns=NOT_SKEWED_COLUMNS)\n",
    "outs = outliers_zscore.sum().reset_index().rename(columns={\"index\": \"attribute\", 0: \"outliers\"})\n",
    "display_df(outs)\n",
    "\n",
    "print(\"Number of instances by number of outliers:\")\n",
    "outs = outliers_zscore.sum(axis=1).value_counts().reset_index().rename(columns={\"index\": \"attibute with outlier\", \"count\": \"number of rows\"})\n",
    "display_df(outs)\n"
   ]
  },
  {
   "cell_type": "markdown",
   "id": "120dcb68",
   "metadata": {},
   "source": [
    "here we have a more reasonable number of outliers, around 3% of the dataset.\n",
    "\n",
    "Let's see if we get 99% percentile"
   ]
  },
  {
   "cell_type": "code",
   "execution_count": 33,
   "id": "59d2a34b",
   "metadata": {},
   "outputs": [
    {
     "name": "stdout",
     "output_type": "stream",
     "text": [
      "not skewed columns - 99 percentile method\n"
     ]
    },
    {
     "data": {
      "text/html": [
       "<style type=\"text/css\">\n",
       "</style>\n",
       "<table id=\"T_0909d\">\n",
       "  <thead>\n",
       "    <tr>\n",
       "      <th id=\"T_0909d_level0_col0\" class=\"col_heading level0 col0\" >attribute</th>\n",
       "      <th id=\"T_0909d_level0_col1\" class=\"col_heading level0 col1\" >outliers</th>\n",
       "    </tr>\n",
       "  </thead>\n",
       "  <tbody>\n",
       "    <tr>\n",
       "      <td id=\"T_0909d_row0_col0\" class=\"data row0 col0\" >time_in_hospital</td>\n",
       "      <td id=\"T_0909d_row0_col1\" class=\"data row0 col1\" >0</td>\n",
       "    </tr>\n",
       "    <tr>\n",
       "      <td id=\"T_0909d_row1_col0\" class=\"data row1 col0\" >num_lab_procedures</td>\n",
       "      <td id=\"T_0909d_row1_col1\" class=\"data row1 col1\" >886</td>\n",
       "    </tr>\n",
       "    <tr>\n",
       "      <td id=\"T_0909d_row2_col0\" class=\"data row2 col0\" >num_procedures</td>\n",
       "      <td id=\"T_0909d_row2_col1\" class=\"data row2 col1\" >0</td>\n",
       "    </tr>\n",
       "    <tr>\n",
       "      <td id=\"T_0909d_row3_col0\" class=\"data row3 col0\" >num_medications</td>\n",
       "      <td id=\"T_0909d_row3_col1\" class=\"data row3 col1\" >959</td>\n",
       "    </tr>\n",
       "    <tr>\n",
       "      <td id=\"T_0909d_row4_col0\" class=\"data row4 col0\" >number_diagnoses</td>\n",
       "      <td id=\"T_0909d_row4_col1\" class=\"data row4 col1\" >115</td>\n",
       "    </tr>\n",
       "  </tbody>\n",
       "</table>\n"
      ],
      "text/plain": [
       "<pandas.io.formats.style.Styler at 0x788b4a4f6310>"
      ]
     },
     "metadata": {},
     "output_type": "display_data"
    },
    {
     "data": {
      "text/html": [
       "<style type=\"text/css\">\n",
       "</style>\n",
       "<table id=\"T_e0592\">\n",
       "  <thead>\n",
       "    <tr>\n",
       "      <th id=\"T_e0592_level0_col0\" class=\"col_heading level0 col0\" >attibute with outlier</th>\n",
       "      <th id=\"T_e0592_level0_col1\" class=\"col_heading level0 col1\" >number of rows</th>\n",
       "    </tr>\n",
       "  </thead>\n",
       "  <tbody>\n",
       "    <tr>\n",
       "      <td id=\"T_e0592_row0_col0\" class=\"data row0 col0\" >0</td>\n",
       "      <td id=\"T_e0592_row0_col1\" class=\"data row0 col1\" >98352</td>\n",
       "    </tr>\n",
       "    <tr>\n",
       "      <td id=\"T_e0592_row1_col0\" class=\"data row1 col0\" >1</td>\n",
       "      <td id=\"T_e0592_row1_col1\" class=\"data row1 col1\" >1824</td>\n",
       "    </tr>\n",
       "    <tr>\n",
       "      <td id=\"T_e0592_row2_col0\" class=\"data row2 col0\" >2</td>\n",
       "      <td id=\"T_e0592_row2_col1\" class=\"data row2 col1\" >68</td>\n",
       "    </tr>\n",
       "  </tbody>\n",
       "</table>\n"
      ],
      "text/plain": [
       "<pandas.io.formats.style.Styler at 0x788b4a4ac290>"
      ]
     },
     "metadata": {},
     "output_type": "display_data"
    }
   ],
   "source": [
    "print(\"not skewed columns - 99 percentile method\")\n",
    "\n",
    "outliers_perc = df[NOT_SKEWED_COLUMNS] > df[NOT_SKEWED_COLUMNS].quantile(.99)\n",
    "outs = outliers_perc.sum().reset_index().rename(columns={\"index\": \"attribute\", 0: \"outliers\"})\n",
    "display(outs.style.hide(axis=\"index\"))\n",
    "\n",
    "outs = outliers_perc.sum(axis=1).value_counts().reset_index().rename(columns={\"index\": \"attibute with outlier\", \"count\": \"number of rows\"})\n",
    "display(outs.style.hide(axis=\"index\"))"
   ]
  },
  {
   "cell_type": "markdown",
   "id": "1638e743",
   "metadata": {},
   "source": [
    "If we decide by removing the 99% percentile outliers, we would remove 1% of the dataset. "
   ]
  },
  {
   "cell_type": "markdown",
   "id": "5772ddd8",
   "metadata": {},
   "source": [
    "let's see how much of the outliers detected via the methods are contained in the others"
   ]
  },
  {
   "cell_type": "code",
   "execution_count": 34,
   "id": "1db34873",
   "metadata": {
    "execution": {
     "iopub.execute_input": "2024-03-17T01:00:52.122896Z",
     "iopub.status.busy": "2024-03-17T01:00:52.122631Z",
     "iopub.status.idle": "2024-03-17T01:00:52.136435Z",
     "shell.execute_reply": "2024-03-17T01:00:52.136221Z",
     "shell.execute_reply.started": "2024-03-17T01:00:52.122886Z"
    }
   },
   "outputs": [
    {
     "data": {
      "text/html": [
       "<style type=\"text/css\">\n",
       "</style>\n",
       "<table id=\"T_f550e\">\n",
       "  <thead>\n",
       "    <tr>\n",
       "      <th id=\"T_f550e_level0_col0\" class=\"col_heading level0 col0\" >method</th>\n",
       "      <th id=\"T_f550e_level0_col1\" class=\"col_heading level0 col1\" >Intersection with IQR</th>\n",
       "      <th id=\"T_f550e_level0_col2\" class=\"col_heading level0 col2\" >Intersection with ZScore</th>\n",
       "      <th id=\"T_f550e_level0_col3\" class=\"col_heading level0 col3\" >Intersection with 99 percentile</th>\n",
       "    </tr>\n",
       "  </thead>\n",
       "  <tbody>\n",
       "    <tr>\n",
       "      <td id=\"T_f550e_row0_col0\" class=\"data row0 col0\" >IQR</td>\n",
       "      <td id=\"T_f550e_row0_col1\" class=\"data row0 col1\" >9110</td>\n",
       "      <td id=\"T_f550e_row0_col2\" class=\"data row0 col2\" >2401</td>\n",
       "      <td id=\"T_f550e_row0_col3\" class=\"data row0 col3\" >1388</td>\n",
       "    </tr>\n",
       "    <tr>\n",
       "      <td id=\"T_f550e_row1_col0\" class=\"data row1 col0\" >ZSCORE</td>\n",
       "      <td id=\"T_f550e_row1_col1\" class=\"data row1 col1\" >2401</td>\n",
       "      <td id=\"T_f550e_row1_col2\" class=\"data row1 col2\" >2401</td>\n",
       "      <td id=\"T_f550e_row1_col3\" class=\"data row1 col3\" >1115</td>\n",
       "    </tr>\n",
       "    <tr>\n",
       "      <td id=\"T_f550e_row2_col0\" class=\"data row2 col0\" >99 percentile</td>\n",
       "      <td id=\"T_f550e_row2_col1\" class=\"data row2 col1\" >1388</td>\n",
       "      <td id=\"T_f550e_row2_col2\" class=\"data row2 col2\" >1115</td>\n",
       "      <td id=\"T_f550e_row2_col3\" class=\"data row2 col3\" >1892</td>\n",
       "    </tr>\n",
       "  </tbody>\n",
       "</table>\n"
      ],
      "text/plain": [
       "<pandas.io.formats.style.Styler at 0x788b4a4c7d10>"
      ]
     },
     "metadata": {},
     "output_type": "display_data"
    }
   ],
   "source": [
    "idx_zscore = outliers_zscore.sum(axis=1) > 0\n",
    "idx_zscore = set(df.loc[idx_zscore].index)\n",
    "\n",
    "idx_iqr = outliers_iqr.sum(axis=1) > 0\n",
    "idx_iqr = set(df.loc[idx_iqr].index)\n",
    "\n",
    "idx_perc = outliers_perc.sum(axis=1) > 0\n",
    "idx_perc = set(df.loc[idx_perc].index)\n",
    "\n",
    "# intersection of idx_iqr and idx_zscore\n",
    "cap_iqr_zscore = len(idx_iqr & idx_zscore)\n",
    "cap_iqr_perc = len(idx_iqr & idx_perc)\n",
    "cap_zscore_perc = len(idx_zscore & idx_perc)\n",
    "\n",
    "outs = pd.DataFrame(\n",
    "        {\n",
    "            \"method\": [\"IQR\", \"ZSCORE\", \"99 percentile\"],\n",
    "            \"Intersection with IQR\": [len(idx_iqr), cap_iqr_zscore, cap_iqr_perc],\n",
    "            \"Intersection with ZScore\": [cap_iqr_zscore, len(idx_zscore), cap_zscore_perc],\n",
    "            \"Intersection with 99 percentile\": [cap_iqr_perc, cap_zscore_perc, len(idx_perc)],\n",
    "        }\n",
    ")\n",
    "\n",
    "display_df(outs)"
   ]
  },
  {
   "cell_type": "markdown",
   "id": "492f816e",
   "metadata": {},
   "source": [
    "All the outliers that `Z-score > 3 found`, IQR also found, which means that in this case, Z-score is a subset of IQR, thus, Z-score is a more conservative approach.\n",
    "\n",
    "Though the outliers found by the 99 percentile method don't overlap with the other two methods. They have common elements but percentile 99 method has other points not identified by the other two methods. Somehow this shows that this is not a good approach, though I will analyse it anyway.\n",
    "\n",
    "To analyse if we can remove them we must be sure that those outliers occur way randomly. We can run a chi square test to be sure."
   ]
  },
  {
   "cell_type": "code",
   "execution_count": 35,
   "id": "aa735635",
   "metadata": {},
   "outputs": [
    {
     "name": "stdout",
     "output_type": "stream",
     "text": [
      "TGT proportion in the dataset - Not Skewed columns - outlier detection\n"
     ]
    },
    {
     "data": {
      "text/html": [
       "<style type=\"text/css\">\n",
       "</style>\n",
       "<table id=\"T_26470\">\n",
       "  <caption>full dataset</caption>\n",
       "  <thead>\n",
       "    <tr>\n",
       "      <th id=\"T_26470_level0_col0\" class=\"col_heading level0 col0\" >readmitted</th>\n",
       "      <th id=\"T_26470_level0_col1\" class=\"col_heading level0 col1\" >count</th>\n",
       "    </tr>\n",
       "  </thead>\n",
       "  <tbody>\n",
       "    <tr>\n",
       "      <td id=\"T_26470_row0_col0\" class=\"data row0 col0\" >NO</td>\n",
       "      <td id=\"T_26470_row0_col1\" class=\"data row0 col1\" >54864</td>\n",
       "    </tr>\n",
       "    <tr>\n",
       "      <td id=\"T_26470_row1_col0\" class=\"data row1 col0\" >>30</td>\n",
       "      <td id=\"T_26470_row1_col1\" class=\"data row1 col1\" >35545</td>\n",
       "    </tr>\n",
       "    <tr>\n",
       "      <td id=\"T_26470_row2_col0\" class=\"data row2 col0\" ><30</td>\n",
       "      <td id=\"T_26470_row2_col1\" class=\"data row2 col1\" >11357</td>\n",
       "    </tr>\n",
       "  </tbody>\n",
       "</table>\n"
      ],
      "text/plain": [
       "<pandas.io.formats.style.Styler at 0x788b4bb8b910>"
      ]
     },
     "metadata": {},
     "output_type": "display_data"
    },
    {
     "data": {
      "text/html": [
       "<style type=\"text/css\">\n",
       "</style>\n",
       "<table id=\"T_4915a\">\n",
       "  <caption>IQR outliers</caption>\n",
       "  <thead>\n",
       "    <tr>\n",
       "      <th id=\"T_4915a_level0_col0\" class=\"col_heading level0 col0\" >readmitted</th>\n",
       "      <th id=\"T_4915a_level0_col1\" class=\"col_heading level0 col1\" >count</th>\n",
       "    </tr>\n",
       "  </thead>\n",
       "  <tbody>\n",
       "    <tr>\n",
       "      <td id=\"T_4915a_row0_col0\" class=\"data row0 col0\" >NO</td>\n",
       "      <td id=\"T_4915a_row0_col1\" class=\"data row0 col1\" >5159</td>\n",
       "    </tr>\n",
       "    <tr>\n",
       "      <td id=\"T_4915a_row1_col0\" class=\"data row1 col0\" >>30</td>\n",
       "      <td id=\"T_4915a_row1_col1\" class=\"data row1 col1\" >2936</td>\n",
       "    </tr>\n",
       "    <tr>\n",
       "      <td id=\"T_4915a_row2_col0\" class=\"data row2 col0\" ><30</td>\n",
       "      <td id=\"T_4915a_row2_col1\" class=\"data row2 col1\" >1015</td>\n",
       "    </tr>\n",
       "  </tbody>\n",
       "</table>\n"
      ],
      "text/plain": [
       "<pandas.io.formats.style.Styler at 0x788b4a4d68d0>"
      ]
     },
     "metadata": {},
     "output_type": "display_data"
    },
    {
     "data": {
      "text/html": [
       "<style type=\"text/css\">\n",
       "</style>\n",
       "<table id=\"T_15935\">\n",
       "  <caption>Z-score outliers</caption>\n",
       "  <thead>\n",
       "    <tr>\n",
       "      <th id=\"T_15935_level0_col0\" class=\"col_heading level0 col0\" >readmitted</th>\n",
       "      <th id=\"T_15935_level0_col1\" class=\"col_heading level0 col1\" >count</th>\n",
       "    </tr>\n",
       "  </thead>\n",
       "  <tbody>\n",
       "    <tr>\n",
       "      <td id=\"T_15935_row0_col0\" class=\"data row0 col0\" >NO</td>\n",
       "      <td id=\"T_15935_row0_col1\" class=\"data row0 col1\" >1409</td>\n",
       "    </tr>\n",
       "    <tr>\n",
       "      <td id=\"T_15935_row1_col0\" class=\"data row1 col0\" >>30</td>\n",
       "      <td id=\"T_15935_row1_col1\" class=\"data row1 col1\" >711</td>\n",
       "    </tr>\n",
       "    <tr>\n",
       "      <td id=\"T_15935_row2_col0\" class=\"data row2 col0\" ><30</td>\n",
       "      <td id=\"T_15935_row2_col1\" class=\"data row2 col1\" >281</td>\n",
       "    </tr>\n",
       "  </tbody>\n",
       "</table>\n"
      ],
      "text/plain": [
       "<pandas.io.formats.style.Styler at 0x788b4aa6c950>"
      ]
     },
     "metadata": {},
     "output_type": "display_data"
    },
    {
     "data": {
      "text/html": [
       "<style type=\"text/css\">\n",
       "</style>\n",
       "<table id=\"T_2d23b\">\n",
       "  <caption>99 percentile outliers</caption>\n",
       "  <thead>\n",
       "    <tr>\n",
       "      <th id=\"T_2d23b_level0_col0\" class=\"col_heading level0 col0\" >readmitted</th>\n",
       "      <th id=\"T_2d23b_level0_col1\" class=\"col_heading level0 col1\" >count</th>\n",
       "    </tr>\n",
       "  </thead>\n",
       "  <tbody>\n",
       "    <tr>\n",
       "      <td id=\"T_2d23b_row0_col0\" class=\"data row0 col0\" >NO</td>\n",
       "      <td id=\"T_2d23b_row0_col1\" class=\"data row0 col1\" >1159</td>\n",
       "    </tr>\n",
       "    <tr>\n",
       "      <td id=\"T_2d23b_row1_col0\" class=\"data row1 col0\" >>30</td>\n",
       "      <td id=\"T_2d23b_row1_col1\" class=\"data row1 col1\" >523</td>\n",
       "    </tr>\n",
       "    <tr>\n",
       "      <td id=\"T_2d23b_row2_col0\" class=\"data row2 col0\" ><30</td>\n",
       "      <td id=\"T_2d23b_row2_col1\" class=\"data row2 col1\" >210</td>\n",
       "    </tr>\n",
       "  </tbody>\n",
       "</table>\n"
      ],
      "text/plain": [
       "<pandas.io.formats.style.Styler at 0x788b4aa6c950>"
      ]
     },
     "metadata": {},
     "output_type": "display_data"
    }
   ],
   "source": [
    "print(\"TGT proportion in the dataset - Not Skewed columns - outlier detection\")\n",
    "\n",
    "prop = df_raw.loc[:, TGT].value_counts().reset_index()\n",
    "display_df(prop.sort_values(\"readmitted\", ascending = False), \"full dataset\")\n",
    "\n",
    "prop = df.loc[list(idx_iqr), TGT].value_counts().reset_index()\n",
    "display_df(prop.sort_values(\"readmitted\", ascending = False), \"IQR outliers\")\n",
    "\n",
    "prop = df.loc[list(idx_zscore), TGT].value_counts().reset_index()\n",
    "display_df(prop.sort_values(\"readmitted\", ascending = False), \"Z-score outliers\")\n",
    "\n",
    "prop = df.loc[list(idx_perc), TGT].value_counts().reset_index()\n",
    "display_df(prop.sort_values(\"readmitted\", ascending = False), \"99 percentile outliers\")"
   ]
  },
  {
   "cell_type": "code",
   "execution_count": 36,
   "id": "56300740",
   "metadata": {},
   "outputs": [
    {
     "data": {
      "text/plain": [
       "Chi2ContingencyResult(statistic=24.772044055028907, pvalue=6.452658203230575e-07, dof=1, expected_freq=array([[55091.27870775, 46674.72129225],\n",
       "       [ 4931.72129225,  4178.27870775]]))"
      ]
     },
     "execution_count": 36,
     "metadata": {},
     "output_type": "execute_result"
    }
   ],
   "source": [
    "# chi2 fulldataset vs IQR\n",
    "stats.chi2_contingency(np.array([[54864, 35545 + 11357], [5159, 2936 + 1015]]))"
   ]
  },
  {
   "cell_type": "code",
   "execution_count": 37,
   "id": "c492a563",
   "metadata": {},
   "outputs": [
    {
     "data": {
      "text/plain": [
       "Chi2ContingencyResult(statistic=21.313262979526932, pvalue=3.900236869793347e-06, dof=1, expected_freq=array([[54975.93400981, 46790.06599019],\n",
       "       [ 1297.06599019,  1103.93400981]]))"
      ]
     },
     "execution_count": 37,
     "metadata": {},
     "output_type": "execute_result"
    }
   ],
   "source": [
    "# chi2 fulldataset vs Z-score\n",
    "stats.chi2_contingency(np.array([[54864, 35545 + 11357], [1409, 711+281]]))"
   ]
  },
  {
   "cell_type": "code",
   "execution_count": 38,
   "id": "f12093a1",
   "metadata": {},
   "outputs": [
    {
     "data": {
      "text/plain": [
       "Chi2ContingencyResult(statistic=40.06349196304314, pvalue=2.4584086715805505e-10, dof=1, expected_freq=array([[55000.44972892, 46765.55027108],\n",
       "       [ 1022.55027108,   869.44972892]]))"
      ]
     },
     "execution_count": 38,
     "metadata": {},
     "output_type": "execute_result"
    }
   ],
   "source": [
    "# chi2 fulldataset vs Z-score\n",
    "stats.chi2_contingency(np.array([[54864, 35545 + 11357], [1159, 523+210]]))"
   ]
  },
  {
   "cell_type": "markdown",
   "id": "871c4b48",
   "metadata": {},
   "source": [
    "All methods showed a super low p-value (10^-7, 10^-6 and 10^-10); this means that the distribution of the target variable is not independent of the outliers identified compared to the entire dataset. Removing or changing those outliers will generate bias, thus, we will keep them as they are."
   ]
  },
  {
   "cell_type": "markdown",
   "id": "70f498d0",
   "metadata": {},
   "source": [
    "### Skewed numerical columns"
   ]
  },
  {
   "cell_type": "markdown",
   "id": "e1ac2a64",
   "metadata": {},
   "source": [
    "The 3 remaining numerical columns are heavily skewed, in a way that the IQR method is not applicable (IQR distance is 0). Thus, I will compare three different methods, Zscore and percentile 99 and percentile 99.5."
   ]
  },
  {
   "cell_type": "code",
   "execution_count": 39,
   "id": "05e50895",
   "metadata": {},
   "outputs": [
    {
     "name": "stdout",
     "output_type": "stream",
     "text": [
      "skewed columns - Z-score method\n"
     ]
    },
    {
     "data": {
      "text/html": [
       "<style type=\"text/css\">\n",
       "</style>\n",
       "<table id=\"T_c24ed\">\n",
       "  <thead>\n",
       "    <tr>\n",
       "      <th id=\"T_c24ed_level0_col0\" class=\"col_heading level0 col0\" >attribute</th>\n",
       "      <th id=\"T_c24ed_level0_col1\" class=\"col_heading level0 col1\" >outliers</th>\n",
       "    </tr>\n",
       "  </thead>\n",
       "  <tbody>\n",
       "    <tr>\n",
       "      <td id=\"T_c24ed_row0_col0\" class=\"data row0 col0\" >number_outpatient</td>\n",
       "      <td id=\"T_c24ed_row0_col1\" class=\"data row0 col1\" >1449</td>\n",
       "    </tr>\n",
       "    <tr>\n",
       "      <td id=\"T_c24ed_row1_col0\" class=\"data row1 col0\" >number_emergency</td>\n",
       "      <td id=\"T_c24ed_row1_col1\" class=\"data row1 col1\" >1648</td>\n",
       "    </tr>\n",
       "    <tr>\n",
       "      <td id=\"T_c24ed_row2_col0\" class=\"data row2 col0\" >number_inpatient</td>\n",
       "      <td id=\"T_c24ed_row2_col1\" class=\"data row2 col1\" >1994</td>\n",
       "    </tr>\n",
       "  </tbody>\n",
       "</table>\n"
      ],
      "text/plain": [
       "<pandas.io.formats.style.Styler at 0x788b4aac0410>"
      ]
     },
     "metadata": {},
     "output_type": "display_data"
    },
    {
     "data": {
      "text/html": [
       "<style type=\"text/css\">\n",
       "</style>\n",
       "<table id=\"T_304a3\">\n",
       "  <thead>\n",
       "    <tr>\n",
       "      <th id=\"T_304a3_level0_col0\" class=\"col_heading level0 col0\" >attibute with outlier</th>\n",
       "      <th id=\"T_304a3_level0_col1\" class=\"col_heading level0 col1\" >number of rows</th>\n",
       "    </tr>\n",
       "  </thead>\n",
       "  <tbody>\n",
       "    <tr>\n",
       "      <td id=\"T_304a3_row0_col0\" class=\"data row0 col0\" >0</td>\n",
       "      <td id=\"T_304a3_row0_col1\" class=\"data row0 col1\" >95649</td>\n",
       "    </tr>\n",
       "    <tr>\n",
       "      <td id=\"T_304a3_row1_col0\" class=\"data row1 col0\" >1</td>\n",
       "      <td id=\"T_304a3_row1_col1\" class=\"data row1 col1\" >4108</td>\n",
       "    </tr>\n",
       "    <tr>\n",
       "      <td id=\"T_304a3_row2_col0\" class=\"data row2 col0\" >2</td>\n",
       "      <td id=\"T_304a3_row2_col1\" class=\"data row2 col1\" >478</td>\n",
       "    </tr>\n",
       "    <tr>\n",
       "      <td id=\"T_304a3_row3_col0\" class=\"data row3 col0\" >3</td>\n",
       "      <td id=\"T_304a3_row3_col1\" class=\"data row3 col1\" >9</td>\n",
       "    </tr>\n",
       "  </tbody>\n",
       "</table>\n"
      ],
      "text/plain": [
       "<pandas.io.formats.style.Styler at 0x788b4a7ce550>"
      ]
     },
     "metadata": {},
     "output_type": "display_data"
    }
   ],
   "source": [
    "ALT_APPROACH_COLUMNS = [\"number_outpatient\", \"number_emergency\", \"number_inpatient\"]\n",
    "\n",
    "print(\"skewed columns - Z-score method\")\n",
    "\n",
    "z = np.abs(stats.zscore(df[ALT_APPROACH_COLUMNS]))\n",
    "alt_zscore = z > 3\n",
    "\n",
    "outliers_alt_zscore = pd.DataFrame(alt_zscore, columns=ALT_APPROACH_COLUMNS)\n",
    "outs = outliers_alt_zscore.sum().reset_index().rename(columns={\"index\": \"attribute\", 0: \"outliers\"})\n",
    "display(outs.style.hide(axis=\"index\"))\n",
    "\n",
    "outs = outliers_alt_zscore.sum(axis=1).value_counts().reset_index().rename(columns={\"index\": \"attibute with outlier\", \"count\": \"number of rows\"})\n",
    "display(outs.style.hide(axis=\"index\"))\n"
   ]
  },
  {
   "cell_type": "code",
   "execution_count": 40,
   "id": "9787dc8a",
   "metadata": {
    "execution": {
     "iopub.execute_input": "2024-03-16T19:55:27.184838Z",
     "iopub.status.busy": "2024-03-16T19:55:27.184765Z",
     "iopub.status.idle": "2024-03-16T19:55:27.206616Z",
     "shell.execute_reply": "2024-03-16T19:55:27.206397Z",
     "shell.execute_reply.started": "2024-03-16T19:55:27.184832Z"
    }
   },
   "outputs": [
    {
     "name": "stdout",
     "output_type": "stream",
     "text": [
      "skewed columns - 99 percentile method\n"
     ]
    },
    {
     "data": {
      "text/html": [
       "<style type=\"text/css\">\n",
       "</style>\n",
       "<table id=\"T_370ab\">\n",
       "  <thead>\n",
       "    <tr>\n",
       "      <th id=\"T_370ab_level0_col0\" class=\"col_heading level0 col0\" >attribute</th>\n",
       "      <th id=\"T_370ab_level0_col1\" class=\"col_heading level0 col1\" >outliers</th>\n",
       "    </tr>\n",
       "  </thead>\n",
       "  <tbody>\n",
       "    <tr>\n",
       "      <td id=\"T_370ab_row0_col0\" class=\"data row0 col0\" >number_outpatient</td>\n",
       "      <td id=\"T_370ab_row0_col1\" class=\"data row0 col1\" >920</td>\n",
       "    </tr>\n",
       "    <tr>\n",
       "      <td id=\"T_370ab_row1_col0\" class=\"data row1 col0\" >number_emergency</td>\n",
       "      <td id=\"T_370ab_row1_col1\" class=\"data row1 col1\" >930</td>\n",
       "    </tr>\n",
       "    <tr>\n",
       "      <td id=\"T_370ab_row2_col0\" class=\"data row2 col0\" >number_inpatient</td>\n",
       "      <td id=\"T_370ab_row2_col1\" class=\"data row2 col1\" >713</td>\n",
       "    </tr>\n",
       "  </tbody>\n",
       "</table>\n"
      ],
      "text/plain": [
       "<pandas.io.formats.style.Styler at 0x788b4a50e850>"
      ]
     },
     "metadata": {},
     "output_type": "display_data"
    },
    {
     "data": {
      "text/html": [
       "<style type=\"text/css\">\n",
       "</style>\n",
       "<table id=\"T_25f47\">\n",
       "  <thead>\n",
       "    <tr>\n",
       "      <th id=\"T_25f47_level0_col0\" class=\"col_heading level0 col0\" >attibute with outlier</th>\n",
       "      <th id=\"T_25f47_level0_col1\" class=\"col_heading level0 col1\" >number of rows</th>\n",
       "    </tr>\n",
       "  </thead>\n",
       "  <tbody>\n",
       "    <tr>\n",
       "      <td id=\"T_25f47_row0_col0\" class=\"data row0 col0\" >0</td>\n",
       "      <td id=\"T_25f47_row0_col1\" class=\"data row0 col1\" >97863</td>\n",
       "    </tr>\n",
       "    <tr>\n",
       "      <td id=\"T_25f47_row1_col0\" class=\"data row1 col0\" >1</td>\n",
       "      <td id=\"T_25f47_row1_col1\" class=\"data row1 col1\" >2204</td>\n",
       "    </tr>\n",
       "    <tr>\n",
       "      <td id=\"T_25f47_row2_col0\" class=\"data row2 col0\" >2</td>\n",
       "      <td id=\"T_25f47_row2_col1\" class=\"data row2 col1\" >172</td>\n",
       "    </tr>\n",
       "    <tr>\n",
       "      <td id=\"T_25f47_row3_col0\" class=\"data row3 col0\" >3</td>\n",
       "      <td id=\"T_25f47_row3_col1\" class=\"data row3 col1\" >5</td>\n",
       "    </tr>\n",
       "  </tbody>\n",
       "</table>\n"
      ],
      "text/plain": [
       "<pandas.io.formats.style.Styler at 0x788b4a996ed0>"
      ]
     },
     "metadata": {},
     "output_type": "display_data"
    }
   ],
   "source": [
    "print(\"skewed columns - 99 percentile method\")\n",
    "\n",
    "outliers_alt_99_perc = df[ALT_APPROACH_COLUMNS] > df[ALT_APPROACH_COLUMNS].quantile(.99)\n",
    "outs = outliers_alt_99_perc.sum().reset_index().rename(columns={\"index\": \"attribute\", 0: \"outliers\"})\n",
    "display(outs.style.hide(axis=\"index\"))\n",
    "\n",
    "outs = outliers_alt_99_perc.sum(axis=1).value_counts().reset_index().rename(columns={\"index\": \"attibute with outlier\", \"count\": \"number of rows\"})\n",
    "display(outs.style.hide(axis=\"index\"))"
   ]
  },
  {
   "cell_type": "code",
   "execution_count": 41,
   "id": "6ecc62e6",
   "metadata": {},
   "outputs": [
    {
     "data": {
      "text/html": [
       "<style type=\"text/css\">\n",
       "</style>\n",
       "<table id=\"T_2df93\">\n",
       "  <thead>\n",
       "    <tr>\n",
       "      <th id=\"T_2df93_level0_col0\" class=\"col_heading level0 col0\" >method</th>\n",
       "      <th id=\"T_2df93_level0_col1\" class=\"col_heading level0 col1\" >Intersection with zscore</th>\n",
       "      <th id=\"T_2df93_level0_col2\" class=\"col_heading level0 col2\" >Intersection with 99 percentile</th>\n",
       "    </tr>\n",
       "  </thead>\n",
       "  <tbody>\n",
       "    <tr>\n",
       "      <td id=\"T_2df93_row0_col0\" class=\"data row0 col0\" >ZSCORE</td>\n",
       "      <td id=\"T_2df93_row0_col1\" class=\"data row0 col1\" >4595</td>\n",
       "      <td id=\"T_2df93_row0_col2\" class=\"data row0 col2\" >2381</td>\n",
       "    </tr>\n",
       "    <tr>\n",
       "      <td id=\"T_2df93_row1_col0\" class=\"data row1 col0\" >99 Percentile</td>\n",
       "      <td id=\"T_2df93_row1_col1\" class=\"data row1 col1\" >2381</td>\n",
       "      <td id=\"T_2df93_row1_col2\" class=\"data row1 col2\" >2381</td>\n",
       "    </tr>\n",
       "  </tbody>\n",
       "</table>\n"
      ],
      "text/plain": [
       "<pandas.io.formats.style.Styler at 0x788b4c32e750>"
      ]
     },
     "execution_count": 41,
     "metadata": {},
     "output_type": "execute_result"
    }
   ],
   "source": [
    "idx_alt_zscore = outliers_alt_zscore.sum(axis=1) > 0\n",
    "idx_alt_zscore = set(df.loc[idx_alt_zscore].index)\n",
    "\n",
    "idx_alt_99_perc = outliers_alt_99_perc.sum(axis=1) > 0\n",
    "idx_alt_99_perc = set(df.loc[idx_alt_99_perc].index)\n",
    "\n",
    "# intersection of idx_alt_zscore and idx_alt_perc\n",
    "cap_alt_zscore_99_perc = len(idx_alt_zscore & idx_alt_99_perc)\n",
    "\n",
    "outs = pd.DataFrame(\n",
    "        {\n",
    "            \"method\": [\"ZSCORE\", \"99 Percentile\"],\n",
    "            \"Intersection with zscore\": [len(idx_alt_zscore),  cap_alt_zscore_99_perc],\n",
    "            \"Intersection with 99 percentile\": [cap_alt_zscore_99_perc, len(idx_alt_99_perc)],\n",
    "        }\n",
    ")\n",
    "\n",
    "outs.style.hide(axis=\"index\")\n"
   ]
  },
  {
   "cell_type": "markdown",
   "id": "4f99f2d7",
   "metadata": {},
   "source": [
    "For these columns, the outliers in the 99 percentile are also in the z-score method for the skewed columns; this is happening due to the high skewness of the data. \n",
    "\n",
    "Let's analyse if removing them will add bias to the target."
   ]
  },
  {
   "cell_type": "code",
   "execution_count": 42,
   "id": "b5d7dcc3",
   "metadata": {},
   "outputs": [
    {
     "name": "stdout",
     "output_type": "stream",
     "text": [
      "TGT proportion in the dataset - Skewed columns - outlier detection\n"
     ]
    },
    {
     "data": {
      "text/html": [
       "<style type=\"text/css\">\n",
       "</style>\n",
       "<table id=\"T_624bc\">\n",
       "  <caption>full dataset</caption>\n",
       "  <thead>\n",
       "    <tr>\n",
       "      <th id=\"T_624bc_level0_col0\" class=\"col_heading level0 col0\" >readmitted</th>\n",
       "      <th id=\"T_624bc_level0_col1\" class=\"col_heading level0 col1\" >count</th>\n",
       "    </tr>\n",
       "  </thead>\n",
       "  <tbody>\n",
       "    <tr>\n",
       "      <td id=\"T_624bc_row0_col0\" class=\"data row0 col0\" >NO</td>\n",
       "      <td id=\"T_624bc_row0_col1\" class=\"data row0 col1\" >54864</td>\n",
       "    </tr>\n",
       "    <tr>\n",
       "      <td id=\"T_624bc_row1_col0\" class=\"data row1 col0\" >>30</td>\n",
       "      <td id=\"T_624bc_row1_col1\" class=\"data row1 col1\" >35545</td>\n",
       "    </tr>\n",
       "    <tr>\n",
       "      <td id=\"T_624bc_row2_col0\" class=\"data row2 col0\" ><30</td>\n",
       "      <td id=\"T_624bc_row2_col1\" class=\"data row2 col1\" >11357</td>\n",
       "    </tr>\n",
       "  </tbody>\n",
       "</table>\n"
      ],
      "text/plain": [
       "<pandas.io.formats.style.Styler at 0x788b48c7d150>"
      ]
     },
     "metadata": {},
     "output_type": "display_data"
    },
    {
     "data": {
      "text/html": [
       "<style type=\"text/css\">\n",
       "</style>\n",
       "<table id=\"T_5d9b5\">\n",
       "  <caption>Z-score outliers</caption>\n",
       "  <thead>\n",
       "    <tr>\n",
       "      <th id=\"T_5d9b5_level0_col0\" class=\"col_heading level0 col0\" >readmitted</th>\n",
       "      <th id=\"T_5d9b5_level0_col1\" class=\"col_heading level0 col1\" >count</th>\n",
       "    </tr>\n",
       "  </thead>\n",
       "  <tbody>\n",
       "    <tr>\n",
       "      <td id=\"T_5d9b5_row0_col0\" class=\"data row0 col0\" >NO</td>\n",
       "      <td id=\"T_5d9b5_row0_col1\" class=\"data row0 col1\" >1179</td>\n",
       "    </tr>\n",
       "    <tr>\n",
       "      <td id=\"T_5d9b5_row1_col0\" class=\"data row1 col0\" >>30</td>\n",
       "      <td id=\"T_5d9b5_row1_col1\" class=\"data row1 col1\" >2297</td>\n",
       "    </tr>\n",
       "    <tr>\n",
       "      <td id=\"T_5d9b5_row2_col0\" class=\"data row2 col0\" ><30</td>\n",
       "      <td id=\"T_5d9b5_row2_col1\" class=\"data row2 col1\" >1119</td>\n",
       "    </tr>\n",
       "  </tbody>\n",
       "</table>\n"
      ],
      "text/plain": [
       "<pandas.io.formats.style.Styler at 0x788b4a4acdd0>"
      ]
     },
     "metadata": {},
     "output_type": "display_data"
    },
    {
     "data": {
      "text/html": [
       "<style type=\"text/css\">\n",
       "</style>\n",
       "<table id=\"T_003ac\">\n",
       "  <caption>99 percentile outliers</caption>\n",
       "  <thead>\n",
       "    <tr>\n",
       "      <th id=\"T_003ac_level0_col0\" class=\"col_heading level0 col0\" >readmitted</th>\n",
       "      <th id=\"T_003ac_level0_col1\" class=\"col_heading level0 col1\" >count</th>\n",
       "    </tr>\n",
       "  </thead>\n",
       "  <tbody>\n",
       "    <tr>\n",
       "      <td id=\"T_003ac_row0_col0\" class=\"data row0 col0\" >NO</td>\n",
       "      <td id=\"T_003ac_row0_col1\" class=\"data row0 col1\" >556</td>\n",
       "    </tr>\n",
       "    <tr>\n",
       "      <td id=\"T_003ac_row1_col0\" class=\"data row1 col0\" >>30</td>\n",
       "      <td id=\"T_003ac_row1_col1\" class=\"data row1 col1\" >1222</td>\n",
       "    </tr>\n",
       "    <tr>\n",
       "      <td id=\"T_003ac_row2_col0\" class=\"data row2 col0\" ><30</td>\n",
       "      <td id=\"T_003ac_row2_col1\" class=\"data row2 col1\" >603</td>\n",
       "    </tr>\n",
       "  </tbody>\n",
       "</table>\n"
      ],
      "text/plain": [
       "<pandas.io.formats.style.Styler at 0x788b4a5ffe90>"
      ]
     },
     "metadata": {},
     "output_type": "display_data"
    }
   ],
   "source": [
    "print(\"TGT proportion in the dataset - Skewed columns - outlier detection\")\n",
    "\n",
    "prop = df_raw.loc[:, TGT].value_counts().reset_index()\n",
    "display_df(prop.sort_values(\"readmitted\", ascending = False), \"full dataset\")\n",
    "\n",
    "prop = df.loc[list(idx_alt_zscore), TGT].value_counts().reset_index()\n",
    "display_df(prop.sort_values(\"readmitted\", ascending = False), \"Z-score outliers\")\n",
    "\n",
    "prop = df.loc[list(idx_alt_99_perc), TGT].value_counts().reset_index()\n",
    "display_df(prop.sort_values(\"readmitted\", ascending = False), \"99 percentile outliers\")"
   ]
  },
  {
   "cell_type": "code",
   "execution_count": 43,
   "id": "39777ea9",
   "metadata": {},
   "outputs": [
    {
     "data": {
      "text/plain": [
       "Chi2ContingencyResult(statistic=1406.7713219286816, pvalue=7.095923604195486e-308, dof=1, expected_freq=array([[53621.83448821, 48144.16551179],\n",
       "       [ 2421.16551179,  2173.83448821]]))"
      ]
     },
     "execution_count": 43,
     "metadata": {},
     "output_type": "execute_result"
    }
   ],
   "source": [
    "# chi2 fulldataset vs Z-score\n",
    "stats.chi2_contingency(np.array([[54864, 35545 + 11357], [1179, 2297+1119]]))"
   ]
  },
  {
   "cell_type": "code",
   "execution_count": 44,
   "id": "a4cdfa86",
   "metadata": {},
   "outputs": [
    {
     "data": {
      "text/plain": [
       "Chi2ContingencyResult(statistic=871.5237222163626, pvalue=1.5217098683096276e-191, dof=1, expected_freq=array([[54152.992597, 47613.007403],\n",
       "       [ 1267.007403,  1113.992597]]))"
      ]
     },
     "execution_count": 44,
     "metadata": {},
     "output_type": "execute_result"
    }
   ],
   "source": [
    "# chi2 fulldataset vs 99 percentile\n",
    "stats.chi2_contingency(np.array([[54864, 35545 + 11357], [556, 1222+603]]))"
   ]
  },
  {
   "cell_type": "markdown",
   "id": "e2b15fc6",
   "metadata": {},
   "source": [
    "None of these methods can be used because they will significantly increase the bias in the target if we remove those outliers.\n",
    "\n",
    "**Therefore, no outlier will be removed from the dataset due to statistical methods, maybe later we can remove using more robust methods.**"
   ]
  },
  {
   "cell_type": "markdown",
   "id": "642f305e-3287-44d0-98b5-f503702012ba",
   "metadata": {},
   "source": [
    "# Last View before Saving"
   ]
  },
  {
   "cell_type": "code",
   "execution_count": 45,
   "id": "353a7487-96ed-4f55-8f62-419703c68474",
   "metadata": {
    "execution": {
     "iopub.execute_input": "2024-03-16T19:55:27.206984Z",
     "iopub.status.busy": "2024-03-16T19:55:27.206913Z",
     "iopub.status.idle": "2024-03-16T19:55:27.215965Z",
     "shell.execute_reply": "2024-03-16T19:55:27.215825Z",
     "shell.execute_reply.started": "2024-03-16T19:55:27.206977Z"
    }
   },
   "outputs": [
    {
     "data": {
      "text/plain": [
       "(100244, 31)"
      ]
     },
     "metadata": {},
     "output_type": "display_data"
    },
    {
     "data": {
      "text/plain": [
       "race                        category\n",
       "gender                      category\n",
       "age                         category\n",
       "admission_type_id           category\n",
       "discharge_disposition_id    category\n",
       "admission_source_id         category\n",
       "time_in_hospital               int64\n",
       "payer_code                  category\n",
       "medical_specialty           category\n",
       "num_lab_procedures             int64\n",
       "num_procedures                 int64\n",
       "num_medications                int64\n",
       "number_outpatient              int64\n",
       "number_emergency               int64\n",
       "number_inpatient               int64\n",
       "diag_1                      category\n",
       "diag_2                      category\n",
       "diag_3                      category\n",
       "number_diagnoses               int64\n",
       "metformin                   category\n",
       "repaglinide                 category\n",
       "glimepiride                 category\n",
       "glipizide                   category\n",
       "glyburide                   category\n",
       "pioglitazone                category\n",
       "rosiglitazone               category\n",
       "insulin                     category\n",
       "glyburide-metformin         category\n",
       "change                          bool\n",
       "diabetesMed                     bool\n",
       "readmitted                  category\n",
       "dtype: object"
      ]
     },
     "execution_count": 45,
     "metadata": {},
     "output_type": "execute_result"
    }
   ],
   "source": [
    "display(df.shape)\n",
    "df.dtypes"
   ]
  },
  {
   "cell_type": "code",
   "execution_count": 46,
   "id": "d1800c2d-f7ac-48d1-809b-ab975ba4dfab",
   "metadata": {
    "execution": {
     "iopub.execute_input": "2024-03-16T19:55:27.216264Z",
     "iopub.status.busy": "2024-03-16T19:55:27.216197Z",
     "iopub.status.idle": "2024-03-16T19:55:27.225958Z",
     "shell.execute_reply": "2024-03-16T19:55:27.225745Z",
     "shell.execute_reply.started": "2024-03-16T19:55:27.216257Z"
    }
   },
   "outputs": [
    {
     "data": {
      "text/html": [
       "<div>\n",
       "<style scoped>\n",
       "    .dataframe tbody tr th:only-of-type {\n",
       "        vertical-align: middle;\n",
       "    }\n",
       "\n",
       "    .dataframe tbody tr th {\n",
       "        vertical-align: top;\n",
       "    }\n",
       "\n",
       "    .dataframe thead th {\n",
       "        text-align: right;\n",
       "    }\n",
       "</style>\n",
       "<table border=\"1\" class=\"dataframe\">\n",
       "  <thead>\n",
       "    <tr style=\"text-align: right;\">\n",
       "      <th></th>\n",
       "      <th>1</th>\n",
       "      <th>2</th>\n",
       "      <th>3</th>\n",
       "      <th>4</th>\n",
       "      <th>5</th>\n",
       "    </tr>\n",
       "  </thead>\n",
       "  <tbody>\n",
       "    <tr>\n",
       "      <th>race</th>\n",
       "      <td>Caucasian</td>\n",
       "      <td>AfricanAmerican</td>\n",
       "      <td>Caucasian</td>\n",
       "      <td>Caucasian</td>\n",
       "      <td>Caucasian</td>\n",
       "    </tr>\n",
       "    <tr>\n",
       "      <th>gender</th>\n",
       "      <td>Female</td>\n",
       "      <td>Female</td>\n",
       "      <td>Male</td>\n",
       "      <td>Male</td>\n",
       "      <td>Male</td>\n",
       "    </tr>\n",
       "    <tr>\n",
       "      <th>age</th>\n",
       "      <td>[10-20)</td>\n",
       "      <td>[20-30)</td>\n",
       "      <td>[30-40)</td>\n",
       "      <td>[40-50)</td>\n",
       "      <td>[50-60)</td>\n",
       "    </tr>\n",
       "    <tr>\n",
       "      <th>admission_type_id</th>\n",
       "      <td>1</td>\n",
       "      <td>1</td>\n",
       "      <td>1</td>\n",
       "      <td>1</td>\n",
       "      <td>2</td>\n",
       "    </tr>\n",
       "    <tr>\n",
       "      <th>discharge_disposition_id</th>\n",
       "      <td>1</td>\n",
       "      <td>1</td>\n",
       "      <td>1</td>\n",
       "      <td>1</td>\n",
       "      <td>1</td>\n",
       "    </tr>\n",
       "    <tr>\n",
       "      <th>admission_source_id</th>\n",
       "      <td>7</td>\n",
       "      <td>7</td>\n",
       "      <td>7</td>\n",
       "      <td>7</td>\n",
       "      <td>2</td>\n",
       "    </tr>\n",
       "    <tr>\n",
       "      <th>time_in_hospital</th>\n",
       "      <td>3</td>\n",
       "      <td>2</td>\n",
       "      <td>2</td>\n",
       "      <td>1</td>\n",
       "      <td>3</td>\n",
       "    </tr>\n",
       "    <tr>\n",
       "      <th>payer_code</th>\n",
       "      <td>NaN</td>\n",
       "      <td>NaN</td>\n",
       "      <td>NaN</td>\n",
       "      <td>NaN</td>\n",
       "      <td>NaN</td>\n",
       "    </tr>\n",
       "    <tr>\n",
       "      <th>medical_specialty</th>\n",
       "      <td>NaN</td>\n",
       "      <td>NaN</td>\n",
       "      <td>NaN</td>\n",
       "      <td>NaN</td>\n",
       "      <td>NaN</td>\n",
       "    </tr>\n",
       "    <tr>\n",
       "      <th>num_lab_procedures</th>\n",
       "      <td>59</td>\n",
       "      <td>11</td>\n",
       "      <td>44</td>\n",
       "      <td>51</td>\n",
       "      <td>31</td>\n",
       "    </tr>\n",
       "    <tr>\n",
       "      <th>num_procedures</th>\n",
       "      <td>0</td>\n",
       "      <td>5</td>\n",
       "      <td>1</td>\n",
       "      <td>0</td>\n",
       "      <td>6</td>\n",
       "    </tr>\n",
       "    <tr>\n",
       "      <th>num_medications</th>\n",
       "      <td>18</td>\n",
       "      <td>13</td>\n",
       "      <td>16</td>\n",
       "      <td>8</td>\n",
       "      <td>16</td>\n",
       "    </tr>\n",
       "    <tr>\n",
       "      <th>number_outpatient</th>\n",
       "      <td>0</td>\n",
       "      <td>2</td>\n",
       "      <td>0</td>\n",
       "      <td>0</td>\n",
       "      <td>0</td>\n",
       "    </tr>\n",
       "    <tr>\n",
       "      <th>number_emergency</th>\n",
       "      <td>0</td>\n",
       "      <td>0</td>\n",
       "      <td>0</td>\n",
       "      <td>0</td>\n",
       "      <td>0</td>\n",
       "    </tr>\n",
       "    <tr>\n",
       "      <th>number_inpatient</th>\n",
       "      <td>0</td>\n",
       "      <td>1</td>\n",
       "      <td>0</td>\n",
       "      <td>0</td>\n",
       "      <td>0</td>\n",
       "    </tr>\n",
       "    <tr>\n",
       "      <th>diag_1</th>\n",
       "      <td>276</td>\n",
       "      <td>648</td>\n",
       "      <td>8</td>\n",
       "      <td>197</td>\n",
       "      <td>414</td>\n",
       "    </tr>\n",
       "    <tr>\n",
       "      <th>diag_2</th>\n",
       "      <td>250.01</td>\n",
       "      <td>250</td>\n",
       "      <td>250.43</td>\n",
       "      <td>157</td>\n",
       "      <td>411</td>\n",
       "    </tr>\n",
       "    <tr>\n",
       "      <th>diag_3</th>\n",
       "      <td>255</td>\n",
       "      <td>V27</td>\n",
       "      <td>403</td>\n",
       "      <td>250</td>\n",
       "      <td>250</td>\n",
       "    </tr>\n",
       "    <tr>\n",
       "      <th>number_diagnoses</th>\n",
       "      <td>9</td>\n",
       "      <td>6</td>\n",
       "      <td>7</td>\n",
       "      <td>5</td>\n",
       "      <td>9</td>\n",
       "    </tr>\n",
       "    <tr>\n",
       "      <th>metformin</th>\n",
       "      <td>No</td>\n",
       "      <td>No</td>\n",
       "      <td>No</td>\n",
       "      <td>No</td>\n",
       "      <td>No</td>\n",
       "    </tr>\n",
       "    <tr>\n",
       "      <th>repaglinide</th>\n",
       "      <td>No</td>\n",
       "      <td>No</td>\n",
       "      <td>No</td>\n",
       "      <td>No</td>\n",
       "      <td>No</td>\n",
       "    </tr>\n",
       "    <tr>\n",
       "      <th>glimepiride</th>\n",
       "      <td>No</td>\n",
       "      <td>No</td>\n",
       "      <td>No</td>\n",
       "      <td>No</td>\n",
       "      <td>No</td>\n",
       "    </tr>\n",
       "    <tr>\n",
       "      <th>glipizide</th>\n",
       "      <td>No</td>\n",
       "      <td>Steady</td>\n",
       "      <td>No</td>\n",
       "      <td>Steady</td>\n",
       "      <td>No</td>\n",
       "    </tr>\n",
       "    <tr>\n",
       "      <th>glyburide</th>\n",
       "      <td>No</td>\n",
       "      <td>No</td>\n",
       "      <td>No</td>\n",
       "      <td>No</td>\n",
       "      <td>No</td>\n",
       "    </tr>\n",
       "    <tr>\n",
       "      <th>pioglitazone</th>\n",
       "      <td>No</td>\n",
       "      <td>No</td>\n",
       "      <td>No</td>\n",
       "      <td>No</td>\n",
       "      <td>No</td>\n",
       "    </tr>\n",
       "    <tr>\n",
       "      <th>rosiglitazone</th>\n",
       "      <td>No</td>\n",
       "      <td>No</td>\n",
       "      <td>No</td>\n",
       "      <td>No</td>\n",
       "      <td>No</td>\n",
       "    </tr>\n",
       "    <tr>\n",
       "      <th>insulin</th>\n",
       "      <td>Up</td>\n",
       "      <td>No</td>\n",
       "      <td>Up</td>\n",
       "      <td>Steady</td>\n",
       "      <td>Steady</td>\n",
       "    </tr>\n",
       "    <tr>\n",
       "      <th>glyburide-metformin</th>\n",
       "      <td>No</td>\n",
       "      <td>No</td>\n",
       "      <td>No</td>\n",
       "      <td>No</td>\n",
       "      <td>No</td>\n",
       "    </tr>\n",
       "    <tr>\n",
       "      <th>change</th>\n",
       "      <td>True</td>\n",
       "      <td>False</td>\n",
       "      <td>True</td>\n",
       "      <td>True</td>\n",
       "      <td>False</td>\n",
       "    </tr>\n",
       "    <tr>\n",
       "      <th>diabetesMed</th>\n",
       "      <td>True</td>\n",
       "      <td>True</td>\n",
       "      <td>True</td>\n",
       "      <td>True</td>\n",
       "      <td>True</td>\n",
       "    </tr>\n",
       "    <tr>\n",
       "      <th>readmitted</th>\n",
       "      <td>&gt;30</td>\n",
       "      <td>NO</td>\n",
       "      <td>NO</td>\n",
       "      <td>NO</td>\n",
       "      <td>&gt;30</td>\n",
       "    </tr>\n",
       "  </tbody>\n",
       "</table>\n",
       "</div>"
      ],
      "text/plain": [
       "                                  1                2          3          4  \\\n",
       "race                      Caucasian  AfricanAmerican  Caucasian  Caucasian   \n",
       "gender                       Female           Female       Male       Male   \n",
       "age                         [10-20)          [20-30)    [30-40)    [40-50)   \n",
       "admission_type_id                 1                1          1          1   \n",
       "discharge_disposition_id          1                1          1          1   \n",
       "admission_source_id               7                7          7          7   \n",
       "time_in_hospital                  3                2          2          1   \n",
       "payer_code                      NaN              NaN        NaN        NaN   \n",
       "medical_specialty               NaN              NaN        NaN        NaN   \n",
       "num_lab_procedures               59               11         44         51   \n",
       "num_procedures                    0                5          1          0   \n",
       "num_medications                  18               13         16          8   \n",
       "number_outpatient                 0                2          0          0   \n",
       "number_emergency                  0                0          0          0   \n",
       "number_inpatient                  0                1          0          0   \n",
       "diag_1                          276              648          8        197   \n",
       "diag_2                       250.01              250     250.43        157   \n",
       "diag_3                          255              V27        403        250   \n",
       "number_diagnoses                  9                6          7          5   \n",
       "metformin                        No               No         No         No   \n",
       "repaglinide                      No               No         No         No   \n",
       "glimepiride                      No               No         No         No   \n",
       "glipizide                        No           Steady         No     Steady   \n",
       "glyburide                        No               No         No         No   \n",
       "pioglitazone                     No               No         No         No   \n",
       "rosiglitazone                    No               No         No         No   \n",
       "insulin                          Up               No         Up     Steady   \n",
       "glyburide-metformin              No               No         No         No   \n",
       "change                         True            False       True       True   \n",
       "diabetesMed                    True             True       True       True   \n",
       "readmitted                      >30               NO         NO         NO   \n",
       "\n",
       "                                  5  \n",
       "race                      Caucasian  \n",
       "gender                         Male  \n",
       "age                         [50-60)  \n",
       "admission_type_id                 2  \n",
       "discharge_disposition_id          1  \n",
       "admission_source_id               2  \n",
       "time_in_hospital                  3  \n",
       "payer_code                      NaN  \n",
       "medical_specialty               NaN  \n",
       "num_lab_procedures               31  \n",
       "num_procedures                    6  \n",
       "num_medications                  16  \n",
       "number_outpatient                 0  \n",
       "number_emergency                  0  \n",
       "number_inpatient                  0  \n",
       "diag_1                          414  \n",
       "diag_2                          411  \n",
       "diag_3                          250  \n",
       "number_diagnoses                  9  \n",
       "metformin                        No  \n",
       "repaglinide                      No  \n",
       "glimepiride                      No  \n",
       "glipizide                        No  \n",
       "glyburide                        No  \n",
       "pioglitazone                     No  \n",
       "rosiglitazone                    No  \n",
       "insulin                      Steady  \n",
       "glyburide-metformin              No  \n",
       "change                        False  \n",
       "diabetesMed                    True  \n",
       "readmitted                      >30  "
      ]
     },
     "execution_count": 46,
     "metadata": {},
     "output_type": "execute_result"
    }
   ],
   "source": [
    "df.head().T"
   ]
  },
  {
   "cell_type": "markdown",
   "id": "8ce91352",
   "metadata": {},
   "source": [
    "# Save Data cleaned"
   ]
  },
  {
   "cell_type": "code",
   "execution_count": 47,
   "id": "5599a3ca",
   "metadata": {
    "execution": {
     "iopub.execute_input": "2024-03-16T19:55:27.226266Z",
     "iopub.status.busy": "2024-03-16T19:55:27.226202Z",
     "iopub.status.idle": "2024-03-16T19:55:27.670572Z",
     "shell.execute_reply": "2024-03-16T19:55:27.670346Z",
     "shell.execute_reply.started": "2024-03-16T19:55:27.226260Z"
    }
   },
   "outputs": [
    {
     "data": {
      "text/plain": [
       "(100244, 31)"
      ]
     },
     "metadata": {},
     "output_type": "display_data"
    },
    {
     "data": {
      "text/plain": [
       "race                        category\n",
       "gender                      category\n",
       "age                         category\n",
       "admission_type_id           category\n",
       "discharge_disposition_id    category\n",
       "admission_source_id         category\n",
       "time_in_hospital               int64\n",
       "payer_code                  category\n",
       "medical_specialty           category\n",
       "num_lab_procedures             int64\n",
       "num_procedures                 int64\n",
       "num_medications                int64\n",
       "number_outpatient              int64\n",
       "number_emergency               int64\n",
       "number_inpatient               int64\n",
       "diag_1                      category\n",
       "diag_2                      category\n",
       "diag_3                      category\n",
       "number_diagnoses               int64\n",
       "metformin                   category\n",
       "repaglinide                 category\n",
       "glimepiride                 category\n",
       "glipizide                   category\n",
       "glyburide                   category\n",
       "pioglitazone                category\n",
       "rosiglitazone               category\n",
       "insulin                     category\n",
       "glyburide-metformin         category\n",
       "change                          bool\n",
       "diabetesMed                     bool\n",
       "readmitted                  category\n",
       "dtype: object"
      ]
     },
     "metadata": {},
     "output_type": "display_data"
    }
   ],
   "source": [
    "# setting genter Unknown/Invalid as None\n",
    "df = df.reset_index(drop=True)\n",
    "\n",
    "display(df.shape)\n",
    "display(df.dtypes)\n",
    "\n",
    "if COLAB:\n",
    "  df.to_csv('/content/drive/MyDrive/predictive-analysis/diabetic_data_cleaned.csv', index=False)\n",
    "  df.to_parquet('/content/drive/MyDrive/predictive-analysis/diabetic_data_cleaned.parquet')\n",
    "else:\n",
    "  df.to_csv(\"diabetic_data_cleaned.csv\", index=False)\n",
    "  df.to_parquet(\"diabetic_data_cleaned.parquet\")\n",
    "\n",
    "data_dict = {\n",
    "  \"Numeric Columns\": NUM_COLUMNS,\n",
    "  \"Categorical Columns\": CAT_COLUMNS,\n",
    "  \"Target\": TGT\n",
    "}\n",
    "\n",
    "if COLAB:\n",
    "  with open('/content/drive/MyDrive/predictive-analysis/data_dictionary.json', 'w') as f:\n",
    "    json.dump(data_dict, f)\n",
    "else:\n",
    "  with open(\"data_dictionary.json\", \"w\") as f:\n",
    "    json.dump(data_dict, f, indent=4)"
   ]
  }
 ],
 "metadata": {
  "colab": {
   "provenance": []
  },
  "kernelspec": {
   "display_name": "Python 3 (ipykernel)",
   "language": "python",
   "name": "python3"
  },
  "language_info": {
   "codemirror_mode": {
    "name": "ipython",
    "version": 3
   },
   "file_extension": ".py",
   "mimetype": "text/x-python",
   "name": "python",
   "nbconvert_exporter": "python",
   "pygments_lexer": "ipython3",
   "version": "3.11.8"
  }
 },
 "nbformat": 4,
 "nbformat_minor": 5
}
