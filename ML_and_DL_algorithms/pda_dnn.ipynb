{
  "nbformat": 4,
  "nbformat_minor": 0,
  "metadata": {
    "colab": {
      "provenance": []
    },
    "kernelspec": {
      "name": "python3",
      "display_name": "Python 3"
    },
    "language_info": {
      "name": "python"
    }
  },
  "cells": [
    {
      "cell_type": "code",
      "execution_count": null,
      "metadata": {
        "id": "t6xOrM2zhU70"
      },
      "outputs": [],
      "source": [
        "import pandas as pd\n",
        "import numpy as np\n",
        "from sklearn.svm import SVC\n",
        "from sklearn.preprocessing import StandardScaler\n",
        "from sklearn import preprocessing as preproc\n",
        "from scipy import stats\n",
        "from sklearn.metrics import classification_report\n",
        "from sklearn.model_selection import cross_val_score, KFold,train_test_split\n",
        "from sklearn.preprocessing import LabelEncoder\n",
        "from sklearn.utils import resample\n",
        "from imblearn.under_sampling import ClusterCentroids\n",
        "import torch\n",
        "import torch.nn as nn\n",
        "import torch.optim as optim\n",
        "from sklearn.metrics import f1_score\n",
        "from sklearn.utils.class_weight import compute_class_weight\n",
        "from sklearn.metrics import roc_curve, auc\n",
        "import matplotlib.pyplot as plt"
      ]
    },
    {
      "cell_type": "code",
      "source": [
        "# Check for GPU availability\n",
        "device = torch.device(\"cuda\" if torch.cuda.is_available() else \"cpu\")\n",
        "print(\"Using device:\", device)"
      ],
      "metadata": {
        "colab": {
          "base_uri": "https://localhost:8080/"
        },
        "id": "-P6oD6SxoTmx",
        "outputId": "148fc82f-62ce-480e-de7b-f2c55fe16c86"
      },
      "execution_count": null,
      "outputs": [
        {
          "output_type": "stream",
          "name": "stdout",
          "text": [
            "Using device: cpu\n"
          ]
        }
      ]
    },
    {
      "cell_type": "code",
      "source": [
        "df=pd.read_csv(\"diabetic_data_cleaned_pca_som_diag_grouped_ae_dbscan.csv\")"
      ],
      "metadata": {
        "id": "ay6qzm8v3zx-"
      },
      "execution_count": null,
      "outputs": []
    },
    {
      "cell_type": "code",
      "source": [
        "df.head()"
      ],
      "metadata": {
        "colab": {
          "base_uri": "https://localhost:8080/",
          "height": 359
        },
        "id": "xFFXhmk-jlNd",
        "outputId": "0fe603bf-2bfd-4707-8bc9-bfa062b0d70b"
      },
      "execution_count": null,
      "outputs": [
        {
          "output_type": "execute_result",
          "data": {
            "text/plain": [
              "   Unnamed: 0  encounter_id  patient_nbr             race  gender      age  \\\n",
              "0           0        149190     55629189        Caucasian  Female  [10-20)   \n",
              "1           1         64410     86047875  AfricanAmerican  Female  [20-30)   \n",
              "2           2        500364     82442376        Caucasian    Male  [30-40)   \n",
              "3           3         16680     42519267        Caucasian    Male  [40-50)   \n",
              "4           4         35754     82637451        Caucasian    Male  [50-60)   \n",
              "\n",
              "   admission_type_id  discharge_disposition_id  admission_source_id  \\\n",
              "0                  1                         1                    7   \n",
              "1                  1                         1                    7   \n",
              "2                  1                         1                    7   \n",
              "3                  1                         1                    7   \n",
              "4                  2                         1                    2   \n",
              "\n",
              "   time_in_hospital  ...       ae_4       ae_5       ae_6       ae_7  \\\n",
              "0                 3  ...   8.584562  20.436142   5.291698   8.157053   \n",
              "1                 2  ...  15.110230  15.245245  33.812020   2.966186   \n",
              "2                 2  ...   1.598465  25.428694   8.711449  21.261776   \n",
              "3                 1  ...  13.074265   8.245643  12.659610  19.848545   \n",
              "4                 3  ...  31.112360  17.769810  11.906863  35.779766   \n",
              "\n",
              "        ae_8       ae_9      ae_10      ae_11      ae_12      ae_13  \n",
              "0  17.783960  23.949799  11.668662   8.264934  22.667690  27.363850  \n",
              "1  29.897364  28.222050  23.203943  12.367907  29.435223  36.155518  \n",
              "2  11.921114  30.430517  22.689114   7.689127  13.135617  25.826536  \n",
              "3   6.032684  29.801752  10.818433   3.274082  20.075940  10.891075  \n",
              "4  28.849283  11.464336  28.415997  17.790482  19.180480  26.632393  \n",
              "\n",
              "[5 rows x 56 columns]"
            ],
            "text/html": [
              "\n",
              "  <div id=\"df-bac95ad7-ed9d-4550-9cd3-9fee1cfd8273\" class=\"colab-df-container\">\n",
              "    <div>\n",
              "<style scoped>\n",
              "    .dataframe tbody tr th:only-of-type {\n",
              "        vertical-align: middle;\n",
              "    }\n",
              "\n",
              "    .dataframe tbody tr th {\n",
              "        vertical-align: top;\n",
              "    }\n",
              "\n",
              "    .dataframe thead th {\n",
              "        text-align: right;\n",
              "    }\n",
              "</style>\n",
              "<table border=\"1\" class=\"dataframe\">\n",
              "  <thead>\n",
              "    <tr style=\"text-align: right;\">\n",
              "      <th></th>\n",
              "      <th>Unnamed: 0</th>\n",
              "      <th>encounter_id</th>\n",
              "      <th>patient_nbr</th>\n",
              "      <th>race</th>\n",
              "      <th>gender</th>\n",
              "      <th>age</th>\n",
              "      <th>admission_type_id</th>\n",
              "      <th>discharge_disposition_id</th>\n",
              "      <th>admission_source_id</th>\n",
              "      <th>time_in_hospital</th>\n",
              "      <th>...</th>\n",
              "      <th>ae_4</th>\n",
              "      <th>ae_5</th>\n",
              "      <th>ae_6</th>\n",
              "      <th>ae_7</th>\n",
              "      <th>ae_8</th>\n",
              "      <th>ae_9</th>\n",
              "      <th>ae_10</th>\n",
              "      <th>ae_11</th>\n",
              "      <th>ae_12</th>\n",
              "      <th>ae_13</th>\n",
              "    </tr>\n",
              "  </thead>\n",
              "  <tbody>\n",
              "    <tr>\n",
              "      <th>0</th>\n",
              "      <td>0</td>\n",
              "      <td>149190</td>\n",
              "      <td>55629189</td>\n",
              "      <td>Caucasian</td>\n",
              "      <td>Female</td>\n",
              "      <td>[10-20)</td>\n",
              "      <td>1</td>\n",
              "      <td>1</td>\n",
              "      <td>7</td>\n",
              "      <td>3</td>\n",
              "      <td>...</td>\n",
              "      <td>8.584562</td>\n",
              "      <td>20.436142</td>\n",
              "      <td>5.291698</td>\n",
              "      <td>8.157053</td>\n",
              "      <td>17.783960</td>\n",
              "      <td>23.949799</td>\n",
              "      <td>11.668662</td>\n",
              "      <td>8.264934</td>\n",
              "      <td>22.667690</td>\n",
              "      <td>27.363850</td>\n",
              "    </tr>\n",
              "    <tr>\n",
              "      <th>1</th>\n",
              "      <td>1</td>\n",
              "      <td>64410</td>\n",
              "      <td>86047875</td>\n",
              "      <td>AfricanAmerican</td>\n",
              "      <td>Female</td>\n",
              "      <td>[20-30)</td>\n",
              "      <td>1</td>\n",
              "      <td>1</td>\n",
              "      <td>7</td>\n",
              "      <td>2</td>\n",
              "      <td>...</td>\n",
              "      <td>15.110230</td>\n",
              "      <td>15.245245</td>\n",
              "      <td>33.812020</td>\n",
              "      <td>2.966186</td>\n",
              "      <td>29.897364</td>\n",
              "      <td>28.222050</td>\n",
              "      <td>23.203943</td>\n",
              "      <td>12.367907</td>\n",
              "      <td>29.435223</td>\n",
              "      <td>36.155518</td>\n",
              "    </tr>\n",
              "    <tr>\n",
              "      <th>2</th>\n",
              "      <td>2</td>\n",
              "      <td>500364</td>\n",
              "      <td>82442376</td>\n",
              "      <td>Caucasian</td>\n",
              "      <td>Male</td>\n",
              "      <td>[30-40)</td>\n",
              "      <td>1</td>\n",
              "      <td>1</td>\n",
              "      <td>7</td>\n",
              "      <td>2</td>\n",
              "      <td>...</td>\n",
              "      <td>1.598465</td>\n",
              "      <td>25.428694</td>\n",
              "      <td>8.711449</td>\n",
              "      <td>21.261776</td>\n",
              "      <td>11.921114</td>\n",
              "      <td>30.430517</td>\n",
              "      <td>22.689114</td>\n",
              "      <td>7.689127</td>\n",
              "      <td>13.135617</td>\n",
              "      <td>25.826536</td>\n",
              "    </tr>\n",
              "    <tr>\n",
              "      <th>3</th>\n",
              "      <td>3</td>\n",
              "      <td>16680</td>\n",
              "      <td>42519267</td>\n",
              "      <td>Caucasian</td>\n",
              "      <td>Male</td>\n",
              "      <td>[40-50)</td>\n",
              "      <td>1</td>\n",
              "      <td>1</td>\n",
              "      <td>7</td>\n",
              "      <td>1</td>\n",
              "      <td>...</td>\n",
              "      <td>13.074265</td>\n",
              "      <td>8.245643</td>\n",
              "      <td>12.659610</td>\n",
              "      <td>19.848545</td>\n",
              "      <td>6.032684</td>\n",
              "      <td>29.801752</td>\n",
              "      <td>10.818433</td>\n",
              "      <td>3.274082</td>\n",
              "      <td>20.075940</td>\n",
              "      <td>10.891075</td>\n",
              "    </tr>\n",
              "    <tr>\n",
              "      <th>4</th>\n",
              "      <td>4</td>\n",
              "      <td>35754</td>\n",
              "      <td>82637451</td>\n",
              "      <td>Caucasian</td>\n",
              "      <td>Male</td>\n",
              "      <td>[50-60)</td>\n",
              "      <td>2</td>\n",
              "      <td>1</td>\n",
              "      <td>2</td>\n",
              "      <td>3</td>\n",
              "      <td>...</td>\n",
              "      <td>31.112360</td>\n",
              "      <td>17.769810</td>\n",
              "      <td>11.906863</td>\n",
              "      <td>35.779766</td>\n",
              "      <td>28.849283</td>\n",
              "      <td>11.464336</td>\n",
              "      <td>28.415997</td>\n",
              "      <td>17.790482</td>\n",
              "      <td>19.180480</td>\n",
              "      <td>26.632393</td>\n",
              "    </tr>\n",
              "  </tbody>\n",
              "</table>\n",
              "<p>5 rows × 56 columns</p>\n",
              "</div>\n",
              "    <div class=\"colab-df-buttons\">\n",
              "\n",
              "  <div class=\"colab-df-container\">\n",
              "    <button class=\"colab-df-convert\" onclick=\"convertToInteractive('df-bac95ad7-ed9d-4550-9cd3-9fee1cfd8273')\"\n",
              "            title=\"Convert this dataframe to an interactive table.\"\n",
              "            style=\"display:none;\">\n",
              "\n",
              "  <svg xmlns=\"http://www.w3.org/2000/svg\" height=\"24px\" viewBox=\"0 -960 960 960\">\n",
              "    <path d=\"M120-120v-720h720v720H120Zm60-500h600v-160H180v160Zm220 220h160v-160H400v160Zm0 220h160v-160H400v160ZM180-400h160v-160H180v160Zm440 0h160v-160H620v160ZM180-180h160v-160H180v160Zm440 0h160v-160H620v160Z\"/>\n",
              "  </svg>\n",
              "    </button>\n",
              "\n",
              "  <style>\n",
              "    .colab-df-container {\n",
              "      display:flex;\n",
              "      gap: 12px;\n",
              "    }\n",
              "\n",
              "    .colab-df-convert {\n",
              "      background-color: #E8F0FE;\n",
              "      border: none;\n",
              "      border-radius: 50%;\n",
              "      cursor: pointer;\n",
              "      display: none;\n",
              "      fill: #1967D2;\n",
              "      height: 32px;\n",
              "      padding: 0 0 0 0;\n",
              "      width: 32px;\n",
              "    }\n",
              "\n",
              "    .colab-df-convert:hover {\n",
              "      background-color: #E2EBFA;\n",
              "      box-shadow: 0px 1px 2px rgba(60, 64, 67, 0.3), 0px 1px 3px 1px rgba(60, 64, 67, 0.15);\n",
              "      fill: #174EA6;\n",
              "    }\n",
              "\n",
              "    .colab-df-buttons div {\n",
              "      margin-bottom: 4px;\n",
              "    }\n",
              "\n",
              "    [theme=dark] .colab-df-convert {\n",
              "      background-color: #3B4455;\n",
              "      fill: #D2E3FC;\n",
              "    }\n",
              "\n",
              "    [theme=dark] .colab-df-convert:hover {\n",
              "      background-color: #434B5C;\n",
              "      box-shadow: 0px 1px 3px 1px rgba(0, 0, 0, 0.15);\n",
              "      filter: drop-shadow(0px 1px 2px rgba(0, 0, 0, 0.3));\n",
              "      fill: #FFFFFF;\n",
              "    }\n",
              "  </style>\n",
              "\n",
              "    <script>\n",
              "      const buttonEl =\n",
              "        document.querySelector('#df-bac95ad7-ed9d-4550-9cd3-9fee1cfd8273 button.colab-df-convert');\n",
              "      buttonEl.style.display =\n",
              "        google.colab.kernel.accessAllowed ? 'block' : 'none';\n",
              "\n",
              "      async function convertToInteractive(key) {\n",
              "        const element = document.querySelector('#df-bac95ad7-ed9d-4550-9cd3-9fee1cfd8273');\n",
              "        const dataTable =\n",
              "          await google.colab.kernel.invokeFunction('convertToInteractive',\n",
              "                                                    [key], {});\n",
              "        if (!dataTable) return;\n",
              "\n",
              "        const docLinkHtml = 'Like what you see? Visit the ' +\n",
              "          '<a target=\"_blank\" href=https://colab.research.google.com/notebooks/data_table.ipynb>data table notebook</a>'\n",
              "          + ' to learn more about interactive tables.';\n",
              "        element.innerHTML = '';\n",
              "        dataTable['output_type'] = 'display_data';\n",
              "        await google.colab.output.renderOutput(dataTable, element);\n",
              "        const docLink = document.createElement('div');\n",
              "        docLink.innerHTML = docLinkHtml;\n",
              "        element.appendChild(docLink);\n",
              "      }\n",
              "    </script>\n",
              "  </div>\n",
              "\n",
              "\n",
              "<div id=\"df-10853edd-387e-416e-94f6-8b64a53e0a48\">\n",
              "  <button class=\"colab-df-quickchart\" onclick=\"quickchart('df-10853edd-387e-416e-94f6-8b64a53e0a48')\"\n",
              "            title=\"Suggest charts\"\n",
              "            style=\"display:none;\">\n",
              "\n",
              "<svg xmlns=\"http://www.w3.org/2000/svg\" height=\"24px\"viewBox=\"0 0 24 24\"\n",
              "     width=\"24px\">\n",
              "    <g>\n",
              "        <path d=\"M19 3H5c-1.1 0-2 .9-2 2v14c0 1.1.9 2 2 2h14c1.1 0 2-.9 2-2V5c0-1.1-.9-2-2-2zM9 17H7v-7h2v7zm4 0h-2V7h2v10zm4 0h-2v-4h2v4z\"/>\n",
              "    </g>\n",
              "</svg>\n",
              "  </button>\n",
              "\n",
              "<style>\n",
              "  .colab-df-quickchart {\n",
              "      --bg-color: #E8F0FE;\n",
              "      --fill-color: #1967D2;\n",
              "      --hover-bg-color: #E2EBFA;\n",
              "      --hover-fill-color: #174EA6;\n",
              "      --disabled-fill-color: #AAA;\n",
              "      --disabled-bg-color: #DDD;\n",
              "  }\n",
              "\n",
              "  [theme=dark] .colab-df-quickchart {\n",
              "      --bg-color: #3B4455;\n",
              "      --fill-color: #D2E3FC;\n",
              "      --hover-bg-color: #434B5C;\n",
              "      --hover-fill-color: #FFFFFF;\n",
              "      --disabled-bg-color: #3B4455;\n",
              "      --disabled-fill-color: #666;\n",
              "  }\n",
              "\n",
              "  .colab-df-quickchart {\n",
              "    background-color: var(--bg-color);\n",
              "    border: none;\n",
              "    border-radius: 50%;\n",
              "    cursor: pointer;\n",
              "    display: none;\n",
              "    fill: var(--fill-color);\n",
              "    height: 32px;\n",
              "    padding: 0;\n",
              "    width: 32px;\n",
              "  }\n",
              "\n",
              "  .colab-df-quickchart:hover {\n",
              "    background-color: var(--hover-bg-color);\n",
              "    box-shadow: 0 1px 2px rgba(60, 64, 67, 0.3), 0 1px 3px 1px rgba(60, 64, 67, 0.15);\n",
              "    fill: var(--button-hover-fill-color);\n",
              "  }\n",
              "\n",
              "  .colab-df-quickchart-complete:disabled,\n",
              "  .colab-df-quickchart-complete:disabled:hover {\n",
              "    background-color: var(--disabled-bg-color);\n",
              "    fill: var(--disabled-fill-color);\n",
              "    box-shadow: none;\n",
              "  }\n",
              "\n",
              "  .colab-df-spinner {\n",
              "    border: 2px solid var(--fill-color);\n",
              "    border-color: transparent;\n",
              "    border-bottom-color: var(--fill-color);\n",
              "    animation:\n",
              "      spin 1s steps(1) infinite;\n",
              "  }\n",
              "\n",
              "  @keyframes spin {\n",
              "    0% {\n",
              "      border-color: transparent;\n",
              "      border-bottom-color: var(--fill-color);\n",
              "      border-left-color: var(--fill-color);\n",
              "    }\n",
              "    20% {\n",
              "      border-color: transparent;\n",
              "      border-left-color: var(--fill-color);\n",
              "      border-top-color: var(--fill-color);\n",
              "    }\n",
              "    30% {\n",
              "      border-color: transparent;\n",
              "      border-left-color: var(--fill-color);\n",
              "      border-top-color: var(--fill-color);\n",
              "      border-right-color: var(--fill-color);\n",
              "    }\n",
              "    40% {\n",
              "      border-color: transparent;\n",
              "      border-right-color: var(--fill-color);\n",
              "      border-top-color: var(--fill-color);\n",
              "    }\n",
              "    60% {\n",
              "      border-color: transparent;\n",
              "      border-right-color: var(--fill-color);\n",
              "    }\n",
              "    80% {\n",
              "      border-color: transparent;\n",
              "      border-right-color: var(--fill-color);\n",
              "      border-bottom-color: var(--fill-color);\n",
              "    }\n",
              "    90% {\n",
              "      border-color: transparent;\n",
              "      border-bottom-color: var(--fill-color);\n",
              "    }\n",
              "  }\n",
              "</style>\n",
              "\n",
              "  <script>\n",
              "    async function quickchart(key) {\n",
              "      const quickchartButtonEl =\n",
              "        document.querySelector('#' + key + ' button');\n",
              "      quickchartButtonEl.disabled = true;  // To prevent multiple clicks.\n",
              "      quickchartButtonEl.classList.add('colab-df-spinner');\n",
              "      try {\n",
              "        const charts = await google.colab.kernel.invokeFunction(\n",
              "            'suggestCharts', [key], {});\n",
              "      } catch (error) {\n",
              "        console.error('Error during call to suggestCharts:', error);\n",
              "      }\n",
              "      quickchartButtonEl.classList.remove('colab-df-spinner');\n",
              "      quickchartButtonEl.classList.add('colab-df-quickchart-complete');\n",
              "    }\n",
              "    (() => {\n",
              "      let quickchartButtonEl =\n",
              "        document.querySelector('#df-10853edd-387e-416e-94f6-8b64a53e0a48 button');\n",
              "      quickchartButtonEl.style.display =\n",
              "        google.colab.kernel.accessAllowed ? 'block' : 'none';\n",
              "    })();\n",
              "  </script>\n",
              "</div>\n",
              "    </div>\n",
              "  </div>\n"
            ],
            "application/vnd.google.colaboratory.intrinsic+json": {
              "type": "dataframe",
              "variable_name": "df"
            }
          },
          "metadata": {},
          "execution_count": 5
        }
      ]
    },
    {
      "cell_type": "code",
      "source": [
        "df.columns"
      ],
      "metadata": {
        "colab": {
          "base_uri": "https://localhost:8080/"
        },
        "id": "SztCV-nBj4Kv",
        "outputId": "e32110ca-0ce0-4e66-8fb2-a97ccb7511c3"
      },
      "execution_count": null,
      "outputs": [
        {
          "output_type": "execute_result",
          "data": {
            "text/plain": [
              "Index(['Unnamed: 0', 'encounter_id', 'patient_nbr', 'race', 'gender', 'age',\n",
              "       'admission_type_id', 'discharge_disposition_id', 'admission_source_id',\n",
              "       'time_in_hospital', 'num_lab_procedures', 'num_procedures',\n",
              "       'num_medications', 'number_outpatient', 'number_emergency',\n",
              "       'number_inpatient', 'diag_1', 'diag_2', 'diag_3', 'number_diagnoses',\n",
              "       'metformin', 'repaglinide', 'glimepiride', 'glipizide', 'glyburide',\n",
              "       'pioglitazone', 'rosiglitazone', 'insulin', 'glyburide-metformin',\n",
              "       'change', 'diabetesMed', 'readmitted', 'PC1', 'PC2', 'PC3',\n",
              "       'som_jaccard_0', 'som_jaccard_1', 'som_euc_0', 'som_euc_1',\n",
              "       'diag_1_group', 'diag_2_group', 'diag_3_group', 'ae_0', 'ae_1', 'ae_2',\n",
              "       'ae_3', 'ae_4', 'ae_5', 'ae_6', 'ae_7', 'ae_8', 'ae_9', 'ae_10',\n",
              "       'ae_11', 'ae_12', 'ae_13'],\n",
              "      dtype='object')"
            ]
          },
          "metadata": {},
          "execution_count": 6
        }
      ]
    },
    {
      "cell_type": "code",
      "source": [
        "print(df[df['readmitted']=='NO'].shape)\n",
        "print(df[df['readmitted']=='>30'].shape)\n",
        "print(df[df['readmitted']=='<30'].shape)"
      ],
      "metadata": {
        "colab": {
          "base_uri": "https://localhost:8080/"
        },
        "id": "a7I3tF-d-Dmb",
        "outputId": "80798648-9b5e-4be1-c8ca-0c762d50cacb"
      },
      "execution_count": null,
      "outputs": [
        {
          "output_type": "stream",
          "name": "stdout",
          "text": [
            "(53212, 56)\n",
            "(34744, 56)\n",
            "(11110, 56)\n"
          ]
        }
      ]
    },
    {
      "cell_type": "code",
      "source": [
        "df_3_levels=df.copy()"
      ],
      "metadata": {
        "id": "aHcKkCevGEoF"
      },
      "execution_count": null,
      "outputs": []
    },
    {
      "cell_type": "code",
      "source": [
        "df_2_levels=df.copy()\n",
        "df_2_levels['readmitted'] = df_2_levels['readmitted'].replace('NO', '>30')"
      ],
      "metadata": {
        "id": "COatYqnpuOP3"
      },
      "execution_count": null,
      "outputs": []
    },
    {
      "cell_type": "code",
      "source": [
        "print(df['readmitted'].unique())\n",
        "print(df_2_levels['readmitted'].unique())\n",
        "print(df_3_levels['readmitted'].unique())"
      ],
      "metadata": {
        "colab": {
          "base_uri": "https://localhost:8080/"
        },
        "id": "e2EZNMuW3XRz",
        "outputId": "f68f052a-089c-4207-dba6-8327b3047532"
      },
      "execution_count": null,
      "outputs": [
        {
          "output_type": "stream",
          "name": "stdout",
          "text": [
            "['>30' 'NO' '<30']\n",
            "['>30' '<30']\n",
            "['>30' 'NO' '<30']\n"
          ]
        }
      ]
    },
    {
      "cell_type": "code",
      "source": [
        "print(df_2_levels[df_2_levels['readmitted']=='NO'].shape)\n",
        "print(df_2_levels[df_2_levels['readmitted']=='>30'].shape)\n",
        "print(df_2_levels[df_2_levels['readmitted']=='<30'].shape)"
      ],
      "metadata": {
        "colab": {
          "base_uri": "https://localhost:8080/"
        },
        "id": "GgyDxjbLKL5B",
        "outputId": "e4e15565-7868-4964-ccfd-b1ee4266ca52"
      },
      "execution_count": null,
      "outputs": [
        {
          "output_type": "stream",
          "name": "stdout",
          "text": [
            "(0, 56)\n",
            "(87956, 56)\n",
            "(11110, 56)\n"
          ]
        }
      ]
    },
    {
      "cell_type": "code",
      "source": [
        "#df=df_downsampled\n",
        "df=df_2_levels.copy()"
      ],
      "metadata": {
        "id": "6eE2rRTu2dAN"
      },
      "execution_count": null,
      "outputs": []
    },
    {
      "cell_type": "code",
      "source": [
        "print(df[df['readmitted']=='NO'].shape)\n",
        "print(df[df['readmitted']=='>30'].shape)\n",
        "print(df[df['readmitted']=='<30'].shape)"
      ],
      "metadata": {
        "colab": {
          "base_uri": "https://localhost:8080/"
        },
        "id": "zGbic2Za2a5d",
        "outputId": "efaae96d-1875-4026-ea9e-e410bbfd213a"
      },
      "execution_count": null,
      "outputs": [
        {
          "output_type": "stream",
          "name": "stdout",
          "text": [
            "(0, 56)\n",
            "(87956, 56)\n",
            "(11110, 56)\n"
          ]
        }
      ]
    },
    {
      "cell_type": "code",
      "source": [
        "y=df['readmitted']"
      ],
      "metadata": {
        "id": "EUVFfkR-j6mX"
      },
      "execution_count": null,
      "outputs": []
    },
    {
      "cell_type": "code",
      "source": [
        "# Assuming 'y' contains your target variable\n",
        "label_encoder = LabelEncoder()\n",
        "y_encoded = label_encoder.fit_transform(y)"
      ],
      "metadata": {
        "id": "tIuSR7WF727E"
      },
      "execution_count": null,
      "outputs": []
    },
    {
      "cell_type": "code",
      "source": [
        "y_encoded"
      ],
      "metadata": {
        "colab": {
          "base_uri": "https://localhost:8080/"
        },
        "id": "_P7dItJDj9DZ",
        "outputId": "1fb5d0c6-868d-4fae-867a-c39efb1da3db"
      },
      "execution_count": null,
      "outputs": [
        {
          "output_type": "execute_result",
          "data": {
            "text/plain": [
              "array([1, 1, 1, ..., 1, 1, 1])"
            ]
          },
          "metadata": {},
          "execution_count": 35
        }
      ]
    },
    {
      "cell_type": "code",
      "source": [
        "column1=[\n",
        "  'PC1','PC2', 'PC3',\n",
        "  'ae_0', 'ae_1', 'ae_2', 'ae_3', 'ae_4',\n",
        "  'ae_5', 'ae_6', 'ae_7', 'ae_8', 'ae_9',\n",
        "  'ae_10', 'ae_11', 'ae_12', 'ae_13'\n",
        "]\n",
        "# column1=[\n",
        "#   'PC1','PC2', 'PC3'\n",
        "# ]\n",
        "df[column1].head()"
      ],
      "metadata": {
        "colab": {
          "base_uri": "https://localhost:8080/",
          "height": 226
        },
        "id": "k8WhHdwwkmWx",
        "outputId": "63057cc2-3ae1-4ecd-f1cc-13a8120f28ca"
      },
      "execution_count": null,
      "outputs": [
        {
          "output_type": "execute_result",
          "data": {
            "text/plain": [
              "        PC1       PC2       PC3       ae_0       ae_1       ae_2       ae_3  \\\n",
              "0 -0.214843  0.070744 -0.194516  21.509342  19.395063  13.789462  18.633125   \n",
              "1  0.417941 -0.522845  0.160733  35.920300   9.260715  18.687860   9.814375   \n",
              "2 -0.129162 -0.131116 -0.050765  25.516636  20.602080  21.286129  11.283273   \n",
              "3 -0.333245 -0.143083 -0.009183  15.020832  18.029790  14.233169   6.268053   \n",
              "4  0.640729 -0.446888 -0.059434  17.637230  34.109043  10.788097  20.966002   \n",
              "\n",
              "        ae_4       ae_5       ae_6       ae_7       ae_8       ae_9  \\\n",
              "0   8.584562  20.436142   5.291698   8.157053  17.783960  23.949799   \n",
              "1  15.110230  15.245245  33.812020   2.966186  29.897364  28.222050   \n",
              "2   1.598465  25.428694   8.711449  21.261776  11.921114  30.430517   \n",
              "3  13.074265   8.245643  12.659610  19.848545   6.032684  29.801752   \n",
              "4  31.112360  17.769810  11.906863  35.779766  28.849283  11.464336   \n",
              "\n",
              "       ae_10      ae_11      ae_12      ae_13  \n",
              "0  11.668662   8.264934  22.667690  27.363850  \n",
              "1  23.203943  12.367907  29.435223  36.155518  \n",
              "2  22.689114   7.689127  13.135617  25.826536  \n",
              "3  10.818433   3.274082  20.075940  10.891075  \n",
              "4  28.415997  17.790482  19.180480  26.632393  "
            ],
            "text/html": [
              "\n",
              "  <div id=\"df-15492beb-ffdf-4ecb-a797-d0882f4cd6fe\" class=\"colab-df-container\">\n",
              "    <div>\n",
              "<style scoped>\n",
              "    .dataframe tbody tr th:only-of-type {\n",
              "        vertical-align: middle;\n",
              "    }\n",
              "\n",
              "    .dataframe tbody tr th {\n",
              "        vertical-align: top;\n",
              "    }\n",
              "\n",
              "    .dataframe thead th {\n",
              "        text-align: right;\n",
              "    }\n",
              "</style>\n",
              "<table border=\"1\" class=\"dataframe\">\n",
              "  <thead>\n",
              "    <tr style=\"text-align: right;\">\n",
              "      <th></th>\n",
              "      <th>PC1</th>\n",
              "      <th>PC2</th>\n",
              "      <th>PC3</th>\n",
              "      <th>ae_0</th>\n",
              "      <th>ae_1</th>\n",
              "      <th>ae_2</th>\n",
              "      <th>ae_3</th>\n",
              "      <th>ae_4</th>\n",
              "      <th>ae_5</th>\n",
              "      <th>ae_6</th>\n",
              "      <th>ae_7</th>\n",
              "      <th>ae_8</th>\n",
              "      <th>ae_9</th>\n",
              "      <th>ae_10</th>\n",
              "      <th>ae_11</th>\n",
              "      <th>ae_12</th>\n",
              "      <th>ae_13</th>\n",
              "    </tr>\n",
              "  </thead>\n",
              "  <tbody>\n",
              "    <tr>\n",
              "      <th>0</th>\n",
              "      <td>-0.214843</td>\n",
              "      <td>0.070744</td>\n",
              "      <td>-0.194516</td>\n",
              "      <td>21.509342</td>\n",
              "      <td>19.395063</td>\n",
              "      <td>13.789462</td>\n",
              "      <td>18.633125</td>\n",
              "      <td>8.584562</td>\n",
              "      <td>20.436142</td>\n",
              "      <td>5.291698</td>\n",
              "      <td>8.157053</td>\n",
              "      <td>17.783960</td>\n",
              "      <td>23.949799</td>\n",
              "      <td>11.668662</td>\n",
              "      <td>8.264934</td>\n",
              "      <td>22.667690</td>\n",
              "      <td>27.363850</td>\n",
              "    </tr>\n",
              "    <tr>\n",
              "      <th>1</th>\n",
              "      <td>0.417941</td>\n",
              "      <td>-0.522845</td>\n",
              "      <td>0.160733</td>\n",
              "      <td>35.920300</td>\n",
              "      <td>9.260715</td>\n",
              "      <td>18.687860</td>\n",
              "      <td>9.814375</td>\n",
              "      <td>15.110230</td>\n",
              "      <td>15.245245</td>\n",
              "      <td>33.812020</td>\n",
              "      <td>2.966186</td>\n",
              "      <td>29.897364</td>\n",
              "      <td>28.222050</td>\n",
              "      <td>23.203943</td>\n",
              "      <td>12.367907</td>\n",
              "      <td>29.435223</td>\n",
              "      <td>36.155518</td>\n",
              "    </tr>\n",
              "    <tr>\n",
              "      <th>2</th>\n",
              "      <td>-0.129162</td>\n",
              "      <td>-0.131116</td>\n",
              "      <td>-0.050765</td>\n",
              "      <td>25.516636</td>\n",
              "      <td>20.602080</td>\n",
              "      <td>21.286129</td>\n",
              "      <td>11.283273</td>\n",
              "      <td>1.598465</td>\n",
              "      <td>25.428694</td>\n",
              "      <td>8.711449</td>\n",
              "      <td>21.261776</td>\n",
              "      <td>11.921114</td>\n",
              "      <td>30.430517</td>\n",
              "      <td>22.689114</td>\n",
              "      <td>7.689127</td>\n",
              "      <td>13.135617</td>\n",
              "      <td>25.826536</td>\n",
              "    </tr>\n",
              "    <tr>\n",
              "      <th>3</th>\n",
              "      <td>-0.333245</td>\n",
              "      <td>-0.143083</td>\n",
              "      <td>-0.009183</td>\n",
              "      <td>15.020832</td>\n",
              "      <td>18.029790</td>\n",
              "      <td>14.233169</td>\n",
              "      <td>6.268053</td>\n",
              "      <td>13.074265</td>\n",
              "      <td>8.245643</td>\n",
              "      <td>12.659610</td>\n",
              "      <td>19.848545</td>\n",
              "      <td>6.032684</td>\n",
              "      <td>29.801752</td>\n",
              "      <td>10.818433</td>\n",
              "      <td>3.274082</td>\n",
              "      <td>20.075940</td>\n",
              "      <td>10.891075</td>\n",
              "    </tr>\n",
              "    <tr>\n",
              "      <th>4</th>\n",
              "      <td>0.640729</td>\n",
              "      <td>-0.446888</td>\n",
              "      <td>-0.059434</td>\n",
              "      <td>17.637230</td>\n",
              "      <td>34.109043</td>\n",
              "      <td>10.788097</td>\n",
              "      <td>20.966002</td>\n",
              "      <td>31.112360</td>\n",
              "      <td>17.769810</td>\n",
              "      <td>11.906863</td>\n",
              "      <td>35.779766</td>\n",
              "      <td>28.849283</td>\n",
              "      <td>11.464336</td>\n",
              "      <td>28.415997</td>\n",
              "      <td>17.790482</td>\n",
              "      <td>19.180480</td>\n",
              "      <td>26.632393</td>\n",
              "    </tr>\n",
              "  </tbody>\n",
              "</table>\n",
              "</div>\n",
              "    <div class=\"colab-df-buttons\">\n",
              "\n",
              "  <div class=\"colab-df-container\">\n",
              "    <button class=\"colab-df-convert\" onclick=\"convertToInteractive('df-15492beb-ffdf-4ecb-a797-d0882f4cd6fe')\"\n",
              "            title=\"Convert this dataframe to an interactive table.\"\n",
              "            style=\"display:none;\">\n",
              "\n",
              "  <svg xmlns=\"http://www.w3.org/2000/svg\" height=\"24px\" viewBox=\"0 -960 960 960\">\n",
              "    <path d=\"M120-120v-720h720v720H120Zm60-500h600v-160H180v160Zm220 220h160v-160H400v160Zm0 220h160v-160H400v160ZM180-400h160v-160H180v160Zm440 0h160v-160H620v160ZM180-180h160v-160H180v160Zm440 0h160v-160H620v160Z\"/>\n",
              "  </svg>\n",
              "    </button>\n",
              "\n",
              "  <style>\n",
              "    .colab-df-container {\n",
              "      display:flex;\n",
              "      gap: 12px;\n",
              "    }\n",
              "\n",
              "    .colab-df-convert {\n",
              "      background-color: #E8F0FE;\n",
              "      border: none;\n",
              "      border-radius: 50%;\n",
              "      cursor: pointer;\n",
              "      display: none;\n",
              "      fill: #1967D2;\n",
              "      height: 32px;\n",
              "      padding: 0 0 0 0;\n",
              "      width: 32px;\n",
              "    }\n",
              "\n",
              "    .colab-df-convert:hover {\n",
              "      background-color: #E2EBFA;\n",
              "      box-shadow: 0px 1px 2px rgba(60, 64, 67, 0.3), 0px 1px 3px 1px rgba(60, 64, 67, 0.15);\n",
              "      fill: #174EA6;\n",
              "    }\n",
              "\n",
              "    .colab-df-buttons div {\n",
              "      margin-bottom: 4px;\n",
              "    }\n",
              "\n",
              "    [theme=dark] .colab-df-convert {\n",
              "      background-color: #3B4455;\n",
              "      fill: #D2E3FC;\n",
              "    }\n",
              "\n",
              "    [theme=dark] .colab-df-convert:hover {\n",
              "      background-color: #434B5C;\n",
              "      box-shadow: 0px 1px 3px 1px rgba(0, 0, 0, 0.15);\n",
              "      filter: drop-shadow(0px 1px 2px rgba(0, 0, 0, 0.3));\n",
              "      fill: #FFFFFF;\n",
              "    }\n",
              "  </style>\n",
              "\n",
              "    <script>\n",
              "      const buttonEl =\n",
              "        document.querySelector('#df-15492beb-ffdf-4ecb-a797-d0882f4cd6fe button.colab-df-convert');\n",
              "      buttonEl.style.display =\n",
              "        google.colab.kernel.accessAllowed ? 'block' : 'none';\n",
              "\n",
              "      async function convertToInteractive(key) {\n",
              "        const element = document.querySelector('#df-15492beb-ffdf-4ecb-a797-d0882f4cd6fe');\n",
              "        const dataTable =\n",
              "          await google.colab.kernel.invokeFunction('convertToInteractive',\n",
              "                                                    [key], {});\n",
              "        if (!dataTable) return;\n",
              "\n",
              "        const docLinkHtml = 'Like what you see? Visit the ' +\n",
              "          '<a target=\"_blank\" href=https://colab.research.google.com/notebooks/data_table.ipynb>data table notebook</a>'\n",
              "          + ' to learn more about interactive tables.';\n",
              "        element.innerHTML = '';\n",
              "        dataTable['output_type'] = 'display_data';\n",
              "        await google.colab.output.renderOutput(dataTable, element);\n",
              "        const docLink = document.createElement('div');\n",
              "        docLink.innerHTML = docLinkHtml;\n",
              "        element.appendChild(docLink);\n",
              "      }\n",
              "    </script>\n",
              "  </div>\n",
              "\n",
              "\n",
              "<div id=\"df-dcc6a355-8187-4de8-a86d-57ecb7f6a7b4\">\n",
              "  <button class=\"colab-df-quickchart\" onclick=\"quickchart('df-dcc6a355-8187-4de8-a86d-57ecb7f6a7b4')\"\n",
              "            title=\"Suggest charts\"\n",
              "            style=\"display:none;\">\n",
              "\n",
              "<svg xmlns=\"http://www.w3.org/2000/svg\" height=\"24px\"viewBox=\"0 0 24 24\"\n",
              "     width=\"24px\">\n",
              "    <g>\n",
              "        <path d=\"M19 3H5c-1.1 0-2 .9-2 2v14c0 1.1.9 2 2 2h14c1.1 0 2-.9 2-2V5c0-1.1-.9-2-2-2zM9 17H7v-7h2v7zm4 0h-2V7h2v10zm4 0h-2v-4h2v4z\"/>\n",
              "    </g>\n",
              "</svg>\n",
              "  </button>\n",
              "\n",
              "<style>\n",
              "  .colab-df-quickchart {\n",
              "      --bg-color: #E8F0FE;\n",
              "      --fill-color: #1967D2;\n",
              "      --hover-bg-color: #E2EBFA;\n",
              "      --hover-fill-color: #174EA6;\n",
              "      --disabled-fill-color: #AAA;\n",
              "      --disabled-bg-color: #DDD;\n",
              "  }\n",
              "\n",
              "  [theme=dark] .colab-df-quickchart {\n",
              "      --bg-color: #3B4455;\n",
              "      --fill-color: #D2E3FC;\n",
              "      --hover-bg-color: #434B5C;\n",
              "      --hover-fill-color: #FFFFFF;\n",
              "      --disabled-bg-color: #3B4455;\n",
              "      --disabled-fill-color: #666;\n",
              "  }\n",
              "\n",
              "  .colab-df-quickchart {\n",
              "    background-color: var(--bg-color);\n",
              "    border: none;\n",
              "    border-radius: 50%;\n",
              "    cursor: pointer;\n",
              "    display: none;\n",
              "    fill: var(--fill-color);\n",
              "    height: 32px;\n",
              "    padding: 0;\n",
              "    width: 32px;\n",
              "  }\n",
              "\n",
              "  .colab-df-quickchart:hover {\n",
              "    background-color: var(--hover-bg-color);\n",
              "    box-shadow: 0 1px 2px rgba(60, 64, 67, 0.3), 0 1px 3px 1px rgba(60, 64, 67, 0.15);\n",
              "    fill: var(--button-hover-fill-color);\n",
              "  }\n",
              "\n",
              "  .colab-df-quickchart-complete:disabled,\n",
              "  .colab-df-quickchart-complete:disabled:hover {\n",
              "    background-color: var(--disabled-bg-color);\n",
              "    fill: var(--disabled-fill-color);\n",
              "    box-shadow: none;\n",
              "  }\n",
              "\n",
              "  .colab-df-spinner {\n",
              "    border: 2px solid var(--fill-color);\n",
              "    border-color: transparent;\n",
              "    border-bottom-color: var(--fill-color);\n",
              "    animation:\n",
              "      spin 1s steps(1) infinite;\n",
              "  }\n",
              "\n",
              "  @keyframes spin {\n",
              "    0% {\n",
              "      border-color: transparent;\n",
              "      border-bottom-color: var(--fill-color);\n",
              "      border-left-color: var(--fill-color);\n",
              "    }\n",
              "    20% {\n",
              "      border-color: transparent;\n",
              "      border-left-color: var(--fill-color);\n",
              "      border-top-color: var(--fill-color);\n",
              "    }\n",
              "    30% {\n",
              "      border-color: transparent;\n",
              "      border-left-color: var(--fill-color);\n",
              "      border-top-color: var(--fill-color);\n",
              "      border-right-color: var(--fill-color);\n",
              "    }\n",
              "    40% {\n",
              "      border-color: transparent;\n",
              "      border-right-color: var(--fill-color);\n",
              "      border-top-color: var(--fill-color);\n",
              "    }\n",
              "    60% {\n",
              "      border-color: transparent;\n",
              "      border-right-color: var(--fill-color);\n",
              "    }\n",
              "    80% {\n",
              "      border-color: transparent;\n",
              "      border-right-color: var(--fill-color);\n",
              "      border-bottom-color: var(--fill-color);\n",
              "    }\n",
              "    90% {\n",
              "      border-color: transparent;\n",
              "      border-bottom-color: var(--fill-color);\n",
              "    }\n",
              "  }\n",
              "</style>\n",
              "\n",
              "  <script>\n",
              "    async function quickchart(key) {\n",
              "      const quickchartButtonEl =\n",
              "        document.querySelector('#' + key + ' button');\n",
              "      quickchartButtonEl.disabled = true;  // To prevent multiple clicks.\n",
              "      quickchartButtonEl.classList.add('colab-df-spinner');\n",
              "      try {\n",
              "        const charts = await google.colab.kernel.invokeFunction(\n",
              "            'suggestCharts', [key], {});\n",
              "      } catch (error) {\n",
              "        console.error('Error during call to suggestCharts:', error);\n",
              "      }\n",
              "      quickchartButtonEl.classList.remove('colab-df-spinner');\n",
              "      quickchartButtonEl.classList.add('colab-df-quickchart-complete');\n",
              "    }\n",
              "    (() => {\n",
              "      let quickchartButtonEl =\n",
              "        document.querySelector('#df-dcc6a355-8187-4de8-a86d-57ecb7f6a7b4 button');\n",
              "      quickchartButtonEl.style.display =\n",
              "        google.colab.kernel.accessAllowed ? 'block' : 'none';\n",
              "    })();\n",
              "  </script>\n",
              "</div>\n",
              "    </div>\n",
              "  </div>\n"
            ],
            "application/vnd.google.colaboratory.intrinsic+json": {
              "type": "dataframe",
              "summary": "{\n  \"name\": \"df[column1]\",\n  \"rows\": 5,\n  \"fields\": [\n    {\n      \"column\": \"PC1\",\n      \"properties\": {\n        \"dtype\": \"number\",\n        \"std\": 0.4272015027981465,\n        \"min\": -0.3332447295904094,\n        \"max\": 0.6407291310455447,\n        \"num_unique_values\": 5,\n        \"samples\": [\n          0.4179408446806347,\n          0.6407291310455447,\n          -0.1291615785231171\n        ],\n        \"semantic_type\": \"\",\n        \"description\": \"\"\n      }\n    },\n    {\n      \"column\": \"PC2\",\n      \"properties\": {\n        \"dtype\": \"number\",\n        \"std\": 0.24518873142258907,\n        \"min\": -0.5228446268704522,\n        \"max\": 0.0707436192177775,\n        \"num_unique_values\": 5,\n        \"samples\": [\n          -0.5228446268704522,\n          -0.4468876332155237,\n          -0.1311157973714426\n        ],\n        \"semantic_type\": \"\",\n        \"description\": \"\"\n      }\n    },\n    {\n      \"column\": \"PC3\",\n      \"properties\": {\n        \"dtype\": \"number\",\n        \"std\": 0.127645548328793,\n        \"min\": -0.1945160848024772,\n        \"max\": 0.1607330489641071,\n        \"num_unique_values\": 5,\n        \"samples\": [\n          0.1607330489641071,\n          -0.0594343323008027,\n          -0.0507647375114264\n        ],\n        \"semantic_type\": \"\",\n        \"description\": \"\"\n      }\n    },\n    {\n      \"column\": \"ae_0\",\n      \"properties\": {\n        \"dtype\": \"number\",\n        \"std\": 8.182955590699853,\n        \"min\": 15.020832,\n        \"max\": 35.9203,\n        \"num_unique_values\": 5,\n        \"samples\": [\n          35.9203,\n          17.63723,\n          25.516636\n        ],\n        \"semantic_type\": \"\",\n        \"description\": \"\"\n      }\n    },\n    {\n      \"column\": \"ae_1\",\n      \"properties\": {\n        \"dtype\": \"number\",\n        \"std\": 8.924927913756836,\n        \"min\": 9.2607155,\n        \"max\": 34.109043,\n        \"num_unique_values\": 5,\n        \"samples\": [\n          9.2607155,\n          34.109043,\n          20.60208\n        ],\n        \"semantic_type\": \"\",\n        \"description\": \"\"\n      }\n    },\n    {\n      \"column\": \"ae_2\",\n      \"properties\": {\n        \"dtype\": \"number\",\n        \"std\": 4.184628763212968,\n        \"min\": 10.788097,\n        \"max\": 21.286129,\n        \"num_unique_values\": 5,\n        \"samples\": [\n          18.68786,\n          10.788097,\n          21.286129\n        ],\n        \"semantic_type\": \"\",\n        \"description\": \"\"\n      }\n    },\n    {\n      \"column\": \"ae_3\",\n      \"properties\": {\n        \"dtype\": \"number\",\n        \"std\": 6.181254922335865,\n        \"min\": 6.2680526,\n        \"max\": 20.966002,\n        \"num_unique_values\": 5,\n        \"samples\": [\n          9.814375,\n          20.966002,\n          11.283273\n        ],\n        \"semantic_type\": \"\",\n        \"description\": \"\"\n      }\n    },\n    {\n      \"column\": \"ae_4\",\n      \"properties\": {\n        \"dtype\": \"number\",\n        \"std\": 10.931530087012222,\n        \"min\": 1.5984648,\n        \"max\": 31.11236,\n        \"num_unique_values\": 5,\n        \"samples\": [\n          15.11023,\n          31.11236,\n          1.5984648\n        ],\n        \"semantic_type\": \"\",\n        \"description\": \"\"\n      }\n    },\n    {\n      \"column\": \"ae_5\",\n      \"properties\": {\n        \"dtype\": \"number\",\n        \"std\": 6.369005308176914,\n        \"min\": 8.245643,\n        \"max\": 25.428694,\n        \"num_unique_values\": 5,\n        \"samples\": [\n          15.245245,\n          17.76981,\n          25.428694\n        ],\n        \"semantic_type\": \"\",\n        \"description\": \"\"\n      }\n    },\n    {\n      \"column\": \"ae_6\",\n      \"properties\": {\n        \"dtype\": \"number\",\n        \"std\": 11.195566733289498,\n        \"min\": 5.291698,\n        \"max\": 33.81202,\n        \"num_unique_values\": 5,\n        \"samples\": [\n          33.81202,\n          11.906863,\n          8.711449\n        ],\n        \"semantic_type\": \"\",\n        \"description\": \"\"\n      }\n    },\n    {\n      \"column\": \"ae_7\",\n      \"properties\": {\n        \"dtype\": \"number\",\n        \"std\": 12.769946950511372,\n        \"min\": 2.9661858,\n        \"max\": 35.779766,\n        \"num_unique_values\": 5,\n        \"samples\": [\n          2.9661858,\n          35.779766,\n          21.261776\n        ],\n        \"semantic_type\": \"\",\n        \"description\": \"\"\n      }\n    },\n    {\n      \"column\": \"ae_8\",\n      \"properties\": {\n        \"dtype\": \"number\",\n        \"std\": 10.433700289563069,\n        \"min\": 6.0326843,\n        \"max\": 29.897364,\n        \"num_unique_values\": 5,\n        \"samples\": [\n          29.897364,\n          28.849283,\n          11.921114\n        ],\n        \"semantic_type\": \"\",\n        \"description\": \"\"\n      }\n    },\n    {\n      \"column\": \"ae_9\",\n      \"properties\": {\n        \"dtype\": \"number\",\n        \"std\": 7.857957529641001,\n        \"min\": 11.464336,\n        \"max\": 30.430517,\n        \"num_unique_values\": 5,\n        \"samples\": [\n          28.22205,\n          11.464336,\n          30.430517\n        ],\n        \"semantic_type\": \"\",\n        \"description\": \"\"\n      }\n    },\n    {\n      \"column\": \"ae_10\",\n      \"properties\": {\n        \"dtype\": \"number\",\n        \"std\": 7.745725007317694,\n        \"min\": 10.818433,\n        \"max\": 28.415997,\n        \"num_unique_values\": 5,\n        \"samples\": [\n          23.203943,\n          28.415997,\n          22.689114\n        ],\n        \"semantic_type\": \"\",\n        \"description\": \"\"\n      }\n    },\n    {\n      \"column\": \"ae_11\",\n      \"properties\": {\n        \"dtype\": \"number\",\n        \"std\": 5.472930880860637,\n        \"min\": 3.2740817,\n        \"max\": 17.790482,\n        \"num_unique_values\": 5,\n        \"samples\": [\n          12.367907,\n          17.790482,\n          7.689127\n        ],\n        \"semantic_type\": \"\",\n        \"description\": \"\"\n      }\n    },\n    {\n      \"column\": \"ae_12\",\n      \"properties\": {\n        \"dtype\": \"number\",\n        \"std\": 5.913886661494664,\n        \"min\": 13.135617,\n        \"max\": 29.435223,\n        \"num_unique_values\": 5,\n        \"samples\": [\n          29.435223,\n          19.18048,\n          13.135617\n        ],\n        \"semantic_type\": \"\",\n        \"description\": \"\"\n      }\n    },\n    {\n      \"column\": \"ae_13\",\n      \"properties\": {\n        \"dtype\": \"number\",\n        \"std\": 9.106921703535685,\n        \"min\": 10.891075,\n        \"max\": 36.155518,\n        \"num_unique_values\": 5,\n        \"samples\": [\n          36.155518,\n          26.632393,\n          25.826536\n        ],\n        \"semantic_type\": \"\",\n        \"description\": \"\"\n      }\n    }\n  ]\n}"
            }
          },
          "metadata": {},
          "execution_count": 36
        }
      ]
    },
    {
      "cell_type": "code",
      "source": [
        "X=df[column1]"
      ],
      "metadata": {
        "id": "KujF31Lekqgx"
      },
      "execution_count": null,
      "outputs": []
    },
    {
      "cell_type": "code",
      "source": [
        "X_train, X_test, y_train, y_test = train_test_split(X, y_encoded, test_size=0.05, random_state=42,stratify=y_encoded)"
      ],
      "metadata": {
        "id": "HU2y_RnFnb1l"
      },
      "execution_count": null,
      "outputs": []
    },
    {
      "cell_type": "code",
      "source": [
        "# Normalize the features\n",
        "scaler = preproc.MinMaxScaler()\n",
        "X_train_normalized = scaler.fit_transform(X_train)"
      ],
      "metadata": {
        "id": "jA1aG56gm1jR"
      },
      "execution_count": null,
      "outputs": []
    },
    {
      "cell_type": "code",
      "source": [
        "X_test_normalized=scaler.transform(X_test)"
      ],
      "metadata": {
        "id": "7eoss0c0nExc"
      },
      "execution_count": null,
      "outputs": []
    },
    {
      "cell_type": "markdown",
      "source": [
        "# Deep Learning"
      ],
      "metadata": {
        "id": "GqgeLYeMkXlw"
      }
    },
    {
      "cell_type": "code",
      "source": [
        "# Convert data to PyTorch tensors\n",
        "X_train_tensor = torch.tensor(X_train_normalized, dtype=torch.float32)\n",
        "y_train_tensor = torch.tensor(y_train, dtype=torch.float32)\n",
        "X_test_tensor = torch.tensor(X_test_normalized, dtype=torch.float32)\n",
        "y_test_tensor = torch.tensor(y_test, dtype=torch.float32)"
      ],
      "metadata": {
        "id": "h8Fou--knavV"
      },
      "execution_count": null,
      "outputs": []
    },
    {
      "cell_type": "code",
      "source": [
        "print(X_train_tensor.shape)\n",
        "print(X_test_tensor.shape)\n",
        "print(y_train_tensor.shape)\n",
        "print(y_test_tensor.shape)"
      ],
      "metadata": {
        "colab": {
          "base_uri": "https://localhost:8080/"
        },
        "id": "wZzdrD1Sn1i8",
        "outputId": "dabd90b2-b9cc-48df-eadc-2b482ecc20fa"
      },
      "execution_count": null,
      "outputs": [
        {
          "output_type": "stream",
          "name": "stdout",
          "text": [
            "torch.Size([94112, 17])\n",
            "torch.Size([4954, 17])\n",
            "torch.Size([94112])\n",
            "torch.Size([4954])\n"
          ]
        }
      ]
    },
    {
      "cell_type": "code",
      "source": [
        "# # Assuming df contains your data\n",
        "# X = df.drop('target_variable_column_name', axis=1)  # Features (input)\n",
        "# y = df['readmitted']  # Target variable (output)\n",
        "\n",
        "# # Convert pandas DataFrame to PyTorch tensors\n",
        "# X_tensor = torch.tensor(X.values, dtype=torch.float32)\n",
        "# y_tensor = torch.tensor(y.values, dtype=torch.float32)\n",
        "\n",
        "# # Printing shapes to verify\n",
        "# print(\"X_tensor shape:\", X_tensor.shape)\n",
        "# print(\"y_tensor shape:\", y_tensor.shape)\n",
        "class_weights = compute_class_weight('balanced', classes=[0, 1], y=y_encoded)\n",
        "print(class_weights)\n",
        "class_weights = torch.tensor(class_weights, dtype=torch.float32)\n",
        "\n",
        "# Define loss function with class weights\n"
      ],
      "metadata": {
        "colab": {
          "base_uri": "https://localhost:8080/"
        },
        "id": "uoybCyeQkZvC",
        "outputId": "8b15d4c2-1908-470a-d60f-992345f727d2"
      },
      "execution_count": null,
      "outputs": [
        {
          "output_type": "stream",
          "name": "stdout",
          "text": [
            "[4.45841584 0.56315658]\n"
          ]
        }
      ]
    },
    {
      "cell_type": "code",
      "source": [
        "# Define your deep neural network architecture\n",
        "class DeepNeuralNetwork(nn.Module):\n",
        "    def __init__(self, input_size):\n",
        "        super(DeepNeuralNetwork, self).__init__()\n",
        "        self.fc1 = nn.Linear(input_size, 12)  # Input layer to first hidden layer\n",
        "        self.fc2 = nn.Linear(12, 8)\n",
        "        self.fc3 = nn.Linear(8, 4)  # First hidden layer to second hidden layer\n",
        "        self.fc4 = nn.Linear(4, 1)   # Second hidden layer to output layer\n",
        "        #self.sigmoid = nn.Sigmoid()   # Sigmoid activation function\n",
        "\n",
        "    def forward(self, x):\n",
        "        x = torch.relu(self.fc1(x))  # Apply ReLU activation to first hidden layer\n",
        "        x = torch.relu(self.fc2(x))  # Apply ReLU activation to second hidden layer\n",
        "        x = torch.relu(self.fc3(x))  # Apply ReLU activation to second hidden layer\n",
        "        x = self.fc4(x)              # Output layer\n",
        "        #x = self.sigmoid(x)\n",
        "\n",
        "        return x\n",
        "\n",
        "# Instantiate your deep neural network\n",
        "input_size = X_train_tensor.shape[1]  # Number of features\n",
        "model = DeepNeuralNetwork(input_size)\n",
        "\n",
        "# Calculate class weights\n",
        "class_weights = compute_class_weight('balanced', classes=[0, 1], y=y_train)\n",
        "class_weights= 0.224#class_weights[1]/class_weights[0]\n",
        "class_weights = torch.tensor(class_weights, dtype=torch.float32)\n",
        "#print(class_weights.shape)\n",
        "\n",
        "# Define loss function with class weights\n",
        "criterion = nn.BCEWithLogitsLoss(pos_weight=class_weights)\n",
        "\n",
        "# Define loss function and optimizer\n",
        "#criterion = nn.BCELoss(weight=class_weights)  # Binary Cross-Entropy loss for binary classification\n",
        "optimizer = optim.Adam(model.parameters(), lr=0.001,weight_decay=1e-5)  # Adam optimizer\n",
        "\n",
        "# Training loop\n",
        "num_epochs = 7\n",
        "for epoch in range(num_epochs):\n",
        "    running_loss = 0.0\n",
        "    for inputs, labels in zip(X_train_tensor, y_train_tensor):\n",
        "        optimizer.zero_grad()  # Zero the gradients\n",
        "        # outputs = model(inputs.unsqueeze(0))  # Forward pass\n",
        "        # outputs = outputs.squeeze()  # Remove any singleton dimensions\n",
        "        # print(outputs.shape)\n",
        "        # print(labels.shape)\n",
        "        # loss = criterion(outputs, labels)  # Calculate the loss\n",
        "        outputs = model(inputs.unsqueeze(0))  # Forward pass\n",
        "        #outputs = outputs.item()  # Remove any singleton dimensions\n",
        "        outputs = outputs.squeeze()\n",
        "        # print(outputs.shape)\n",
        "        # print(labels.shape)\n",
        "        loss = criterion(outputs, labels)\n",
        "        #print(labels.shape)\n",
        "        loss.backward()  # Backward pass\n",
        "        optimizer.step()  # Update weights\n",
        "        running_loss += loss.item()\n",
        "    epoch_loss = running_loss / len(X_train_tensor)\n",
        "    print(f\"Epoch {epoch+1}/{num_epochs}, Loss: {epoch_loss:.4f}\")\n",
        "\n",
        "# Evaluation on the testing set\n",
        "model.eval()  # Set the model to evaluation mode\n",
        "predictions = []\n",
        "raw_predictions=[]\n",
        "\n",
        "with torch.no_grad():  # Disable gradient tracking\n",
        "    #test_loss = 0.0\n",
        "    for inputs, labels in zip(X_test_tensor, y_test_tensor):\n",
        "        outputs = model(inputs.unsqueeze(0))  # Forward pass\n",
        "        #outputs = outputs.squeeze()  # Remove any singleton dimensions\n",
        "        #test_loss += criterion(outputs, labels.unsqueeze(0)).item()\n",
        "        raw_predictions.append(outputs.item())\n",
        "        predicted_label = 1 if outputs.item() > 0.5 else 0  # Convert probability to binary label\n",
        "        predictions.append(predicted_label)\n",
        "    # avg_test_loss = test_loss / len(X_test_tensor)\n",
        "    # print(f\"Average Test Loss: {avg_test_loss:.4f}\")\n",
        "# Calculate F1 score\n",
        "# Calculate F1 score for each label\n",
        "f1_per_label = f1_score(y_test_tensor, predictions, average=None)\n",
        "\n",
        "# Print F1 score for each label\n",
        "for label, f1 in enumerate(f1_per_label):\n",
        "    print(f\"F1 Score for Label {label}: {f1:.4f}\")\n",
        "\n",
        "# Additionally, you can print a classification report which includes precision, recall, and F1-score\n",
        "print(classification_report(y_test_tensor, predictions))"
      ],
      "metadata": {
        "colab": {
          "base_uri": "https://localhost:8080/"
        },
        "id": "8GxfdZbonbRe",
        "outputId": "5bdbf980-c27d-43f0-db07-3a860ebadde7"
      },
      "execution_count": null,
      "outputs": [
        {
          "output_type": "stream",
          "name": "stdout",
          "text": [
            "Epoch 1/7, Loss: 0.2015\n",
            "Epoch 2/7, Loss: 0.2007\n",
            "Epoch 3/7, Loss: 0.2006\n",
            "Epoch 4/7, Loss: 0.2004\n",
            "Epoch 5/7, Loss: 0.2003\n",
            "Epoch 6/7, Loss: 0.2002\n",
            "Epoch 7/7, Loss: 0.2001\n",
            "F1 Score for Label 0: 0.2359\n",
            "F1 Score for Label 1: 0.7501\n",
            "              precision    recall  f1-score   support\n",
            "\n",
            "         0.0       0.15      0.52      0.24       556\n",
            "         1.0       0.91      0.64      0.75      4398\n",
            "\n",
            "    accuracy                           0.62      4954\n",
            "   macro avg       0.53      0.58      0.49      4954\n",
            "weighted avg       0.83      0.62      0.69      4954\n",
            "\n"
          ]
        }
      ]
    },
    {
      "cell_type": "code",
      "source": [
        "trainable_params = sum(p.numel() for p in model.parameters() if p.requires_grad)\n",
        "non_trainable_params = sum(p.numel() for p in model.parameters() if not p.requires_grad)\n",
        "\n",
        "print(\"Trainable parameters in the model:\", trainable_params)\n",
        "print(\"Non-trainable parameters in the model:\", non_trainable_params)"
      ],
      "metadata": {
        "colab": {
          "base_uri": "https://localhost:8080/"
        },
        "id": "1qZ6dWk_ksH1",
        "outputId": "c78b6c30-0b87-4f20-fb56-5ddfdc3febe2"
      },
      "execution_count": null,
      "outputs": [
        {
          "output_type": "stream",
          "name": "stdout",
          "text": [
            "Trainable parameters in the model: 361\n",
            "Non-trainable parameters in the model: 0\n"
          ]
        }
      ]
    },
    {
      "cell_type": "code",
      "source": [
        "print(model)"
      ],
      "metadata": {
        "colab": {
          "base_uri": "https://localhost:8080/"
        },
        "id": "z8rr6p60ww5a",
        "outputId": "4eabdceb-2953-4961-f5d0-5cd288b42085"
      },
      "execution_count": null,
      "outputs": [
        {
          "output_type": "stream",
          "name": "stdout",
          "text": [
            "DeepNeuralNetwork(\n",
            "  (fc1): Linear(in_features=17, out_features=12, bias=True)\n",
            "  (fc2): Linear(in_features=12, out_features=8, bias=True)\n",
            "  (fc3): Linear(in_features=8, out_features=4, bias=True)\n",
            "  (fc4): Linear(in_features=4, out_features=1, bias=True)\n",
            ")\n"
          ]
        }
      ]
    },
    {
      "cell_type": "code",
      "source": [
        "for i in predictions:\n",
        "  if i==0:\n",
        "    print('Heyy')"
      ],
      "metadata": {
        "id": "-3qK0V-_nse7"
      },
      "execution_count": null,
      "outputs": []
    },
    {
      "cell_type": "code",
      "source": [
        "# Calculate ROC curve\n",
        "fpr, tpr, thresholds = roc_curve(y_test_tensor, predictions)\n",
        "roc_auc = auc(fpr, tpr)\n",
        "\n",
        "# Plot ROC curve\n",
        "plt.figure()\n",
        "plt.plot(fpr, tpr, color='darkorange', lw=2, label='ROC curve (area = %0.2f)' % roc_auc)\n",
        "plt.plot([0, 1], [0, 1], color='navy', lw=2, linestyle='--')\n",
        "plt.xlim([0.0, 1.0])\n",
        "plt.ylim([0.0, 1.05])\n",
        "plt.xlabel('False Positive Rate')\n",
        "plt.ylabel('True Positive Rate')\n",
        "plt.title('Receiver Operating Characteristic (ROC) Curve')\n",
        "plt.legend(loc=\"lower right\")\n",
        "plt.show()"
      ],
      "metadata": {
        "colab": {
          "base_uri": "https://localhost:8080/",
          "height": 472
        },
        "id": "cEOcy4aT1Ec8",
        "outputId": "5cdfd63d-cbab-4b2d-c7f4-9f8ecf3ad56b"
      },
      "execution_count": null,
      "outputs": [
        {
          "output_type": "display_data",
          "data": {
            "text/plain": [
              "<Figure size 640x480 with 1 Axes>"
            ],
            "image/png": "[encoded data removed]"
          },
          "metadata": {}
        }
      ]
    },
    {
      "cell_type": "code",
      "source": [
        "# Calculate ROC curve for the classifier\n",
        "fpr, tpr, thresholds = roc_curve(y_test_tensor, predictions)\n",
        "roc_auc = auc(fpr, tpr)\n",
        "\n",
        "# Calculate ROC curve for a random classifier\n",
        "random_probs = [0 for _ in range(len(y_test_tensor))]\n",
        "random_fpr, random_tpr, _ = roc_curve(y_test_tensor, random_probs)\n",
        "random_roc_auc = auc(random_fpr, random_tpr)\n",
        "\n",
        "# Plot ROC curve\n",
        "plt.figure()\n",
        "plt.plot(fpr, tpr, color='darkorange', lw=2, label='ROC curve (Classifier) (area = %0.2f)' % roc_auc)\n",
        "plt.plot(random_fpr, random_tpr, color='navy', lw=2, linestyle='--', label='ROC curve (Random)')\n",
        "plt.xlim([0.0, 1.0])\n",
        "plt.ylim([0.0, 1.05])\n",
        "plt.xlabel('False Positive Rate')\n",
        "plt.ylabel('True Positive Rate')\n",
        "plt.title('Receiver Operating Characteristic (ROC) Curve')\n",
        "plt.legend(loc=\"lower right\")\n",
        "plt.show()"
      ],
      "metadata": {
        "id": "CgQ39L8c1UZe",
        "colab": {
          "base_uri": "https://localhost:8080/",
          "height": 472
        },
        "outputId": "c572a2bd-ac8f-4800-b061-801f003301e8"
      },
      "execution_count": null,
      "outputs": [
        {
          "output_type": "display_data",
          "data": {
            "text/plain": [
              "<Figure size 640x480 with 1 Axes>"
            ],
            "image/png": "[encoded data removed]"
          },
          "metadata": {}
        }
      ]
    },
    {
      "cell_type": "code",
      "source": [],
      "metadata": {
        "id": "R5layKXBEl9F"
      },
      "execution_count": null,
      "outputs": []
    }
  ]
}