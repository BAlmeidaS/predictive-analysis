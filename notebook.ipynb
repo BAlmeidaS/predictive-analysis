{
  "cells": [
    {
      "cell_type": "markdown",
      "id": "d4819d93-5f01-4fe3-9c2e-16e4cb228df5",
      "metadata": {
        "id": "d4819d93-5f01-4fe3-9c2e-16e4cb228df5"
      },
      "source": [
        "### Imports"
      ]
    },
    {
      "cell_type": "code",
      "execution_count": null,
      "id": "4c34705a-0a35-4b63-9d2e-7aebf8d1ed52",
      "metadata": {
        "execution": {
          "iopub.execute_input": "2024-01-17T16:00:10.516994Z",
          "iopub.status.busy": "2024-01-17T16:00:10.516938Z",
          "iopub.status.idle": "2024-01-17T16:00:10.777430Z",
          "shell.execute_reply": "2024-01-17T16:00:10.777119Z",
          "shell.execute_reply.started": "2024-01-17T16:00:10.516987Z"
        },
        "id": "4c34705a-0a35-4b63-9d2e-7aebf8d1ed52"
      },
      "outputs": [],
      "source": [
        "import pandas as pd\n",
        "from matplotlib import pyplot as plt\n",
        "\n",
        "try:\n",
        "  from google.colab import drive\n",
        "  drive.mount('/content/drive')\n",
        "\n",
        "  COLAB = True\n",
        "except ModuleNotFoundError:\n",
        "  COLAB = False"
      ]
    },
    {
      "cell_type": "markdown",
      "id": "1d80156a-f415-4eda-bbd8-9395ac54eeec",
      "metadata": {
        "id": "1d80156a-f415-4eda-bbd8-9395ac54eeec"
      },
      "source": [
        "# Data Gathering\n",
        "\n",
        "TODO:\n",
        "\n",
        "- [x] Create the sections (Bruno)\n",
        "- [x] Create a structure to download from drive and create the pandas dataframe (Bruno)\n",
        "- [x] Create a structure to load data in colab or locally in the same way, saving in a variable called `df` (Bruno)\n",
        "- [ ] new idea"
      ]
    },
    {
      "cell_type": "markdown",
      "id": "Tnini6-f-hgP",
      "metadata": {
        "id": "Tnini6-f-hgP"
      },
      "source": [
        "Download [here](https://drive.google.com/file/d/1hWST2LvCc4ai15ZtUMoC9vj0cDDf3izS/view?usp=drive_link) the CSV. Upload it to your own google-drive inside a folder called `predictive-analysis`"
      ]
    },
    {
      "cell_type": "code",
      "execution_count": null,
      "id": "3Z0eccw6-ac7",
      "metadata": {
        "colab": {
          "base_uri": "https://localhost:8080/",
          "height": 206
        },
        "execution": {
          "iopub.execute_input": "2024-01-17T16:00:10.778180Z",
          "iopub.status.busy": "2024-01-17T16:00:10.778064Z",
          "iopub.status.idle": "2024-01-17T16:00:10.848548Z",
          "shell.execute_reply": "2024-01-17T16:00:10.848312Z",
          "shell.execute_reply.started": "2024-01-17T16:00:10.778172Z"
        },
        "id": "3Z0eccw6-ac7",
        "outputId": "2295f609-5b90-424c-c830-fa8ba0cf774e"
      },
      "outputs": [
        {
          "data": {
            "text/html": [
              "<div>\n",
              "<style scoped>\n",
              "    .dataframe tbody tr th:only-of-type {\n",
              "        vertical-align: middle;\n",
              "    }\n",
              "\n",
              "    .dataframe tbody tr th {\n",
              "        vertical-align: top;\n",
              "    }\n",
              "\n",
              "    .dataframe thead th {\n",
              "        text-align: right;\n",
              "    }\n",
              "</style>\n",
              "<table border=\"1\" class=\"dataframe\">\n",
              "  <thead>\n",
              "    <tr style=\"text-align: right;\">\n",
              "      <th></th>\n",
              "      <th>discourse_id</th>\n",
              "      <th>essay_id</th>\n",
              "      <th>discourse_text</th>\n",
              "      <th>discourse_type</th>\n",
              "      <th>discourse_effectiveness</th>\n",
              "    </tr>\n",
              "  </thead>\n",
              "  <tbody>\n",
              "    <tr>\n",
              "      <th>0</th>\n",
              "      <td>0013cc385424</td>\n",
              "      <td>007ACE74B050</td>\n",
              "      <td>Hi, i'm Isaac, i'm going to be writing about h...</td>\n",
              "      <td>Lead</td>\n",
              "      <td>Adequate</td>\n",
              "    </tr>\n",
              "    <tr>\n",
              "      <th>1</th>\n",
              "      <td>9704a709b505</td>\n",
              "      <td>007ACE74B050</td>\n",
              "      <td>On my perspective, I think that the face is a ...</td>\n",
              "      <td>Position</td>\n",
              "      <td>Adequate</td>\n",
              "    </tr>\n",
              "    <tr>\n",
              "      <th>2</th>\n",
              "      <td>c22adee811b6</td>\n",
              "      <td>007ACE74B050</td>\n",
              "      <td>I think that the face is a natural landform be...</td>\n",
              "      <td>Claim</td>\n",
              "      <td>Adequate</td>\n",
              "    </tr>\n",
              "    <tr>\n",
              "      <th>3</th>\n",
              "      <td>a10d361e54e4</td>\n",
              "      <td>007ACE74B050</td>\n",
              "      <td>If life was on Mars, we would know by now. The...</td>\n",
              "      <td>Evidence</td>\n",
              "      <td>Adequate</td>\n",
              "    </tr>\n",
              "    <tr>\n",
              "      <th>4</th>\n",
              "      <td>db3e453ec4e2</td>\n",
              "      <td>007ACE74B050</td>\n",
              "      <td>People thought that the face was formed by ali...</td>\n",
              "      <td>Counterclaim</td>\n",
              "      <td>Adequate</td>\n",
              "    </tr>\n",
              "  </tbody>\n",
              "</table>\n",
              "</div>"
            ],
            "text/plain": [
              "   discourse_id      essay_id  \\\n",
              "0  0013cc385424  007ACE74B050   \n",
              "1  9704a709b505  007ACE74B050   \n",
              "2  c22adee811b6  007ACE74B050   \n",
              "3  a10d361e54e4  007ACE74B050   \n",
              "4  db3e453ec4e2  007ACE74B050   \n",
              "\n",
              "                                      discourse_text discourse_type  \\\n",
              "0  Hi, i'm Isaac, i'm going to be writing about h...           Lead   \n",
              "1  On my perspective, I think that the face is a ...       Position   \n",
              "2  I think that the face is a natural landform be...          Claim   \n",
              "3  If life was on Mars, we would know by now. The...       Evidence   \n",
              "4  People thought that the face was formed by ali...   Counterclaim   \n",
              "\n",
              "  discourse_effectiveness  \n",
              "0                Adequate  \n",
              "1                Adequate  \n",
              "2                Adequate  \n",
              "3                Adequate  \n",
              "4                Adequate  "
            ]
          },
          "execution_count": 2,
          "metadata": {},
          "output_type": "execute_result"
        }
      ],
      "source": [
        "if COLAB:\n",
        "  df = pd.read_csv('/content/drive/MyDrive/predictive-analysis/essays.csv')\n",
        "else:\n",
        "  df = pd.read_csv(\"essays.csv\")\n",
        "\n",
        "df.head()"
      ]
    },
    {
      "cell_type": "markdown",
      "id": "leLeSgzKF9z2",
      "metadata": {
        "id": "leLeSgzKF9z2"
      },
      "source": [
        "# Data Cleaning"
      ]
    },
    {
      "cell_type": "markdown",
      "id": "KsAJy-vBAJpt",
      "metadata": {
        "id": "KsAJy-vBAJpt"
      },
      "source": [
        "TODO:\n",
        "\n",
        "- [x] Check the shape and the types of each column (Bruno)\n",
        "- [x] Check the names of the categories in `discourse_text` and `discourse_effectiveness`, validate if they match with kaggle's specification. (Bruno)\n",
        "- [ ] Check for outliers, especially in the column `discourse_text`"
      ]
    },
    {
      "cell_type": "code",
      "execution_count": null,
      "id": "8dveW0tqGFE4",
      "metadata": {
        "colab": {
          "base_uri": "https://localhost:8080/"
        },
        "execution": {
          "iopub.execute_input": "2024-01-17T16:00:10.848979Z",
          "iopub.status.busy": "2024-01-17T16:00:10.848906Z",
          "iopub.status.idle": "2024-01-17T16:00:10.850808Z",
          "shell.execute_reply": "2024-01-17T16:00:10.850620Z",
          "shell.execute_reply.started": "2024-01-17T16:00:10.848972Z"
        },
        "id": "8dveW0tqGFE4",
        "outputId": "953e8885-b72e-498d-b701-42927053a9fe"
      },
      "outputs": [
        {
          "data": {
            "text/plain": [
              "(36765, 5)"
            ]
          },
          "execution_count": 3,
          "metadata": {},
          "output_type": "execute_result"
        }
      ],
      "source": [
        "df.shape"
      ]
    },
    {
      "cell_type": "code",
      "execution_count": null,
      "id": "ee19168c-669d-4fe7-b0fc-54d2a4c6f2af",
      "metadata": {
        "execution": {
          "iopub.execute_input": "2024-01-17T16:00:10.851152Z",
          "iopub.status.busy": "2024-01-17T16:00:10.851088Z",
          "iopub.status.idle": "2024-01-17T16:00:10.874649Z",
          "shell.execute_reply": "2024-01-17T16:00:10.874430Z",
          "shell.execute_reply.started": "2024-01-17T16:00:10.851147Z"
        },
        "id": "ee19168c-669d-4fe7-b0fc-54d2a4c6f2af",
        "outputId": "53a3d174-a8f4-4189-a4b1-d403cc067643"
      },
      "outputs": [
        {
          "data": {
            "text/html": [
              "<div>\n",
              "<style scoped>\n",
              "    .dataframe tbody tr th:only-of-type {\n",
              "        vertical-align: middle;\n",
              "    }\n",
              "\n",
              "    .dataframe tbody tr th {\n",
              "        vertical-align: top;\n",
              "    }\n",
              "\n",
              "    .dataframe thead th {\n",
              "        text-align: right;\n",
              "    }\n",
              "</style>\n",
              "<table border=\"1\" class=\"dataframe\">\n",
              "  <thead>\n",
              "    <tr style=\"text-align: right;\">\n",
              "      <th></th>\n",
              "      <th>discourse_id</th>\n",
              "      <th>essay_id</th>\n",
              "      <th>discourse_text</th>\n",
              "      <th>discourse_type</th>\n",
              "      <th>discourse_effectiveness</th>\n",
              "    </tr>\n",
              "  </thead>\n",
              "  <tbody>\n",
              "    <tr>\n",
              "      <th>count</th>\n",
              "      <td>36765</td>\n",
              "      <td>36765</td>\n",
              "      <td>36765</td>\n",
              "      <td>36765</td>\n",
              "      <td>36765</td>\n",
              "    </tr>\n",
              "    <tr>\n",
              "      <th>unique</th>\n",
              "      <td>36765</td>\n",
              "      <td>4191</td>\n",
              "      <td>36691</td>\n",
              "      <td>7</td>\n",
              "      <td>3</td>\n",
              "    </tr>\n",
              "    <tr>\n",
              "      <th>top</th>\n",
              "      <td>c8a973681feb</td>\n",
              "      <td>900A879708F0</td>\n",
              "      <td>Summer projects should be student-designed</td>\n",
              "      <td>Evidence</td>\n",
              "      <td>Adequate</td>\n",
              "    </tr>\n",
              "    <tr>\n",
              "      <th>freq</th>\n",
              "      <td>1</td>\n",
              "      <td>23</td>\n",
              "      <td>14</td>\n",
              "      <td>12105</td>\n",
              "      <td>20977</td>\n",
              "    </tr>\n",
              "  </tbody>\n",
              "</table>\n",
              "</div>"
            ],
            "text/plain": [
              "        discourse_id      essay_id  \\\n",
              "count          36765         36765   \n",
              "unique         36765          4191   \n",
              "top     c8a973681feb  900A879708F0   \n",
              "freq               1            23   \n",
              "\n",
              "                                     discourse_text discourse_type  \\\n",
              "count                                         36765          36765   \n",
              "unique                                        36691              7   \n",
              "top     Summer projects should be student-designed        Evidence   \n",
              "freq                                             14          12105   \n",
              "\n",
              "       discourse_effectiveness  \n",
              "count                    36765  \n",
              "unique                       3  \n",
              "top                   Adequate  \n",
              "freq                     20977  "
            ]
          },
          "execution_count": 4,
          "metadata": {},
          "output_type": "execute_result"
        }
      ],
      "source": [
        "df.describe()"
      ]
    },
    {
      "cell_type": "code",
      "execution_count": null,
      "id": "89755b44-a9c4-4aa2-bdd3-137a16f7c3cd",
      "metadata": {
        "execution": {
          "iopub.execute_input": "2024-01-17T16:00:10.875065Z",
          "iopub.status.busy": "2024-01-17T16:00:10.874995Z",
          "iopub.status.idle": "2024-01-17T16:00:10.877166Z",
          "shell.execute_reply": "2024-01-17T16:00:10.876939Z",
          "shell.execute_reply.started": "2024-01-17T16:00:10.875058Z"
        },
        "id": "89755b44-a9c4-4aa2-bdd3-137a16f7c3cd",
        "outputId": "40a9f427-8786-4d42-9e03-edbc36503d06"
      },
      "outputs": [
        {
          "data": {
            "text/plain": [
              "discourse_id               object\n",
              "essay_id                   object\n",
              "discourse_text             object\n",
              "discourse_type             object\n",
              "discourse_effectiveness    object\n",
              "dtype: object"
            ]
          },
          "execution_count": 5,
          "metadata": {},
          "output_type": "execute_result"
        }
      ],
      "source": [
        "# it appears as an object because everything is a string. It is all good!\n",
        "df.dtypes"
      ]
    },
    {
      "cell_type": "code",
      "execution_count": null,
      "id": "52e9aa5c-1611-4d60-a09d-dbb20a8c1388",
      "metadata": {
        "execution": {
          "iopub.execute_input": "2024-01-17T16:00:10.877585Z",
          "iopub.status.busy": "2024-01-17T16:00:10.877434Z",
          "iopub.status.idle": "2024-01-17T16:00:10.879949Z",
          "shell.execute_reply": "2024-01-17T16:00:10.879751Z",
          "shell.execute_reply.started": "2024-01-17T16:00:10.877579Z"
        },
        "id": "52e9aa5c-1611-4d60-a09d-dbb20a8c1388",
        "outputId": "03d8eed3-20b9-4e6c-9bf6-fc5d5c331bd8"
      },
      "outputs": [
        {
          "data": {
            "text/plain": [
              "array(['Lead', 'Position', 'Claim', 'Evidence', 'Counterclaim',\n",
              "       'Rebuttal', 'Concluding Statement'], dtype=object)"
            ]
          },
          "execution_count": 6,
          "metadata": {},
          "output_type": "execute_result"
        }
      ],
      "source": [
        "df.discourse_type.unique()"
      ]
    },
    {
      "cell_type": "code",
      "execution_count": null,
      "id": "c28a575e-3481-4b40-a965-57eb59f017e4",
      "metadata": {
        "execution": {
          "iopub.execute_input": "2024-01-17T16:00:10.880736Z",
          "iopub.status.busy": "2024-01-17T16:00:10.880559Z",
          "iopub.status.idle": "2024-01-17T16:00:10.882994Z",
          "shell.execute_reply": "2024-01-17T16:00:10.882798Z",
          "shell.execute_reply.started": "2024-01-17T16:00:10.880729Z"
        },
        "id": "c28a575e-3481-4b40-a965-57eb59f017e4",
        "outputId": "129b8e41-321b-4026-ae6f-031359bab7d9"
      },
      "outputs": [
        {
          "data": {
            "text/plain": [
              "array(['Adequate', 'Ineffective', 'Effective'], dtype=object)"
            ]
          },
          "execution_count": 7,
          "metadata": {},
          "output_type": "execute_result"
        }
      ],
      "source": [
        "df.discourse_effectiveness.unique()"
      ]
    },
    {
      "cell_type": "markdown",
      "id": "lo6kkW0YATb_",
      "metadata": {
        "id": "lo6kkW0YATb_"
      },
      "source": [
        "# EDA\n",
        "\n",
        "TODO:\n",
        "\n",
        "- [x] show the distribution of each category in an ugly and lazy way (Bruno)\n",
        "- [ ] replace the ugly and lazy presentation for nice and awesome graphs\n",
        "- [ ] bring ideas to what kind of EDA we can do in the text column (`discourse_text`)\n"
      ]
    },
    {
      "cell_type": "code",
      "execution_count": null,
      "id": "jsr7f3QOApUo",
      "metadata": {
        "colab": {
          "base_uri": "https://localhost:8080/"
        },
        "execution": {
          "iopub.execute_input": "2024-01-17T16:00:10.883429Z",
          "iopub.status.busy": "2024-01-17T16:00:10.883262Z",
          "iopub.status.idle": "2024-01-17T16:00:10.886967Z",
          "shell.execute_reply": "2024-01-17T16:00:10.886749Z",
          "shell.execute_reply.started": "2024-01-17T16:00:10.883422Z"
        },
        "id": "jsr7f3QOApUo",
        "outputId": "bcf6ba49-55a6-48a6-d6e7-f42371931e02"
      },
      "outputs": [
        {
          "data": {
            "text/plain": [
              "discourse_type      \n",
              "Evidence                12105\n",
              "Claim                   11977\n",
              "Position                 4024\n",
              "Concluding Statement     3351\n",
              "Lead                     2291\n",
              "Counterclaim             1773\n",
              "Rebuttal                 1244\n",
              "Name: count, dtype: int64"
            ]
          },
          "execution_count": 8,
          "metadata": {},
          "output_type": "execute_result"
        }
      ],
      "source": [
        "df[[\"discourse_type\"]].value_counts()"
      ]
    },
    {
      "cell_type": "code",
      "execution_count": null,
      "id": "KHH005qLFV1x",
      "metadata": {
        "colab": {
          "base_uri": "https://localhost:8080/"
        },
        "execution": {
          "iopub.execute_input": "2024-01-17T16:00:10.887299Z",
          "iopub.status.busy": "2024-01-17T16:00:10.887235Z",
          "iopub.status.idle": "2024-01-17T16:00:10.890688Z",
          "shell.execute_reply": "2024-01-17T16:00:10.890493Z",
          "shell.execute_reply.started": "2024-01-17T16:00:10.887293Z"
        },
        "id": "KHH005qLFV1x",
        "outputId": "b0b2d11a-25ff-4192-8ef5-b482609c90b3"
      },
      "outputs": [
        {
          "data": {
            "text/plain": [
              "discourse_effectiveness\n",
              "Adequate                   20977\n",
              "Effective                   9326\n",
              "Ineffective                 6462\n",
              "Name: count, dtype: int64"
            ]
          },
          "execution_count": 9,
          "metadata": {},
          "output_type": "execute_result"
        }
      ],
      "source": [
        "df[[\"discourse_effectiveness\"]].value_counts()"
      ]
    },
    {
      "cell_type": "code",
      "execution_count": null,
      "id": "EUPmjr3xFgbc",
      "metadata": {
        "colab": {
          "base_uri": "https://localhost:8080/"
        },
        "execution": {
          "iopub.execute_input": "2024-01-17T16:00:10.891106Z",
          "iopub.status.busy": "2024-01-17T16:00:10.890958Z",
          "iopub.status.idle": "2024-01-17T16:00:10.895936Z",
          "shell.execute_reply": "2024-01-17T16:00:10.895749Z",
          "shell.execute_reply.started": "2024-01-17T16:00:10.891099Z"
        },
        "id": "EUPmjr3xFgbc",
        "outputId": "714b3f8e-5b21-40e6-c82d-912b03ca01ef"
      },
      "outputs": [
        {
          "data": {
            "text/plain": [
              "discourse_type        discourse_effectiveness\n",
              "Claim                 Adequate                   7097\n",
              "                      Effective                  3405\n",
              "                      Ineffective                1475\n",
              "Concluding Statement  Adequate                   1945\n",
              "                      Effective                   825\n",
              "                      Ineffective                 581\n",
              "Counterclaim          Adequate                   1150\n",
              "                      Effective                   418\n",
              "                      Ineffective                 205\n",
              "Evidence              Adequate                   6064\n",
              "                      Effective                  2885\n",
              "                      Ineffective                3156\n",
              "Lead                  Adequate                   1244\n",
              "                      Effective                   683\n",
              "                      Ineffective                 364\n",
              "Position              Adequate                   2784\n",
              "                      Effective                   770\n",
              "                      Ineffective                 470\n",
              "Rebuttal              Adequate                    693\n",
              "                      Effective                   340\n",
              "                      Ineffective                 211\n",
              "Name: count, dtype: int64"
            ]
          },
          "execution_count": 10,
          "metadata": {},
          "output_type": "execute_result"
        }
      ],
      "source": [
        "df[[\"discourse_type\", \"discourse_effectiveness\"]].value_counts().sort_index()"
      ]
    }
  ],
  "metadata": {
    "colab": {
      "provenance": []
    },
    "kernelspec": {
      "display_name": "Python 3 (ipykernel)",
      "language": "python",
      "name": "python3"
    },
    "language_info": {
      "codemirror_mode": {
        "name": "ipython",
        "version": 3
      },
      "file_extension": ".py",
      "mimetype": "text/x-python",
      "name": "python",
      "nbconvert_exporter": "python",
      "pygments_lexer": "ipython3",
      "version": "3.11.6"
    }
  },
  "nbformat": 4,
  "nbformat_minor": 5
}