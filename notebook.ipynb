{
 "cells": [
  {
   "cell_type": "markdown",
   "id": "d4819d93-5f01-4fe3-9c2e-16e4cb228df5",
   "metadata": {
    "id": "d4819d93-5f01-4fe3-9c2e-16e4cb228df5"
   },
   "source": [
    "### Imports"
   ]
  },
  {
   "cell_type": "code",
   "execution_count": 1,
   "id": "4c34705a-0a35-4b63-9d2e-7aebf8d1ed52",
   "metadata": {
    "ExecuteTime": {
     "end_time": "2024-02-14T16:51:48.309946924Z",
     "start_time": "2024-02-14T16:51:48.242516708Z"
    },
    "id": "4c34705a-0a35-4b63-9d2e-7aebf8d1ed52"
   },
   "outputs": [],
   "source": [
    "import pandas as pd\n",
    "from matplotlib import pyplot as plt\n",
    "from sklearn.preprocessing import StandardScaler\n",
    "from sklearn.decomposition import PCA\n",
    "import numpy as np\n",
    "\n",
    "try:\n",
    "  from google.colab import drive\n",
    "  drive.mount('/content/drive')\n",
    "\n",
    "  COLAB = True\n",
    "except ModuleNotFoundError:\n",
    "  COLAB = False"
   ]
  },
  {
   "cell_type": "markdown",
   "id": "1c6ada910006460",
   "metadata": {
    "collapsed": false,
    "jupyter": {
     "outputs_hidden": false
    }
   },
   "source": [
    "# Download Data\n",
    "To download the data you can go to [this link](https://drive.google.com/file/d/1NjvuEXyX65fQT7K4TFmxo1VGoJVNQwU4/view?usp=drive_link).\n",
    "\n",
    "If using colab: upload the data to your own google-drive inside a folder called `predictive-analysis`."
   ]
  },
  {
   "cell_type": "markdown",
   "id": "2e14ef273c434f85",
   "metadata": {
    "collapsed": false,
    "jupyter": {
     "outputs_hidden": false
    }
   },
   "source": [
    "# Data Gathering\n",
    "\n",
    "TODO:\n",
    "- [x] Create the sections (Bruno)\n",
    "- [x] Create a structure to download from drive and create the pandas dataframe (Bruno)\n",
    "- [x] Create a structure to load data in colab or locally in the same way, saving in a variable called `df` (Bruno)\n",
    "- [x] Define a variable called `CAT_COLUMNS` with the categorical columns (Bruno)\n",
    "- [x] Define a variable called `NUM_COLUMNS` with the numerical columns (Bruno)\n",
    "- [x] Define a variable called `TGT` with the tgt column (Bruno)"
   ]
  },
  {
   "cell_type": "code",
   "execution_count": 2,
   "id": "3Z0eccw6-ac7",
   "metadata": {
    "ExecuteTime": {
     "end_time": "2024-02-14T16:51:48.526020763Z",
     "start_time": "2024-02-14T16:51:48.286974620Z"
    },
    "colab": {
     "base_uri": "https://localhost:8080/",
     "height": 206
    },
    "id": "3Z0eccw6-ac7",
    "outputId": "2295f609-5b90-424c-c830-fa8ba0cf774e"
   },
   "outputs": [
    {
     "data": {
      "text/html": [
       "<div>\n",
       "<style scoped>\n",
       "    .dataframe tbody tr th:only-of-type {\n",
       "        vertical-align: middle;\n",
       "    }\n",
       "\n",
       "    .dataframe tbody tr th {\n",
       "        vertical-align: top;\n",
       "    }\n",
       "\n",
       "    .dataframe thead th {\n",
       "        text-align: right;\n",
       "    }\n",
       "</style>\n",
       "<table border=\"1\" class=\"dataframe\">\n",
       "  <thead>\n",
       "    <tr style=\"text-align: right;\">\n",
       "      <th></th>\n",
       "      <th>0</th>\n",
       "      <th>1</th>\n",
       "      <th>2</th>\n",
       "      <th>3</th>\n",
       "      <th>4</th>\n",
       "    </tr>\n",
       "  </thead>\n",
       "  <tbody>\n",
       "    <tr>\n",
       "      <th>encounter_id</th>\n",
       "      <td>2278392</td>\n",
       "      <td>149190</td>\n",
       "      <td>64410</td>\n",
       "      <td>500364</td>\n",
       "      <td>16680</td>\n",
       "    </tr>\n",
       "    <tr>\n",
       "      <th>patient_nbr</th>\n",
       "      <td>8222157</td>\n",
       "      <td>55629189</td>\n",
       "      <td>86047875</td>\n",
       "      <td>82442376</td>\n",
       "      <td>42519267</td>\n",
       "    </tr>\n",
       "    <tr>\n",
       "      <th>race</th>\n",
       "      <td>Caucasian</td>\n",
       "      <td>Caucasian</td>\n",
       "      <td>AfricanAmerican</td>\n",
       "      <td>Caucasian</td>\n",
       "      <td>Caucasian</td>\n",
       "    </tr>\n",
       "    <tr>\n",
       "      <th>gender</th>\n",
       "      <td>Female</td>\n",
       "      <td>Female</td>\n",
       "      <td>Female</td>\n",
       "      <td>Male</td>\n",
       "      <td>Male</td>\n",
       "    </tr>\n",
       "    <tr>\n",
       "      <th>age</th>\n",
       "      <td>[0-10)</td>\n",
       "      <td>[10-20)</td>\n",
       "      <td>[20-30)</td>\n",
       "      <td>[30-40)</td>\n",
       "      <td>[40-50)</td>\n",
       "    </tr>\n",
       "    <tr>\n",
       "      <th>weight</th>\n",
       "      <td>?</td>\n",
       "      <td>?</td>\n",
       "      <td>?</td>\n",
       "      <td>?</td>\n",
       "      <td>?</td>\n",
       "    </tr>\n",
       "    <tr>\n",
       "      <th>admission_type_id</th>\n",
       "      <td>6</td>\n",
       "      <td>1</td>\n",
       "      <td>1</td>\n",
       "      <td>1</td>\n",
       "      <td>1</td>\n",
       "    </tr>\n",
       "    <tr>\n",
       "      <th>discharge_disposition_id</th>\n",
       "      <td>25</td>\n",
       "      <td>1</td>\n",
       "      <td>1</td>\n",
       "      <td>1</td>\n",
       "      <td>1</td>\n",
       "    </tr>\n",
       "    <tr>\n",
       "      <th>admission_source_id</th>\n",
       "      <td>1</td>\n",
       "      <td>7</td>\n",
       "      <td>7</td>\n",
       "      <td>7</td>\n",
       "      <td>7</td>\n",
       "    </tr>\n",
       "    <tr>\n",
       "      <th>time_in_hospital</th>\n",
       "      <td>1</td>\n",
       "      <td>3</td>\n",
       "      <td>2</td>\n",
       "      <td>2</td>\n",
       "      <td>1</td>\n",
       "    </tr>\n",
       "    <tr>\n",
       "      <th>payer_code</th>\n",
       "      <td>?</td>\n",
       "      <td>?</td>\n",
       "      <td>?</td>\n",
       "      <td>?</td>\n",
       "      <td>?</td>\n",
       "    </tr>\n",
       "    <tr>\n",
       "      <th>medical_specialty</th>\n",
       "      <td>Pediatrics-Endocrinology</td>\n",
       "      <td>?</td>\n",
       "      <td>?</td>\n",
       "      <td>?</td>\n",
       "      <td>?</td>\n",
       "    </tr>\n",
       "    <tr>\n",
       "      <th>num_lab_procedures</th>\n",
       "      <td>41</td>\n",
       "      <td>59</td>\n",
       "      <td>11</td>\n",
       "      <td>44</td>\n",
       "      <td>51</td>\n",
       "    </tr>\n",
       "    <tr>\n",
       "      <th>num_procedures</th>\n",
       "      <td>0</td>\n",
       "      <td>0</td>\n",
       "      <td>5</td>\n",
       "      <td>1</td>\n",
       "      <td>0</td>\n",
       "    </tr>\n",
       "    <tr>\n",
       "      <th>num_medications</th>\n",
       "      <td>1</td>\n",
       "      <td>18</td>\n",
       "      <td>13</td>\n",
       "      <td>16</td>\n",
       "      <td>8</td>\n",
       "    </tr>\n",
       "    <tr>\n",
       "      <th>number_outpatient</th>\n",
       "      <td>0</td>\n",
       "      <td>0</td>\n",
       "      <td>2</td>\n",
       "      <td>0</td>\n",
       "      <td>0</td>\n",
       "    </tr>\n",
       "    <tr>\n",
       "      <th>number_emergency</th>\n",
       "      <td>0</td>\n",
       "      <td>0</td>\n",
       "      <td>0</td>\n",
       "      <td>0</td>\n",
       "      <td>0</td>\n",
       "    </tr>\n",
       "    <tr>\n",
       "      <th>number_inpatient</th>\n",
       "      <td>0</td>\n",
       "      <td>0</td>\n",
       "      <td>1</td>\n",
       "      <td>0</td>\n",
       "      <td>0</td>\n",
       "    </tr>\n",
       "    <tr>\n",
       "      <th>diag_1</th>\n",
       "      <td>250.83</td>\n",
       "      <td>276</td>\n",
       "      <td>648</td>\n",
       "      <td>8</td>\n",
       "      <td>197</td>\n",
       "    </tr>\n",
       "    <tr>\n",
       "      <th>diag_2</th>\n",
       "      <td>?</td>\n",
       "      <td>250.01</td>\n",
       "      <td>250</td>\n",
       "      <td>250.43</td>\n",
       "      <td>157</td>\n",
       "    </tr>\n",
       "    <tr>\n",
       "      <th>diag_3</th>\n",
       "      <td>?</td>\n",
       "      <td>255</td>\n",
       "      <td>V27</td>\n",
       "      <td>403</td>\n",
       "      <td>250</td>\n",
       "    </tr>\n",
       "    <tr>\n",
       "      <th>number_diagnoses</th>\n",
       "      <td>1</td>\n",
       "      <td>9</td>\n",
       "      <td>6</td>\n",
       "      <td>7</td>\n",
       "      <td>5</td>\n",
       "    </tr>\n",
       "    <tr>\n",
       "      <th>max_glu_serum</th>\n",
       "      <td>None</td>\n",
       "      <td>None</td>\n",
       "      <td>None</td>\n",
       "      <td>None</td>\n",
       "      <td>None</td>\n",
       "    </tr>\n",
       "    <tr>\n",
       "      <th>A1Cresult</th>\n",
       "      <td>None</td>\n",
       "      <td>None</td>\n",
       "      <td>None</td>\n",
       "      <td>None</td>\n",
       "      <td>None</td>\n",
       "    </tr>\n",
       "    <tr>\n",
       "      <th>metformin</th>\n",
       "      <td>No</td>\n",
       "      <td>No</td>\n",
       "      <td>No</td>\n",
       "      <td>No</td>\n",
       "      <td>No</td>\n",
       "    </tr>\n",
       "    <tr>\n",
       "      <th>repaglinide</th>\n",
       "      <td>No</td>\n",
       "      <td>No</td>\n",
       "      <td>No</td>\n",
       "      <td>No</td>\n",
       "      <td>No</td>\n",
       "    </tr>\n",
       "    <tr>\n",
       "      <th>nateglinide</th>\n",
       "      <td>No</td>\n",
       "      <td>No</td>\n",
       "      <td>No</td>\n",
       "      <td>No</td>\n",
       "      <td>No</td>\n",
       "    </tr>\n",
       "    <tr>\n",
       "      <th>chlorpropamide</th>\n",
       "      <td>No</td>\n",
       "      <td>No</td>\n",
       "      <td>No</td>\n",
       "      <td>No</td>\n",
       "      <td>No</td>\n",
       "    </tr>\n",
       "    <tr>\n",
       "      <th>glimepiride</th>\n",
       "      <td>No</td>\n",
       "      <td>No</td>\n",
       "      <td>No</td>\n",
       "      <td>No</td>\n",
       "      <td>No</td>\n",
       "    </tr>\n",
       "    <tr>\n",
       "      <th>acetohexamide</th>\n",
       "      <td>No</td>\n",
       "      <td>No</td>\n",
       "      <td>No</td>\n",
       "      <td>No</td>\n",
       "      <td>No</td>\n",
       "    </tr>\n",
       "    <tr>\n",
       "      <th>glipizide</th>\n",
       "      <td>No</td>\n",
       "      <td>No</td>\n",
       "      <td>Steady</td>\n",
       "      <td>No</td>\n",
       "      <td>Steady</td>\n",
       "    </tr>\n",
       "    <tr>\n",
       "      <th>glyburide</th>\n",
       "      <td>No</td>\n",
       "      <td>No</td>\n",
       "      <td>No</td>\n",
       "      <td>No</td>\n",
       "      <td>No</td>\n",
       "    </tr>\n",
       "    <tr>\n",
       "      <th>tolbutamide</th>\n",
       "      <td>No</td>\n",
       "      <td>No</td>\n",
       "      <td>No</td>\n",
       "      <td>No</td>\n",
       "      <td>No</td>\n",
       "    </tr>\n",
       "    <tr>\n",
       "      <th>pioglitazone</th>\n",
       "      <td>No</td>\n",
       "      <td>No</td>\n",
       "      <td>No</td>\n",
       "      <td>No</td>\n",
       "      <td>No</td>\n",
       "    </tr>\n",
       "    <tr>\n",
       "      <th>rosiglitazone</th>\n",
       "      <td>No</td>\n",
       "      <td>No</td>\n",
       "      <td>No</td>\n",
       "      <td>No</td>\n",
       "      <td>No</td>\n",
       "    </tr>\n",
       "    <tr>\n",
       "      <th>acarbose</th>\n",
       "      <td>No</td>\n",
       "      <td>No</td>\n",
       "      <td>No</td>\n",
       "      <td>No</td>\n",
       "      <td>No</td>\n",
       "    </tr>\n",
       "    <tr>\n",
       "      <th>miglitol</th>\n",
       "      <td>No</td>\n",
       "      <td>No</td>\n",
       "      <td>No</td>\n",
       "      <td>No</td>\n",
       "      <td>No</td>\n",
       "    </tr>\n",
       "    <tr>\n",
       "      <th>troglitazone</th>\n",
       "      <td>No</td>\n",
       "      <td>No</td>\n",
       "      <td>No</td>\n",
       "      <td>No</td>\n",
       "      <td>No</td>\n",
       "    </tr>\n",
       "    <tr>\n",
       "      <th>tolazamide</th>\n",
       "      <td>No</td>\n",
       "      <td>No</td>\n",
       "      <td>No</td>\n",
       "      <td>No</td>\n",
       "      <td>No</td>\n",
       "    </tr>\n",
       "    <tr>\n",
       "      <th>examide</th>\n",
       "      <td>No</td>\n",
       "      <td>No</td>\n",
       "      <td>No</td>\n",
       "      <td>No</td>\n",
       "      <td>No</td>\n",
       "    </tr>\n",
       "    <tr>\n",
       "      <th>citoglipton</th>\n",
       "      <td>No</td>\n",
       "      <td>No</td>\n",
       "      <td>No</td>\n",
       "      <td>No</td>\n",
       "      <td>No</td>\n",
       "    </tr>\n",
       "    <tr>\n",
       "      <th>insulin</th>\n",
       "      <td>No</td>\n",
       "      <td>Up</td>\n",
       "      <td>No</td>\n",
       "      <td>Up</td>\n",
       "      <td>Steady</td>\n",
       "    </tr>\n",
       "    <tr>\n",
       "      <th>glyburide-metformin</th>\n",
       "      <td>No</td>\n",
       "      <td>No</td>\n",
       "      <td>No</td>\n",
       "      <td>No</td>\n",
       "      <td>No</td>\n",
       "    </tr>\n",
       "    <tr>\n",
       "      <th>glipizide-metformin</th>\n",
       "      <td>No</td>\n",
       "      <td>No</td>\n",
       "      <td>No</td>\n",
       "      <td>No</td>\n",
       "      <td>No</td>\n",
       "    </tr>\n",
       "    <tr>\n",
       "      <th>glimepiride-pioglitazone</th>\n",
       "      <td>No</td>\n",
       "      <td>No</td>\n",
       "      <td>No</td>\n",
       "      <td>No</td>\n",
       "      <td>No</td>\n",
       "    </tr>\n",
       "    <tr>\n",
       "      <th>metformin-rosiglitazone</th>\n",
       "      <td>No</td>\n",
       "      <td>No</td>\n",
       "      <td>No</td>\n",
       "      <td>No</td>\n",
       "      <td>No</td>\n",
       "    </tr>\n",
       "    <tr>\n",
       "      <th>metformin-pioglitazone</th>\n",
       "      <td>No</td>\n",
       "      <td>No</td>\n",
       "      <td>No</td>\n",
       "      <td>No</td>\n",
       "      <td>No</td>\n",
       "    </tr>\n",
       "    <tr>\n",
       "      <th>change</th>\n",
       "      <td>No</td>\n",
       "      <td>Ch</td>\n",
       "      <td>No</td>\n",
       "      <td>Ch</td>\n",
       "      <td>Ch</td>\n",
       "    </tr>\n",
       "    <tr>\n",
       "      <th>diabetesMed</th>\n",
       "      <td>No</td>\n",
       "      <td>Yes</td>\n",
       "      <td>Yes</td>\n",
       "      <td>Yes</td>\n",
       "      <td>Yes</td>\n",
       "    </tr>\n",
       "    <tr>\n",
       "      <th>readmitted</th>\n",
       "      <td>NO</td>\n",
       "      <td>&gt;30</td>\n",
       "      <td>NO</td>\n",
       "      <td>NO</td>\n",
       "      <td>NO</td>\n",
       "    </tr>\n",
       "  </tbody>\n",
       "</table>\n",
       "</div>"
      ],
      "text/plain": [
       "                                                 0          1  \\\n",
       "encounter_id                               2278392     149190   \n",
       "patient_nbr                                8222157   55629189   \n",
       "race                                     Caucasian  Caucasian   \n",
       "gender                                      Female     Female   \n",
       "age                                         [0-10)    [10-20)   \n",
       "weight                                           ?          ?   \n",
       "admission_type_id                                6          1   \n",
       "discharge_disposition_id                        25          1   \n",
       "admission_source_id                              1          7   \n",
       "time_in_hospital                                 1          3   \n",
       "payer_code                                       ?          ?   \n",
       "medical_specialty         Pediatrics-Endocrinology          ?   \n",
       "num_lab_procedures                              41         59   \n",
       "num_procedures                                   0          0   \n",
       "num_medications                                  1         18   \n",
       "number_outpatient                                0          0   \n",
       "number_emergency                                 0          0   \n",
       "number_inpatient                                 0          0   \n",
       "diag_1                                      250.83        276   \n",
       "diag_2                                           ?     250.01   \n",
       "diag_3                                           ?        255   \n",
       "number_diagnoses                                 1          9   \n",
       "max_glu_serum                                 None       None   \n",
       "A1Cresult                                     None       None   \n",
       "metformin                                       No         No   \n",
       "repaglinide                                     No         No   \n",
       "nateglinide                                     No         No   \n",
       "chlorpropamide                                  No         No   \n",
       "glimepiride                                     No         No   \n",
       "acetohexamide                                   No         No   \n",
       "glipizide                                       No         No   \n",
       "glyburide                                       No         No   \n",
       "tolbutamide                                     No         No   \n",
       "pioglitazone                                    No         No   \n",
       "rosiglitazone                                   No         No   \n",
       "acarbose                                        No         No   \n",
       "miglitol                                        No         No   \n",
       "troglitazone                                    No         No   \n",
       "tolazamide                                      No         No   \n",
       "examide                                         No         No   \n",
       "citoglipton                                     No         No   \n",
       "insulin                                         No         Up   \n",
       "glyburide-metformin                             No         No   \n",
       "glipizide-metformin                             No         No   \n",
       "glimepiride-pioglitazone                        No         No   \n",
       "metformin-rosiglitazone                         No         No   \n",
       "metformin-pioglitazone                          No         No   \n",
       "change                                          No         Ch   \n",
       "diabetesMed                                     No        Yes   \n",
       "readmitted                                      NO        >30   \n",
       "\n",
       "                                        2          3          4  \n",
       "encounter_id                        64410     500364      16680  \n",
       "patient_nbr                      86047875   82442376   42519267  \n",
       "race                      AfricanAmerican  Caucasian  Caucasian  \n",
       "gender                             Female       Male       Male  \n",
       "age                               [20-30)    [30-40)    [40-50)  \n",
       "weight                                  ?          ?          ?  \n",
       "admission_type_id                       1          1          1  \n",
       "discharge_disposition_id                1          1          1  \n",
       "admission_source_id                     7          7          7  \n",
       "time_in_hospital                        2          2          1  \n",
       "payer_code                              ?          ?          ?  \n",
       "medical_specialty                       ?          ?          ?  \n",
       "num_lab_procedures                     11         44         51  \n",
       "num_procedures                          5          1          0  \n",
       "num_medications                        13         16          8  \n",
       "number_outpatient                       2          0          0  \n",
       "number_emergency                        0          0          0  \n",
       "number_inpatient                        1          0          0  \n",
       "diag_1                                648          8        197  \n",
       "diag_2                                250     250.43        157  \n",
       "diag_3                                V27        403        250  \n",
       "number_diagnoses                        6          7          5  \n",
       "max_glu_serum                        None       None       None  \n",
       "A1Cresult                            None       None       None  \n",
       "metformin                              No         No         No  \n",
       "repaglinide                            No         No         No  \n",
       "nateglinide                            No         No         No  \n",
       "chlorpropamide                         No         No         No  \n",
       "glimepiride                            No         No         No  \n",
       "acetohexamide                          No         No         No  \n",
       "glipizide                          Steady         No     Steady  \n",
       "glyburide                              No         No         No  \n",
       "tolbutamide                            No         No         No  \n",
       "pioglitazone                           No         No         No  \n",
       "rosiglitazone                          No         No         No  \n",
       "acarbose                               No         No         No  \n",
       "miglitol                               No         No         No  \n",
       "troglitazone                           No         No         No  \n",
       "tolazamide                             No         No         No  \n",
       "examide                                No         No         No  \n",
       "citoglipton                            No         No         No  \n",
       "insulin                                No         Up     Steady  \n",
       "glyburide-metformin                    No         No         No  \n",
       "glipizide-metformin                    No         No         No  \n",
       "glimepiride-pioglitazone               No         No         No  \n",
       "metformin-rosiglitazone                No         No         No  \n",
       "metformin-pioglitazone                 No         No         No  \n",
       "change                                 No         Ch         Ch  \n",
       "diabetesMed                           Yes        Yes        Yes  \n",
       "readmitted                             NO         NO         NO  "
      ]
     },
     "execution_count": 2,
     "metadata": {},
     "output_type": "execute_result"
    }
   ],
   "source": [
    "if COLAB:\n",
    "  df = pd.read_csv('/content/drive/MyDrive/predictive-analysis/diabetic_data.csv')\n",
    "else:\n",
    "  df = pd.read_csv(\"diabetic_data.csv\")\n",
    "\n",
    "df.head().T"
   ]
  },
  {
   "cell_type": "code",
   "execution_count": 3,
   "id": "cbcf2955e4e1ff75",
   "metadata": {
    "ExecuteTime": {
     "end_time": "2024-02-14T16:51:48.527376055Z",
     "start_time": "2024-02-14T16:51:48.496350799Z"
    },
    "collapsed": false,
    "jupyter": {
     "outputs_hidden": false
    }
   },
   "outputs": [
    {
     "name": "stdout",
     "output_type": "stream",
     "text": [
      "num of categorical columns: 38\n"
     ]
    }
   ],
   "source": [
    "CAT_COLUMNS = [\n",
    "  \"encounter_id\", \"patient_nbr\",\n",
    "  \"race\", \"gender\", \"age\", \"weight\", \"payer_code\", \"medical_specialty\",\n",
    "  \"diag_1\", \"diag_2\", \"diag_3\", \"max_glu_serum\", \"A1Cresult\", \"metformin\",\n",
    "  \"repaglinide\", \"nateglinide\", \"chlorpropamide\", \"glimepiride\", \"acetohexamide\",\n",
    "  \"glipizide\", \"glyburide\", \"tolbutamide\", \"pioglitazone\", \"rosiglitazone\",\n",
    "  \"acarbose\", \"miglitol\", \"troglitazone\", \"tolazamide\",\n",
    "  \"examide\", \"citoglipton\", \"insulin\", \"glyburide-metformin\", \"glipizide-metformin\",\n",
    "  \"glimepiride-pioglitazone\", \"metformin-rosiglitazone\",\n",
    "  \"metformin-pioglitazone\", \"change\", \"diabetesMed\", \n",
    "]\n",
    "print(f\"num of categorical columns: {len(CAT_COLUMNS)}\")"
   ]
  },
  {
   "cell_type": "code",
   "execution_count": 4,
   "id": "186380b65a59cec9",
   "metadata": {
    "ExecuteTime": {
     "end_time": "2024-02-14T16:51:48.527617755Z",
     "start_time": "2024-02-14T16:51:48.496433443Z"
    },
    "collapsed": false,
    "jupyter": {
     "outputs_hidden": false
    }
   },
   "outputs": [
    {
     "name": "stdout",
     "output_type": "stream",
     "text": [
      "num of numerical columns: 11\n"
     ]
    }
   ],
   "source": [
    "NUM_COLUMNS = [\n",
    "  \"admission_type_id\", \"discharge_disposition_id\", \"admission_source_id\",\n",
    "  \"time_in_hospital\", \"num_lab_procedures\", \"num_procedures\", \"num_medications\",\n",
    "  \"number_outpatient\", \"number_emergency\", \"number_inpatient\", \"number_diagnoses\"\n",
    "]\n",
    "print(f\"num of numerical columns: {len(NUM_COLUMNS)}\")"
   ]
  },
  {
   "cell_type": "code",
   "execution_count": 5,
   "id": "a1450de9",
   "metadata": {},
   "outputs": [],
   "source": [
    "TGT = \"readmitted\""
   ]
  },
  {
   "cell_type": "markdown",
   "id": "leLeSgzKF9z2",
   "metadata": {
    "id": "leLeSgzKF9z2"
   },
   "source": [
    "# Data Cleaning"
   ]
  },
  {
   "cell_type": "markdown",
   "id": "KsAJy-vBAJpt",
   "metadata": {
    "id": "KsAJy-vBAJpt"
   },
   "source": [
    "TODO:\n",
    "\n",
    "- [x] Check the shape and the types of each column (Bruno)\n",
    "- [x] Replace the \"?\" values for None (Bruno)\n",
    "- [x] Check TGT columns (Bruno)\n",
    "- [x] Remove categorical columns with only one value (Bruno)\n",
    "- [x] Remove categorical columns with the number of values as the number of rows (Bruno)\n",
    "- [x] Check for outliers in numerical columns (Bruno)\n"
   ]
  },
  {
   "cell_type": "code",
   "execution_count": 10,
   "id": "8dveW0tqGFE4",
   "metadata": {
    "ExecuteTime": {
     "end_time": "2024-02-14T16:51:48.527836232Z",
     "start_time": "2024-02-14T16:51:48.496466635Z"
    },
    "colab": {
     "base_uri": "https://localhost:8080/"
    },
    "id": "8dveW0tqGFE4",
    "outputId": "953e8885-b72e-498d-b701-42927053a9fe"
   },
   "outputs": [
    {
     "data": {
      "text/plain": [
       "(101766, 50)"
      ]
     },
     "execution_count": 10,
     "metadata": {},
     "output_type": "execute_result"
    }
   ],
   "source": [
    "df.shape"
   ]
  },
  {
   "cell_type": "code",
   "execution_count": 11,
   "id": "89755b44-a9c4-4aa2-bdd3-137a16f7c3cd",
   "metadata": {
    "ExecuteTime": {
     "end_time": "2024-02-14T16:51:48.528089684Z",
     "start_time": "2024-02-14T16:51:48.496493164Z"
    },
    "id": "89755b44-a9c4-4aa2-bdd3-137a16f7c3cd",
    "outputId": "40a9f427-8786-4d42-9e03-edbc36503d06"
   },
   "outputs": [
    {
     "data": {
      "text/plain": [
       "encounter_id                 int64\n",
       "patient_nbr                  int64\n",
       "race                        object\n",
       "gender                      object\n",
       "age                         object\n",
       "weight                      object\n",
       "admission_type_id            int64\n",
       "discharge_disposition_id     int64\n",
       "admission_source_id          int64\n",
       "time_in_hospital             int64\n",
       "payer_code                  object\n",
       "medical_specialty           object\n",
       "num_lab_procedures           int64\n",
       "num_procedures               int64\n",
       "num_medications              int64\n",
       "number_outpatient            int64\n",
       "number_emergency             int64\n",
       "number_inpatient             int64\n",
       "diag_1                      object\n",
       "diag_2                      object\n",
       "diag_3                      object\n",
       "number_diagnoses             int64\n",
       "max_glu_serum               object\n",
       "A1Cresult                   object\n",
       "metformin                   object\n",
       "repaglinide                 object\n",
       "nateglinide                 object\n",
       "chlorpropamide              object\n",
       "glimepiride                 object\n",
       "acetohexamide               object\n",
       "glipizide                   object\n",
       "glyburide                   object\n",
       "tolbutamide                 object\n",
       "pioglitazone                object\n",
       "rosiglitazone               object\n",
       "acarbose                    object\n",
       "miglitol                    object\n",
       "troglitazone                object\n",
       "tolazamide                  object\n",
       "examide                     object\n",
       "citoglipton                 object\n",
       "insulin                     object\n",
       "glyburide-metformin         object\n",
       "glipizide-metformin         object\n",
       "glimepiride-pioglitazone    object\n",
       "metformin-rosiglitazone     object\n",
       "metformin-pioglitazone      object\n",
       "change                      object\n",
       "diabetesMed                 object\n",
       "readmitted                  object\n",
       "dtype: object"
      ]
     },
     "execution_count": 11,
     "metadata": {},
     "output_type": "execute_result"
    }
   ],
   "source": [
    "df.dtypes"
   ]
  },
  {
   "cell_type": "markdown",
   "id": "e00665b31775e77b",
   "metadata": {
    "collapsed": false,
    "jupyter": {
     "outputs_hidden": false
    }
   },
   "source": [
    "Replace all the \"?\" in the dataset for `None` values"
   ]
  },
  {
   "cell_type": "code",
   "execution_count": 6,
   "id": "fd5063ea873bb4f5",
   "metadata": {
    "ExecuteTime": {
     "end_time": "2024-02-14T16:51:48.609213452Z",
     "start_time": "2024-02-14T16:51:48.496533509Z"
    },
    "collapsed": false,
    "jupyter": {
     "outputs_hidden": false
    }
   },
   "outputs": [
    {
     "data": {
      "text/plain": [
       "encounter_id                    0\n",
       "patient_nbr                     0\n",
       "race                         2273\n",
       "gender                          0\n",
       "age                             0\n",
       "weight                      98569\n",
       "admission_type_id               0\n",
       "discharge_disposition_id        0\n",
       "admission_source_id             0\n",
       "time_in_hospital                0\n",
       "payer_code                  40256\n",
       "medical_specialty           49949\n",
       "num_lab_procedures              0\n",
       "num_procedures                  0\n",
       "num_medications                 0\n",
       "number_outpatient               0\n",
       "number_emergency                0\n",
       "number_inpatient                0\n",
       "diag_1                         21\n",
       "diag_2                        358\n",
       "diag_3                       1423\n",
       "number_diagnoses                0\n",
       "max_glu_serum                   0\n",
       "A1Cresult                       0\n",
       "metformin                       0\n",
       "repaglinide                     0\n",
       "nateglinide                     0\n",
       "chlorpropamide                  0\n",
       "glimepiride                     0\n",
       "acetohexamide                   0\n",
       "glipizide                       0\n",
       "glyburide                       0\n",
       "tolbutamide                     0\n",
       "pioglitazone                    0\n",
       "rosiglitazone                   0\n",
       "acarbose                        0\n",
       "miglitol                        0\n",
       "troglitazone                    0\n",
       "tolazamide                      0\n",
       "examide                         0\n",
       "citoglipton                     0\n",
       "insulin                         0\n",
       "glyburide-metformin             0\n",
       "glipizide-metformin             0\n",
       "glimepiride-pioglitazone        0\n",
       "metformin-rosiglitazone         0\n",
       "metformin-pioglitazone          0\n",
       "change                          0\n",
       "diabetesMed                     0\n",
       "readmitted                      0\n",
       "dtype: int64"
      ]
     },
     "execution_count": 6,
     "metadata": {},
     "output_type": "execute_result"
    }
   ],
   "source": [
    "df = df.replace(\"?\", None)\n",
    "df.isnull().sum()"
   ]
  },
  {
   "cell_type": "markdown",
   "id": "6eca4f9e",
   "metadata": {},
   "source": [
    "Tgt variable distribution"
   ]
  },
  {
   "cell_type": "code",
   "execution_count": 7,
   "id": "106f0274",
   "metadata": {},
   "outputs": [
    {
     "data": {
      "text/plain": [
       "NO     54864\n",
       ">30    35545\n",
       "<30    11357\n",
       "Name: readmitted, dtype: int64"
      ]
     },
     "execution_count": 7,
     "metadata": {},
     "output_type": "execute_result"
    }
   ],
   "source": [
    "df[TGT].value_counts()"
   ]
  },
  {
   "cell_type": "code",
   "execution_count": 8,
   "id": "76ee1c93d464fa3e",
   "metadata": {
    "ExecuteTime": {
     "end_time": "2024-02-14T16:51:54.714117623Z",
     "start_time": "2024-02-14T16:51:54.651578742Z"
    },
    "collapsed": false,
    "jupyter": {
     "outputs_hidden": false
    }
   },
   "outputs": [
    {
     "data": {
      "text/plain": [
       "citoglipton                      1\n",
       "examide                          1\n",
       "acetohexamide                    2\n",
       "metformin-pioglitazone           2\n",
       "metformin-rosiglitazone          2\n",
       "glimepiride-pioglitazone         2\n",
       "glipizide-metformin              2\n",
       "troglitazone                     2\n",
       "tolbutamide                      2\n",
       "change                           2\n",
       "diabetesMed                      2\n",
       "gender                           3\n",
       "tolazamide                       3\n",
       "max_glu_serum                    4\n",
       "glyburide-metformin              4\n",
       "insulin                          4\n",
       "miglitol                         4\n",
       "rosiglitazone                    4\n",
       "pioglitazone                     4\n",
       "glyburide                        4\n",
       "acarbose                         4\n",
       "glimepiride                      4\n",
       "A1Cresult                        4\n",
       "chlorpropamide                   4\n",
       "nateglinide                      4\n",
       "glipizide                        4\n",
       "repaglinide                      4\n",
       "metformin                        4\n",
       "race                             5\n",
       "weight                           9\n",
       "age                             10\n",
       "payer_code                      17\n",
       "medical_specialty               72\n",
       "diag_1                         716\n",
       "diag_2                         748\n",
       "diag_3                         789\n",
       "patient_nbr                  71518\n",
       "encounter_id                101766\n",
       "dtype: int64"
      ]
     },
     "execution_count": 8,
     "metadata": {},
     "output_type": "execute_result"
    }
   ],
   "source": [
    "df[CAT_COLUMNS].nunique().sort_values()"
   ]
  },
  {
   "cell_type": "markdown",
   "id": "438d6f821e6b3a64",
   "metadata": {
    "collapsed": false,
    "jupyter": {
     "outputs_hidden": false
    }
   },
   "source": [
    "`encounter_id` has one value for each row, so we can remove it from the dataset"
   ]
  },
  {
   "cell_type": "code",
   "execution_count": 9,
   "id": "6835564294273a56",
   "metadata": {
    "ExecuteTime": {
     "end_time": "2024-02-14T16:51:48.689091601Z",
     "start_time": "2024-02-14T16:51:48.677145543Z"
    },
    "collapsed": false,
    "jupyter": {
     "outputs_hidden": false
    }
   },
   "outputs": [],
   "source": [
    "df = df.drop(columns=[\"encounter_id\"], errors=\"ignore\")\n",
    "CAT_COLUMNS = [c for c in CAT_COLUMNS if c != \"encounter_id\"]"
   ]
  },
  {
   "cell_type": "markdown",
   "id": "5458d7820a0f30a",
   "metadata": {
    "collapsed": false,
    "jupyter": {
     "outputs_hidden": false
    }
   },
   "source": [
    "`citoglipton` and `examide` have only one value, so we can remove them from the dataset"
   ]
  },
  {
   "cell_type": "code",
   "execution_count": 10,
   "id": "d76a7d321920f0d8",
   "metadata": {
    "ExecuteTime": {
     "end_time": "2024-02-14T16:51:48.713328530Z",
     "start_time": "2024-02-14T16:51:48.689420954Z"
    },
    "collapsed": false,
    "jupyter": {
     "outputs_hidden": false
    }
   },
   "outputs": [],
   "source": [
    "df = df.drop(columns=[\"citoglipton\", \"examide\"], errors=\"ignore\")\n",
    "CAT_COLUMNS = [c for c in CAT_COLUMNS if c not in [\"citoglipton\", \"examide\"]]"
   ]
  },
  {
   "cell_type": "markdown",
   "id": "ab8688a282e2024d",
   "metadata": {
    "collapsed": false,
    "jupyter": {
     "outputs_hidden": false
    }
   },
   "source": [
    "numerical columns"
   ]
  },
  {
   "cell_type": "code",
   "execution_count": 11,
   "id": "8d6e7f66293f2738",
   "metadata": {
    "ExecuteTime": {
     "end_time": "2024-02-14T16:51:48.743254489Z",
     "start_time": "2024-02-14T16:51:48.701732343Z"
    },
    "collapsed": false,
    "jupyter": {
     "outputs_hidden": false
    }
   },
   "outputs": [
    {
     "data": {
      "text/html": [
       "<div>\n",
       "<style scoped>\n",
       "    .dataframe tbody tr th:only-of-type {\n",
       "        vertical-align: middle;\n",
       "    }\n",
       "\n",
       "    .dataframe tbody tr th {\n",
       "        vertical-align: top;\n",
       "    }\n",
       "\n",
       "    .dataframe thead th {\n",
       "        text-align: right;\n",
       "    }\n",
       "</style>\n",
       "<table border=\"1\" class=\"dataframe\">\n",
       "  <thead>\n",
       "    <tr style=\"text-align: right;\">\n",
       "      <th></th>\n",
       "      <th>count</th>\n",
       "      <th>mean</th>\n",
       "      <th>std</th>\n",
       "      <th>min</th>\n",
       "      <th>25%</th>\n",
       "      <th>50%</th>\n",
       "      <th>75%</th>\n",
       "      <th>max</th>\n",
       "    </tr>\n",
       "  </thead>\n",
       "  <tbody>\n",
       "    <tr>\n",
       "      <th>admission_type_id</th>\n",
       "      <td>101766.0</td>\n",
       "      <td>2.024006</td>\n",
       "      <td>1.445403</td>\n",
       "      <td>1.0</td>\n",
       "      <td>1.0</td>\n",
       "      <td>1.0</td>\n",
       "      <td>3.0</td>\n",
       "      <td>8.0</td>\n",
       "    </tr>\n",
       "    <tr>\n",
       "      <th>discharge_disposition_id</th>\n",
       "      <td>101766.0</td>\n",
       "      <td>3.715642</td>\n",
       "      <td>5.280166</td>\n",
       "      <td>1.0</td>\n",
       "      <td>1.0</td>\n",
       "      <td>1.0</td>\n",
       "      <td>4.0</td>\n",
       "      <td>28.0</td>\n",
       "    </tr>\n",
       "    <tr>\n",
       "      <th>admission_source_id</th>\n",
       "      <td>101766.0</td>\n",
       "      <td>5.754437</td>\n",
       "      <td>4.064081</td>\n",
       "      <td>1.0</td>\n",
       "      <td>1.0</td>\n",
       "      <td>7.0</td>\n",
       "      <td>7.0</td>\n",
       "      <td>25.0</td>\n",
       "    </tr>\n",
       "    <tr>\n",
       "      <th>time_in_hospital</th>\n",
       "      <td>101766.0</td>\n",
       "      <td>4.395987</td>\n",
       "      <td>2.985108</td>\n",
       "      <td>1.0</td>\n",
       "      <td>2.0</td>\n",
       "      <td>4.0</td>\n",
       "      <td>6.0</td>\n",
       "      <td>14.0</td>\n",
       "    </tr>\n",
       "    <tr>\n",
       "      <th>num_lab_procedures</th>\n",
       "      <td>101766.0</td>\n",
       "      <td>43.095641</td>\n",
       "      <td>19.674362</td>\n",
       "      <td>1.0</td>\n",
       "      <td>31.0</td>\n",
       "      <td>44.0</td>\n",
       "      <td>57.0</td>\n",
       "      <td>132.0</td>\n",
       "    </tr>\n",
       "    <tr>\n",
       "      <th>num_procedures</th>\n",
       "      <td>101766.0</td>\n",
       "      <td>1.339730</td>\n",
       "      <td>1.705807</td>\n",
       "      <td>0.0</td>\n",
       "      <td>0.0</td>\n",
       "      <td>1.0</td>\n",
       "      <td>2.0</td>\n",
       "      <td>6.0</td>\n",
       "    </tr>\n",
       "    <tr>\n",
       "      <th>num_medications</th>\n",
       "      <td>101766.0</td>\n",
       "      <td>16.021844</td>\n",
       "      <td>8.127566</td>\n",
       "      <td>1.0</td>\n",
       "      <td>10.0</td>\n",
       "      <td>15.0</td>\n",
       "      <td>20.0</td>\n",
       "      <td>81.0</td>\n",
       "    </tr>\n",
       "    <tr>\n",
       "      <th>number_outpatient</th>\n",
       "      <td>101766.0</td>\n",
       "      <td>0.369357</td>\n",
       "      <td>1.267265</td>\n",
       "      <td>0.0</td>\n",
       "      <td>0.0</td>\n",
       "      <td>0.0</td>\n",
       "      <td>0.0</td>\n",
       "      <td>42.0</td>\n",
       "    </tr>\n",
       "    <tr>\n",
       "      <th>number_emergency</th>\n",
       "      <td>101766.0</td>\n",
       "      <td>0.197836</td>\n",
       "      <td>0.930472</td>\n",
       "      <td>0.0</td>\n",
       "      <td>0.0</td>\n",
       "      <td>0.0</td>\n",
       "      <td>0.0</td>\n",
       "      <td>76.0</td>\n",
       "    </tr>\n",
       "    <tr>\n",
       "      <th>number_inpatient</th>\n",
       "      <td>101766.0</td>\n",
       "      <td>0.635566</td>\n",
       "      <td>1.262863</td>\n",
       "      <td>0.0</td>\n",
       "      <td>0.0</td>\n",
       "      <td>0.0</td>\n",
       "      <td>1.0</td>\n",
       "      <td>21.0</td>\n",
       "    </tr>\n",
       "    <tr>\n",
       "      <th>number_diagnoses</th>\n",
       "      <td>101766.0</td>\n",
       "      <td>7.422607</td>\n",
       "      <td>1.933600</td>\n",
       "      <td>1.0</td>\n",
       "      <td>6.0</td>\n",
       "      <td>8.0</td>\n",
       "      <td>9.0</td>\n",
       "      <td>16.0</td>\n",
       "    </tr>\n",
       "  </tbody>\n",
       "</table>\n",
       "</div>"
      ],
      "text/plain": [
       "                             count       mean        std  min   25%   50%  \\\n",
       "admission_type_id         101766.0   2.024006   1.445403  1.0   1.0   1.0   \n",
       "discharge_disposition_id  101766.0   3.715642   5.280166  1.0   1.0   1.0   \n",
       "admission_source_id       101766.0   5.754437   4.064081  1.0   1.0   7.0   \n",
       "time_in_hospital          101766.0   4.395987   2.985108  1.0   2.0   4.0   \n",
       "num_lab_procedures        101766.0  43.095641  19.674362  1.0  31.0  44.0   \n",
       "num_procedures            101766.0   1.339730   1.705807  0.0   0.0   1.0   \n",
       "num_medications           101766.0  16.021844   8.127566  1.0  10.0  15.0   \n",
       "number_outpatient         101766.0   0.369357   1.267265  0.0   0.0   0.0   \n",
       "number_emergency          101766.0   0.197836   0.930472  0.0   0.0   0.0   \n",
       "number_inpatient          101766.0   0.635566   1.262863  0.0   0.0   0.0   \n",
       "number_diagnoses          101766.0   7.422607   1.933600  1.0   6.0   8.0   \n",
       "\n",
       "                           75%    max  \n",
       "admission_type_id          3.0    8.0  \n",
       "discharge_disposition_id   4.0   28.0  \n",
       "admission_source_id        7.0   25.0  \n",
       "time_in_hospital           6.0   14.0  \n",
       "num_lab_procedures        57.0  132.0  \n",
       "num_procedures             2.0    6.0  \n",
       "num_medications           20.0   81.0  \n",
       "number_outpatient          0.0   42.0  \n",
       "number_emergency           0.0   76.0  \n",
       "number_inpatient           1.0   21.0  \n",
       "number_diagnoses           9.0   16.0  "
      ]
     },
     "execution_count": 11,
     "metadata": {},
     "output_type": "execute_result"
    }
   ],
   "source": [
    "df[NUM_COLUMNS].describe().T"
   ]
  },
  {
   "cell_type": "markdown",
   "id": "73236f0a",
   "metadata": {},
   "source": [
    "Finding outliers on the numerical - I suggest that we don't remove them right now, but later in our individual models"
   ]
  },
  {
   "cell_type": "code",
   "execution_count": 12,
   "id": "9787dc8a",
   "metadata": {},
   "outputs": [
    {
     "name": "stdout",
     "output_type": "stream",
     "text": [
      "Number of outliers in each numerical column:\n"
     ]
    },
    {
     "data": {
      "text/plain": [
       "admission_type_id             341\n",
       "discharge_disposition_id     9818\n",
       "admission_source_id          6956\n",
       "time_in_hospital             2252\n",
       "num_lab_procedures            143\n",
       "num_procedures               4954\n",
       "num_medications              2557\n",
       "number_outpatient           16739\n",
       "number_emergency            11383\n",
       "number_inpatient             7049\n",
       "number_diagnoses              281\n",
       "dtype: int64"
      ]
     },
     "execution_count": 12,
     "metadata": {},
     "output_type": "execute_result"
    }
   ],
   "source": [
    "Q1 = df[NUM_COLUMNS].quantile(.25)\n",
    "Q3 = df[NUM_COLUMNS].quantile(.75)\n",
    "IQR = Q3 - Q1\n",
    "\n",
    "outliers = (df[NUM_COLUMNS] < (Q1 - 1.5 * IQR)) | (df[NUM_COLUMNS] > (Q3 + 1.5 * IQR))\n",
    "\n",
    "print(\"Number of outliers in each numerical column:\")\n",
    "outliers.sum()"
   ]
  },
  {
   "cell_type": "markdown",
   "id": "lo6kkW0YATb_",
   "metadata": {
    "id": "lo6kkW0YATb_"
   },
   "source": [
    "# EDA\n",
    "\n",
    "TODO:\n",
    "\n",
    "- [ ] Histogram visualisation of all the numeric columns\n",
    "- [ ] Barplot visualisation of all the categorical columns\n",
    "- [ ] Bivariate analysis of all numeric cols vs tgt - Boxplot plots\n",
    "- [ ] Bivariate analysis of all numeric cols vs tgt - Anova analysis to get p-value\n",
    "- [ ] Bivariate analysis of all categorical cols vs tgt - Mosaic / Stackbar / any other plot you like\n",
    "- [ ] Bivariate analysis of all categorical cols vs tgt - chi-squared test\n",
    "- [ ] Cluster Analysis to find any pattern within the data\n",
    "- [X] Running PCA to understand what is the least amount of variables that we can explain the variance (Parsa)\n",
    "- [X] Get the first two PCs and create a plot with them and get an interpration of it (Parsa)"
   ]
  },
  {
   "cell_type": "code",
   "execution_count": 24,
   "id": "0288d59f-b842-4857-a4f9-4035309e502e",
   "metadata": {},
   "outputs": [],
   "source": [
    "x = df[NUM_COLUMNS]\n",
    "x = StandardScaler().fit_transform(x)"
   ]
  },
  {
   "cell_type": "code",
   "execution_count": 22,
   "id": "226c8dbc-3064-463f-b93d-b486ca288ce1",
   "metadata": {},
   "outputs": [
    {
     "data": {
      "text/plain": [
       "(101766, 11)"
      ]
     },
     "execution_count": 22,
     "metadata": {},
     "output_type": "execute_result"
    }
   ],
   "source": [
    "x.shape"
   ]
  },
  {
   "cell_type": "code",
   "execution_count": 25,
   "id": "0db63e76-23c8-47d7-b294-06428494161a",
   "metadata": {},
   "outputs": [
    {
     "data": {
      "text/plain": [
       "(1.8686700273870136e-17, 1.0)"
      ]
     },
     "execution_count": 25,
     "metadata": {},
     "output_type": "execute_result"
    }
   ],
   "source": [
    "np.mean(x),np.std(x)"
   ]
  },
  {
   "cell_type": "code",
   "execution_count": 25,
   "id": "438bd74d-5008-4dff-ae91-f748b0a942c5",
   "metadata": {},
   "outputs": [],
   "source": [
    "feat_cols = ['feature'+str(i) for i in range(x.shape[1])]"
   ]
  },
  {
   "cell_type": "code",
   "execution_count": 26,
   "id": "c1c38381-e487-4f8b-a52e-9c6717818506",
   "metadata": {},
   "outputs": [],
   "source": [
    "normalised_numericals = pd.DataFrame(x,columns=feat_cols)"
   ]
  },
  {
   "cell_type": "code",
   "execution_count": 27,
   "id": "2a171456-44c4-4662-8781-3270d8e86a43",
   "metadata": {},
   "outputs": [
    {
     "data": {
      "text/html": [
       "<div>\n",
       "<style scoped>\n",
       "    .dataframe tbody tr th:only-of-type {\n",
       "        vertical-align: middle;\n",
       "    }\n",
       "\n",
       "    .dataframe tbody tr th {\n",
       "        vertical-align: top;\n",
       "    }\n",
       "\n",
       "    .dataframe thead th {\n",
       "        text-align: right;\n",
       "    }\n",
       "</style>\n",
       "<table border=\"1\" class=\"dataframe\">\n",
       "  <thead>\n",
       "    <tr style=\"text-align: right;\">\n",
       "      <th></th>\n",
       "      <th>feature0</th>\n",
       "      <th>feature1</th>\n",
       "      <th>feature2</th>\n",
       "      <th>feature3</th>\n",
       "      <th>feature4</th>\n",
       "      <th>feature5</th>\n",
       "      <th>feature6</th>\n",
       "      <th>feature7</th>\n",
       "      <th>feature8</th>\n",
       "      <th>feature9</th>\n",
       "      <th>feature10</th>\n",
       "    </tr>\n",
       "  </thead>\n",
       "  <tbody>\n",
       "    <tr>\n",
       "      <th>0</th>\n",
       "      <td>2.750800</td>\n",
       "      <td>4.031022</td>\n",
       "      <td>-1.169873</td>\n",
       "      <td>-1.137649</td>\n",
       "      <td>-0.106517</td>\n",
       "      <td>-0.785398</td>\n",
       "      <td>-1.848268</td>\n",
       "      <td>-0.291461</td>\n",
       "      <td>-0.21262</td>\n",
       "      <td>-0.503276</td>\n",
       "      <td>-3.321596</td>\n",
       "    </tr>\n",
       "    <tr>\n",
       "      <th>1</th>\n",
       "      <td>-0.708461</td>\n",
       "      <td>-0.514312</td>\n",
       "      <td>0.306482</td>\n",
       "      <td>-0.467653</td>\n",
       "      <td>0.808384</td>\n",
       "      <td>-0.785398</td>\n",
       "      <td>0.243390</td>\n",
       "      <td>-0.291461</td>\n",
       "      <td>-0.21262</td>\n",
       "      <td>-0.503276</td>\n",
       "      <td>0.815784</td>\n",
       "    </tr>\n",
       "    <tr>\n",
       "      <th>2</th>\n",
       "      <td>-0.708461</td>\n",
       "      <td>-0.514312</td>\n",
       "      <td>0.306482</td>\n",
       "      <td>-0.802651</td>\n",
       "      <td>-1.631351</td>\n",
       "      <td>2.145781</td>\n",
       "      <td>-0.371804</td>\n",
       "      <td>1.286748</td>\n",
       "      <td>-0.21262</td>\n",
       "      <td>0.288579</td>\n",
       "      <td>-0.735733</td>\n",
       "    </tr>\n",
       "    <tr>\n",
       "      <th>3</th>\n",
       "      <td>-0.708461</td>\n",
       "      <td>-0.514312</td>\n",
       "      <td>0.306482</td>\n",
       "      <td>-0.802651</td>\n",
       "      <td>0.045967</td>\n",
       "      <td>-0.199162</td>\n",
       "      <td>-0.002688</td>\n",
       "      <td>-0.291461</td>\n",
       "      <td>-0.21262</td>\n",
       "      <td>-0.503276</td>\n",
       "      <td>-0.218561</td>\n",
       "    </tr>\n",
       "    <tr>\n",
       "      <th>4</th>\n",
       "      <td>-0.708461</td>\n",
       "      <td>-0.514312</td>\n",
       "      <td>0.306482</td>\n",
       "      <td>-1.137649</td>\n",
       "      <td>0.401761</td>\n",
       "      <td>-0.785398</td>\n",
       "      <td>-0.986997</td>\n",
       "      <td>-0.291461</td>\n",
       "      <td>-0.21262</td>\n",
       "      <td>-0.503276</td>\n",
       "      <td>-1.252906</td>\n",
       "    </tr>\n",
       "  </tbody>\n",
       "</table>\n",
       "</div>"
      ],
      "text/plain": [
       "   feature0  feature1  feature2  feature3  feature4  feature5  feature6  \\\n",
       "0  2.750800  4.031022 -1.169873 -1.137649 -0.106517 -0.785398 -1.848268   \n",
       "1 -0.708461 -0.514312  0.306482 -0.467653  0.808384 -0.785398  0.243390   \n",
       "2 -0.708461 -0.514312  0.306482 -0.802651 -1.631351  2.145781 -0.371804   \n",
       "3 -0.708461 -0.514312  0.306482 -0.802651  0.045967 -0.199162 -0.002688   \n",
       "4 -0.708461 -0.514312  0.306482 -1.137649  0.401761 -0.785398 -0.986997   \n",
       "\n",
       "   feature7  feature8  feature9  feature10  \n",
       "0 -0.291461  -0.21262 -0.503276  -3.321596  \n",
       "1 -0.291461  -0.21262 -0.503276   0.815784  \n",
       "2  1.286748  -0.21262  0.288579  -0.735733  \n",
       "3 -0.291461  -0.21262 -0.503276  -0.218561  \n",
       "4 -0.291461  -0.21262 -0.503276  -1.252906  "
      ]
     },
     "execution_count": 27,
     "metadata": {},
     "output_type": "execute_result"
    }
   ],
   "source": [
    "normalised_numericals.head()"
   ]
  },
  {
   "cell_type": "code",
   "execution_count": 36,
   "id": "80559b44-94cd-44ae-9c2f-8ea1496e80c0",
   "metadata": {},
   "outputs": [],
   "source": [
    "pca_readmit = PCA(n_components=11)\n",
    "principalComponents_readmit = pca_readmit.fit_transform(x)"
   ]
  },
  {
   "cell_type": "code",
   "execution_count": 39,
   "id": "972932fa-4dbd-4588-8d45-168505d2dae7",
   "metadata": {},
   "outputs": [],
   "source": [
    "principal_readmit_df = pd.DataFrame(data = principalComponents_readmit[:,:2]\n",
    "             , columns = ['principal component 1', 'principal component 2'])"
   ]
  },
  {
   "cell_type": "code",
   "execution_count": 40,
   "id": "a9b622ac-b6cb-4aaa-b175-962ad475d563",
   "metadata": {},
   "outputs": [
    {
     "data": {
      "text/html": [
       "<div>\n",
       "<style scoped>\n",
       "    .dataframe tbody tr th:only-of-type {\n",
       "        vertical-align: middle;\n",
       "    }\n",
       "\n",
       "    .dataframe tbody tr th {\n",
       "        vertical-align: top;\n",
       "    }\n",
       "\n",
       "    .dataframe thead th {\n",
       "        text-align: right;\n",
       "    }\n",
       "</style>\n",
       "<table border=\"1\" class=\"dataframe\">\n",
       "  <thead>\n",
       "    <tr style=\"text-align: right;\">\n",
       "      <th></th>\n",
       "      <th>principal component 1</th>\n",
       "      <th>principal component 2</th>\n",
       "    </tr>\n",
       "  </thead>\n",
       "  <tbody>\n",
       "    <tr>\n",
       "      <th>0</th>\n",
       "      <td>-2.473611</td>\n",
       "      <td>-1.989741</td>\n",
       "    </tr>\n",
       "    <tr>\n",
       "      <th>1</th>\n",
       "      <td>0.041641</td>\n",
       "      <td>0.352542</td>\n",
       "    </tr>\n",
       "    <tr>\n",
       "      <th>2</th>\n",
       "      <td>-0.763562</td>\n",
       "      <td>-0.316704</td>\n",
       "    </tr>\n",
       "    <tr>\n",
       "      <th>3</th>\n",
       "      <td>-0.715040</td>\n",
       "      <td>-0.151553</td>\n",
       "    </tr>\n",
       "    <tr>\n",
       "      <th>4</th>\n",
       "      <td>-1.861817</td>\n",
       "      <td>-0.047581</td>\n",
       "    </tr>\n",
       "  </tbody>\n",
       "</table>\n",
       "</div>"
      ],
      "text/plain": [
       "   principal component 1  principal component 2\n",
       "0              -2.473611              -1.989741\n",
       "1               0.041641               0.352542\n",
       "2              -0.763562              -0.316704\n",
       "3              -0.715040              -0.151553\n",
       "4              -1.861817              -0.047581"
      ]
     },
     "execution_count": 40,
     "metadata": {},
     "output_type": "execute_result"
    }
   ],
   "source": [
    "principal_readmit_df.head()"
   ]
  },
  {
   "cell_type": "code",
   "execution_count": 41,
   "id": "7637b022-5758-4cac-ab0f-027efef61ad0",
   "metadata": {},
   "outputs": [
    {
     "name": "stdout",
     "output_type": "stream",
     "text": [
      "Explained variation per principal component: [0.18746285 0.12986915 0.10957258 0.09981255 0.08888286 0.08577301\n",
      " 0.0754504  0.06658379 0.05875353 0.0554621  0.04237719]\n"
     ]
    }
   ],
   "source": [
    "print('Explained variation per principal component: {}'.format(pca_readmit.explained_variance_ratio_))"
   ]
  },
  {
   "cell_type": "code",
   "execution_count": 42,
   "id": "d28126f8-75d9-43ac-8c28-9f70beaa9a33",
   "metadata": {},
   "outputs": [
    {
     "data": {
      "text/plain": [
       "1.0"
      ]
     },
     "execution_count": 42,
     "metadata": {},
     "output_type": "execute_result"
    }
   ],
   "source": [
    "sum(pca_readmit.explained_variance_ratio_)"
   ]
  },
  {
   "cell_type": "code",
   "execution_count": 43,
   "id": "73552bd6-cc6d-492f-8020-42d48fdbb3b4",
   "metadata": {},
   "outputs": [
    {
     "data": {
      "text/plain": [
       "<matplotlib.legend.Legend at 0x23f5509dcd0>"
      ]
     },
     "execution_count": 43,
     "metadata": {},
     "output_type": "execute_result"
    },
    {
     "data": {
      "text/plain": [
       "<Figure size 640x480 with 0 Axes>"
      ]
     },
     "metadata": {},
     "output_type": "display_data"
    },
    {
     "data": {
      "image/png": "[encoded data removed]",
      "text/plain": [
       "<Figure size 1000x1000 with 1 Axes>"
      ]
     },
     "metadata": {},
     "output_type": "display_data"
    }
   ],
   "source": [
    "plt.figure()\n",
    "plt.figure(figsize=(10,10))\n",
    "plt.xticks(fontsize=12)\n",
    "plt.yticks(fontsize=14)\n",
    "plt.xlabel('Principal Component - 1',fontsize=20)\n",
    "plt.ylabel('Principal Component - 2',fontsize=20)\n",
    "plt.title(\"Principal Component Analysis of Readmission to The Hostpital\",fontsize=20)\n",
    "targets = ['NO', '<30','>30']\n",
    "colors = ['r', 'g','y']\n",
    "for target, color in zip(targets,colors):\n",
    "    indicesToKeep = df['readmitted'] == target\n",
    "    plt.scatter(principal_readmit_df.loc[indicesToKeep, 'principal component 1']\n",
    "               , principal_readmit_df.loc[indicesToKeep, 'principal component 2'], c = color, s = 50)\n",
    "\n",
    "plt.legend(targets,prop={'size': 15})\n"
   ]
  },
  {
   "cell_type": "code",
   "execution_count": null,
   "id": "06a28408-32a3-4f0a-8e06-fec5ca94c770",
   "metadata": {},
   "outputs": [],
   "source": []
  }
 ],
 "metadata": {
  "colab": {
   "provenance": []
  },
  "kernelspec": {
   "display_name": "Python 3 (ipykernel)",
   "language": "python",
   "name": "python3"
  },
  "language_info": {
   "codemirror_mode": {
    "name": "ipython",
    "version": 3
   },
   "file_extension": ".py",
   "mimetype": "text/x-python",
   "name": "python",
   "nbconvert_exporter": "python",
   "pygments_lexer": "ipython3",
   "version": "3.11.0"
  }
 },
 "nbformat": 4,
 "nbformat_minor": 5
}
