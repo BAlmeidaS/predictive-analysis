{
 "cells": [
  {
   "cell_type": "code",
   "execution_count": 1,
   "id": "4cb893aa-881d-4cd7-9cc3-949e7223fd8a",
   "metadata": {},
   "outputs": [],
   "source": [
    "import pandas as pd\n",
    "from sklearn.cluster import DBSCAN\n",
    "from sklearn.preprocessing import StandardScaler\n",
    "from sklearn import preprocessing as preproc\n",
    "from scipy import stats\n",
    "import numpy as np"
   ]
  },
  {
   "cell_type": "code",
   "execution_count": 2,
   "id": "951fb43b-f2fc-498f-aaec-7b6ad9116c43",
   "metadata": {},
   "outputs": [],
   "source": [
    "df=pd.read_parquet(\"diabetic_data_cleaned_pca_som_ae.parquet\")"
   ]
  },
  {
   "cell_type": "code",
   "execution_count": 3,
   "id": "67bf8ae2-4194-43de-9b62-40323ea08816",
   "metadata": {},
   "outputs": [
    {
     "data": {
      "text/html": [
       "<div>\n",
       "<style scoped>\n",
       "    .dataframe tbody tr th:only-of-type {\n",
       "        vertical-align: middle;\n",
       "    }\n",
       "\n",
       "    .dataframe tbody tr th {\n",
       "        vertical-align: top;\n",
       "    }\n",
       "\n",
       "    .dataframe thead th {\n",
       "        text-align: right;\n",
       "    }\n",
       "</style>\n",
       "<table border=\"1\" class=\"dataframe\">\n",
       "  <thead>\n",
       "    <tr style=\"text-align: right;\">\n",
       "      <th></th>\n",
       "      <th>race</th>\n",
       "      <th>gender</th>\n",
       "      <th>age</th>\n",
       "      <th>admission_type_id</th>\n",
       "      <th>discharge_disposition_id</th>\n",
       "      <th>admission_source_id</th>\n",
       "      <th>time_in_hospital</th>\n",
       "      <th>payer_code</th>\n",
       "      <th>medical_specialty</th>\n",
       "      <th>num_lab_procedures</th>\n",
       "      <th>...</th>\n",
       "      <th>ae_1</th>\n",
       "      <th>ae_2</th>\n",
       "      <th>ae_3</th>\n",
       "      <th>ae_4</th>\n",
       "      <th>ae_5</th>\n",
       "      <th>ae_6</th>\n",
       "      <th>ae_7</th>\n",
       "      <th>ae_8</th>\n",
       "      <th>ae_9</th>\n",
       "      <th>ae_10</th>\n",
       "    </tr>\n",
       "  </thead>\n",
       "  <tbody>\n",
       "    <tr>\n",
       "      <th>0</th>\n",
       "      <td>Caucasian</td>\n",
       "      <td>Female</td>\n",
       "      <td>[10-20)</td>\n",
       "      <td>1</td>\n",
       "      <td>1</td>\n",
       "      <td>7</td>\n",
       "      <td>3</td>\n",
       "      <td>NaN</td>\n",
       "      <td>NaN</td>\n",
       "      <td>59</td>\n",
       "      <td>...</td>\n",
       "      <td>10.852900</td>\n",
       "      <td>15.065039</td>\n",
       "      <td>31.019421</td>\n",
       "      <td>27.719538</td>\n",
       "      <td>25.533045</td>\n",
       "      <td>7.944871</td>\n",
       "      <td>20.922789</td>\n",
       "      <td>27.010193</td>\n",
       "      <td>11.216609</td>\n",
       "      <td>20.678316</td>\n",
       "    </tr>\n",
       "    <tr>\n",
       "      <th>1</th>\n",
       "      <td>AfricanAmerican</td>\n",
       "      <td>Female</td>\n",
       "      <td>[20-30)</td>\n",
       "      <td>1</td>\n",
       "      <td>1</td>\n",
       "      <td>7</td>\n",
       "      <td>2</td>\n",
       "      <td>NaN</td>\n",
       "      <td>NaN</td>\n",
       "      <td>11</td>\n",
       "      <td>...</td>\n",
       "      <td>18.226522</td>\n",
       "      <td>17.166298</td>\n",
       "      <td>23.886705</td>\n",
       "      <td>33.430027</td>\n",
       "      <td>47.993740</td>\n",
       "      <td>8.140186</td>\n",
       "      <td>39.252544</td>\n",
       "      <td>27.722694</td>\n",
       "      <td>7.005354</td>\n",
       "      <td>28.845524</td>\n",
       "    </tr>\n",
       "    <tr>\n",
       "      <th>2</th>\n",
       "      <td>Caucasian</td>\n",
       "      <td>Male</td>\n",
       "      <td>[30-40)</td>\n",
       "      <td>1</td>\n",
       "      <td>1</td>\n",
       "      <td>7</td>\n",
       "      <td>2</td>\n",
       "      <td>NaN</td>\n",
       "      <td>NaN</td>\n",
       "      <td>44</td>\n",
       "      <td>...</td>\n",
       "      <td>13.771294</td>\n",
       "      <td>19.349968</td>\n",
       "      <td>48.049038</td>\n",
       "      <td>31.504131</td>\n",
       "      <td>22.436737</td>\n",
       "      <td>6.229624</td>\n",
       "      <td>17.802269</td>\n",
       "      <td>19.045977</td>\n",
       "      <td>23.747458</td>\n",
       "      <td>44.441738</td>\n",
       "    </tr>\n",
       "    <tr>\n",
       "      <th>3</th>\n",
       "      <td>Caucasian</td>\n",
       "      <td>Male</td>\n",
       "      <td>[40-50)</td>\n",
       "      <td>1</td>\n",
       "      <td>1</td>\n",
       "      <td>7</td>\n",
       "      <td>1</td>\n",
       "      <td>NaN</td>\n",
       "      <td>NaN</td>\n",
       "      <td>51</td>\n",
       "      <td>...</td>\n",
       "      <td>8.532896</td>\n",
       "      <td>23.532095</td>\n",
       "      <td>22.429426</td>\n",
       "      <td>19.974939</td>\n",
       "      <td>25.424990</td>\n",
       "      <td>18.631826</td>\n",
       "      <td>11.400923</td>\n",
       "      <td>9.645898</td>\n",
       "      <td>21.622543</td>\n",
       "      <td>35.477718</td>\n",
       "    </tr>\n",
       "    <tr>\n",
       "      <th>4</th>\n",
       "      <td>Caucasian</td>\n",
       "      <td>Male</td>\n",
       "      <td>[50-60)</td>\n",
       "      <td>2</td>\n",
       "      <td>1</td>\n",
       "      <td>2</td>\n",
       "      <td>3</td>\n",
       "      <td>NaN</td>\n",
       "      <td>NaN</td>\n",
       "      <td>31</td>\n",
       "      <td>...</td>\n",
       "      <td>11.166486</td>\n",
       "      <td>17.973852</td>\n",
       "      <td>21.544680</td>\n",
       "      <td>26.190376</td>\n",
       "      <td>11.214865</td>\n",
       "      <td>20.167032</td>\n",
       "      <td>30.240730</td>\n",
       "      <td>11.272454</td>\n",
       "      <td>58.370567</td>\n",
       "      <td>21.489260</td>\n",
       "    </tr>\n",
       "  </tbody>\n",
       "</table>\n",
       "<p>5 rows × 51 columns</p>\n",
       "</div>"
      ],
      "text/plain": [
       "              race  gender      age  admission_type_id  \\\n",
       "0        Caucasian  Female  [10-20)                  1   \n",
       "1  AfricanAmerican  Female  [20-30)                  1   \n",
       "2        Caucasian    Male  [30-40)                  1   \n",
       "3        Caucasian    Male  [40-50)                  1   \n",
       "4        Caucasian    Male  [50-60)                  2   \n",
       "\n",
       "   discharge_disposition_id  admission_source_id  time_in_hospital payer_code  \\\n",
       "0                         1                    7                 3        NaN   \n",
       "1                         1                    7                 2        NaN   \n",
       "2                         1                    7                 2        NaN   \n",
       "3                         1                    7                 1        NaN   \n",
       "4                         1                    2                 3        NaN   \n",
       "\n",
       "  medical_specialty  num_lab_procedures  ...       ae_1       ae_2       ae_3  \\\n",
       "0               NaN                  59  ...  10.852900  15.065039  31.019421   \n",
       "1               NaN                  11  ...  18.226522  17.166298  23.886705   \n",
       "2               NaN                  44  ...  13.771294  19.349968  48.049038   \n",
       "3               NaN                  51  ...   8.532896  23.532095  22.429426   \n",
       "4               NaN                  31  ...  11.166486  17.973852  21.544680   \n",
       "\n",
       "        ae_4       ae_5       ae_6       ae_7       ae_8       ae_9      ae_10  \n",
       "0  27.719538  25.533045   7.944871  20.922789  27.010193  11.216609  20.678316  \n",
       "1  33.430027  47.993740   8.140186  39.252544  27.722694   7.005354  28.845524  \n",
       "2  31.504131  22.436737   6.229624  17.802269  19.045977  23.747458  44.441738  \n",
       "3  19.974939  25.424990  18.631826  11.400923   9.645898  21.622543  35.477718  \n",
       "4  26.190376  11.214865  20.167032  30.240730  11.272454  58.370567  21.489260  \n",
       "\n",
       "[5 rows x 51 columns]"
      ]
     },
     "execution_count": 3,
     "metadata": {},
     "output_type": "execute_result"
    }
   ],
   "source": [
    "df.head()"
   ]
  },
  {
   "cell_type": "code",
   "execution_count": 4,
   "id": "c0d7d39f-926d-430c-b013-4639f6833b04",
   "metadata": {},
   "outputs": [
    {
     "data": {
      "text/plain": [
       "Index(['race', 'gender', 'age', 'admission_type_id',\n",
       "       'discharge_disposition_id', 'admission_source_id', 'time_in_hospital',\n",
       "       'payer_code', 'medical_specialty', 'num_lab_procedures',\n",
       "       'num_procedures', 'num_medications', 'number_outpatient',\n",
       "       'number_emergency', 'number_inpatient', 'diag_1', 'diag_2', 'diag_3',\n",
       "       'number_diagnoses', 'metformin', 'repaglinide', 'glimepiride',\n",
       "       'glipizide', 'glyburide', 'pioglitazone', 'rosiglitazone', 'insulin',\n",
       "       'glyburide-metformin', 'change', 'diabetesMed', 'readmitted', 'PC1',\n",
       "       'PC2', 'PC3', 'som_categoricals_jaccard_0',\n",
       "       'som_categoricals_jaccard_1', 'som_jaccard_0', 'som_jaccard_1',\n",
       "       'som_euc_0', 'som_euc_1', 'ae_0', 'ae_1', 'ae_2', 'ae_3', 'ae_4',\n",
       "       'ae_5', 'ae_6', 'ae_7', 'ae_8', 'ae_9', 'ae_10'],\n",
       "      dtype='object')"
      ]
     },
     "execution_count": 4,
     "metadata": {},
     "output_type": "execute_result"
    }
   ],
   "source": [
    "df.columns"
   ]
  },
  {
   "cell_type": "code",
   "execution_count": 5,
   "id": "d5b71623-4a5a-4b21-9a17-64f21d68565c",
   "metadata": {},
   "outputs": [],
   "source": [
    "DB_COLUMNS = [\n",
    "  'PC1','PC2', 'PC3','ae_0', 'ae_1', 'ae_2', 'ae_3', 'ae_4',\n",
    "       'ae_5', 'ae_6', 'ae_7', 'ae_8', 'ae_9', 'ae_10'\n",
    "]"
   ]
  },
  {
   "cell_type": "code",
   "execution_count": 6,
   "id": "806c80a6-f7dd-41cc-92b4-7877ae195e5d",
   "metadata": {},
   "outputs": [
    {
     "data": {
      "text/html": [
       "<div>\n",
       "<style scoped>\n",
       "    .dataframe tbody tr th:only-of-type {\n",
       "        vertical-align: middle;\n",
       "    }\n",
       "\n",
       "    .dataframe tbody tr th {\n",
       "        vertical-align: top;\n",
       "    }\n",
       "\n",
       "    .dataframe thead th {\n",
       "        text-align: right;\n",
       "    }\n",
       "</style>\n",
       "<table border=\"1\" class=\"dataframe\">\n",
       "  <thead>\n",
       "    <tr style=\"text-align: right;\">\n",
       "      <th></th>\n",
       "      <th>PC1</th>\n",
       "      <th>PC2</th>\n",
       "      <th>PC3</th>\n",
       "      <th>ae_0</th>\n",
       "      <th>ae_1</th>\n",
       "      <th>ae_2</th>\n",
       "      <th>ae_3</th>\n",
       "      <th>ae_4</th>\n",
       "      <th>ae_5</th>\n",
       "      <th>ae_6</th>\n",
       "      <th>ae_7</th>\n",
       "      <th>ae_8</th>\n",
       "      <th>ae_9</th>\n",
       "      <th>ae_10</th>\n",
       "    </tr>\n",
       "  </thead>\n",
       "  <tbody>\n",
       "    <tr>\n",
       "      <th>0</th>\n",
       "      <td>-0.214843</td>\n",
       "      <td>0.070744</td>\n",
       "      <td>-0.194516</td>\n",
       "      <td>22.876373</td>\n",
       "      <td>10.852900</td>\n",
       "      <td>15.065039</td>\n",
       "      <td>31.019421</td>\n",
       "      <td>27.719538</td>\n",
       "      <td>25.533045</td>\n",
       "      <td>7.944871</td>\n",
       "      <td>20.922789</td>\n",
       "      <td>27.010193</td>\n",
       "      <td>11.216609</td>\n",
       "      <td>20.678316</td>\n",
       "    </tr>\n",
       "    <tr>\n",
       "      <th>1</th>\n",
       "      <td>0.417941</td>\n",
       "      <td>-0.522845</td>\n",
       "      <td>0.160733</td>\n",
       "      <td>13.269567</td>\n",
       "      <td>18.226522</td>\n",
       "      <td>17.166298</td>\n",
       "      <td>23.886705</td>\n",
       "      <td>33.430027</td>\n",
       "      <td>47.993740</td>\n",
       "      <td>8.140186</td>\n",
       "      <td>39.252544</td>\n",
       "      <td>27.722694</td>\n",
       "      <td>7.005354</td>\n",
       "      <td>28.845524</td>\n",
       "    </tr>\n",
       "    <tr>\n",
       "      <th>2</th>\n",
       "      <td>-0.129162</td>\n",
       "      <td>-0.131116</td>\n",
       "      <td>-0.050765</td>\n",
       "      <td>21.936855</td>\n",
       "      <td>13.771294</td>\n",
       "      <td>19.349968</td>\n",
       "      <td>48.049038</td>\n",
       "      <td>31.504131</td>\n",
       "      <td>22.436737</td>\n",
       "      <td>6.229624</td>\n",
       "      <td>17.802269</td>\n",
       "      <td>19.045977</td>\n",
       "      <td>23.747458</td>\n",
       "      <td>44.441738</td>\n",
       "    </tr>\n",
       "    <tr>\n",
       "      <th>3</th>\n",
       "      <td>-0.333245</td>\n",
       "      <td>-0.143083</td>\n",
       "      <td>-0.009183</td>\n",
       "      <td>23.144642</td>\n",
       "      <td>8.532896</td>\n",
       "      <td>23.532095</td>\n",
       "      <td>22.429426</td>\n",
       "      <td>19.974939</td>\n",
       "      <td>25.424990</td>\n",
       "      <td>18.631826</td>\n",
       "      <td>11.400923</td>\n",
       "      <td>9.645898</td>\n",
       "      <td>21.622543</td>\n",
       "      <td>35.477718</td>\n",
       "    </tr>\n",
       "    <tr>\n",
       "      <th>4</th>\n",
       "      <td>0.640729</td>\n",
       "      <td>-0.446888</td>\n",
       "      <td>-0.059434</td>\n",
       "      <td>15.655556</td>\n",
       "      <td>11.166486</td>\n",
       "      <td>17.973852</td>\n",
       "      <td>21.544680</td>\n",
       "      <td>26.190376</td>\n",
       "      <td>11.214865</td>\n",
       "      <td>20.167032</td>\n",
       "      <td>30.240730</td>\n",
       "      <td>11.272454</td>\n",
       "      <td>58.370567</td>\n",
       "      <td>21.489260</td>\n",
       "    </tr>\n",
       "    <tr>\n",
       "      <th>...</th>\n",
       "      <td>...</td>\n",
       "      <td>...</td>\n",
       "      <td>...</td>\n",
       "      <td>...</td>\n",
       "      <td>...</td>\n",
       "      <td>...</td>\n",
       "      <td>...</td>\n",
       "      <td>...</td>\n",
       "      <td>...</td>\n",
       "      <td>...</td>\n",
       "      <td>...</td>\n",
       "      <td>...</td>\n",
       "      <td>...</td>\n",
       "      <td>...</td>\n",
       "    </tr>\n",
       "    <tr>\n",
       "      <th>100239</th>\n",
       "      <td>-0.226515</td>\n",
       "      <td>0.049629</td>\n",
       "      <td>-0.151316</td>\n",
       "      <td>20.304390</td>\n",
       "      <td>37.700432</td>\n",
       "      <td>38.159042</td>\n",
       "      <td>36.194859</td>\n",
       "      <td>32.095642</td>\n",
       "      <td>40.747505</td>\n",
       "      <td>31.212931</td>\n",
       "      <td>5.257920</td>\n",
       "      <td>19.935497</td>\n",
       "      <td>9.728429</td>\n",
       "      <td>28.007534</td>\n",
       "    </tr>\n",
       "    <tr>\n",
       "      <th>100240</th>\n",
       "      <td>0.266458</td>\n",
       "      <td>-0.086568</td>\n",
       "      <td>-0.008378</td>\n",
       "      <td>17.969046</td>\n",
       "      <td>32.420887</td>\n",
       "      <td>29.241774</td>\n",
       "      <td>33.622025</td>\n",
       "      <td>35.379620</td>\n",
       "      <td>26.705563</td>\n",
       "      <td>8.355609</td>\n",
       "      <td>30.576368</td>\n",
       "      <td>25.128113</td>\n",
       "      <td>21.916023</td>\n",
       "      <td>19.272825</td>\n",
       "    </tr>\n",
       "    <tr>\n",
       "      <th>100241</th>\n",
       "      <td>-0.277035</td>\n",
       "      <td>-0.027778</td>\n",
       "      <td>-0.406056</td>\n",
       "      <td>29.677853</td>\n",
       "      <td>29.270254</td>\n",
       "      <td>19.270786</td>\n",
       "      <td>29.298632</td>\n",
       "      <td>31.630203</td>\n",
       "      <td>47.947598</td>\n",
       "      <td>25.455599</td>\n",
       "      <td>1.833044</td>\n",
       "      <td>20.393873</td>\n",
       "      <td>18.221397</td>\n",
       "      <td>24.220598</td>\n",
       "    </tr>\n",
       "    <tr>\n",
       "      <th>100242</th>\n",
       "      <td>0.291241</td>\n",
       "      <td>0.333055</td>\n",
       "      <td>0.077571</td>\n",
       "      <td>38.435413</td>\n",
       "      <td>17.450762</td>\n",
       "      <td>30.016045</td>\n",
       "      <td>16.249697</td>\n",
       "      <td>25.172110</td>\n",
       "      <td>21.008617</td>\n",
       "      <td>15.578630</td>\n",
       "      <td>22.754118</td>\n",
       "      <td>47.332405</td>\n",
       "      <td>23.976475</td>\n",
       "      <td>21.576572</td>\n",
       "    </tr>\n",
       "    <tr>\n",
       "      <th>100243</th>\n",
       "      <td>0.245025</td>\n",
       "      <td>-0.094762</td>\n",
       "      <td>0.142103</td>\n",
       "      <td>33.365654</td>\n",
       "      <td>22.133358</td>\n",
       "      <td>13.997094</td>\n",
       "      <td>28.560457</td>\n",
       "      <td>33.896858</td>\n",
       "      <td>32.941921</td>\n",
       "      <td>18.137970</td>\n",
       "      <td>40.247292</td>\n",
       "      <td>4.178399</td>\n",
       "      <td>35.146935</td>\n",
       "      <td>15.098387</td>\n",
       "    </tr>\n",
       "  </tbody>\n",
       "</table>\n",
       "<p>100244 rows × 14 columns</p>\n",
       "</div>"
      ],
      "text/plain": [
       "             PC1       PC2       PC3       ae_0       ae_1       ae_2  \\\n",
       "0      -0.214843  0.070744 -0.194516  22.876373  10.852900  15.065039   \n",
       "1       0.417941 -0.522845  0.160733  13.269567  18.226522  17.166298   \n",
       "2      -0.129162 -0.131116 -0.050765  21.936855  13.771294  19.349968   \n",
       "3      -0.333245 -0.143083 -0.009183  23.144642   8.532896  23.532095   \n",
       "4       0.640729 -0.446888 -0.059434  15.655556  11.166486  17.973852   \n",
       "...          ...       ...       ...        ...        ...        ...   \n",
       "100239 -0.226515  0.049629 -0.151316  20.304390  37.700432  38.159042   \n",
       "100240  0.266458 -0.086568 -0.008378  17.969046  32.420887  29.241774   \n",
       "100241 -0.277035 -0.027778 -0.406056  29.677853  29.270254  19.270786   \n",
       "100242  0.291241  0.333055  0.077571  38.435413  17.450762  30.016045   \n",
       "100243  0.245025 -0.094762  0.142103  33.365654  22.133358  13.997094   \n",
       "\n",
       "             ae_3       ae_4       ae_5       ae_6       ae_7       ae_8  \\\n",
       "0       31.019421  27.719538  25.533045   7.944871  20.922789  27.010193   \n",
       "1       23.886705  33.430027  47.993740   8.140186  39.252544  27.722694   \n",
       "2       48.049038  31.504131  22.436737   6.229624  17.802269  19.045977   \n",
       "3       22.429426  19.974939  25.424990  18.631826  11.400923   9.645898   \n",
       "4       21.544680  26.190376  11.214865  20.167032  30.240730  11.272454   \n",
       "...           ...        ...        ...        ...        ...        ...   \n",
       "100239  36.194859  32.095642  40.747505  31.212931   5.257920  19.935497   \n",
       "100240  33.622025  35.379620  26.705563   8.355609  30.576368  25.128113   \n",
       "100241  29.298632  31.630203  47.947598  25.455599   1.833044  20.393873   \n",
       "100242  16.249697  25.172110  21.008617  15.578630  22.754118  47.332405   \n",
       "100243  28.560457  33.896858  32.941921  18.137970  40.247292   4.178399   \n",
       "\n",
       "             ae_9      ae_10  \n",
       "0       11.216609  20.678316  \n",
       "1        7.005354  28.845524  \n",
       "2       23.747458  44.441738  \n",
       "3       21.622543  35.477718  \n",
       "4       58.370567  21.489260  \n",
       "...           ...        ...  \n",
       "100239   9.728429  28.007534  \n",
       "100240  21.916023  19.272825  \n",
       "100241  18.221397  24.220598  \n",
       "100242  23.976475  21.576572  \n",
       "100243  35.146935  15.098387  \n",
       "\n",
       "[100244 rows x 14 columns]"
      ]
     },
     "execution_count": 6,
     "metadata": {},
     "output_type": "execute_result"
    }
   ],
   "source": [
    "df[DB_COLUMNS]"
   ]
  },
  {
   "cell_type": "code",
   "execution_count": 7,
   "id": "d437d683-7e4c-4fca-b8f0-dbcc649d3d7f",
   "metadata": {},
   "outputs": [],
   "source": [
    "X=df[DB_COLUMNS]"
   ]
  },
  {
   "cell_type": "code",
   "execution_count": 8,
   "id": "1dec9b0d-b47a-4d06-8458-6d16cce6a1b0",
   "metadata": {},
   "outputs": [],
   "source": [
    "# Scale the independent variables\n",
    "#scaler = StandardScaler()\n",
    "X_scaled = preproc.MinMaxScaler().fit_transform(X)"
   ]
  },
  {
   "cell_type": "code",
   "execution_count": 9,
   "id": "4db995b0-8adb-4c1a-9766-ef5fe277df23",
   "metadata": {},
   "outputs": [
    {
     "data": {
      "text/html": [
       "<style>#sk-container-id-1 {color: black;}#sk-container-id-1 pre{padding: 0;}#sk-container-id-1 div.sk-toggleable {background-color: white;}#sk-container-id-1 label.sk-toggleable__label {cursor: pointer;display: block;width: 100%;margin-bottom: 0;padding: 0.3em;box-sizing: border-box;text-align: center;}#sk-container-id-1 label.sk-toggleable__label-arrow:before {content: \"▸\";float: left;margin-right: 0.25em;color: #696969;}#sk-container-id-1 label.sk-toggleable__label-arrow:hover:before {color: black;}#sk-container-id-1 div.sk-estimator:hover label.sk-toggleable__label-arrow:before {color: black;}#sk-container-id-1 div.sk-toggleable__content {max-height: 0;max-width: 0;overflow: hidden;text-align: left;background-color: #f0f8ff;}#sk-container-id-1 div.sk-toggleable__content pre {margin: 0.2em;color: black;border-radius: 0.25em;background-color: #f0f8ff;}#sk-container-id-1 input.sk-toggleable__control:checked~div.sk-toggleable__content {max-height: 200px;max-width: 100%;overflow: auto;}#sk-container-id-1 input.sk-toggleable__control:checked~label.sk-toggleable__label-arrow:before {content: \"▾\";}#sk-container-id-1 div.sk-estimator input.sk-toggleable__control:checked~label.sk-toggleable__label {background-color: #d4ebff;}#sk-container-id-1 div.sk-label input.sk-toggleable__control:checked~label.sk-toggleable__label {background-color: #d4ebff;}#sk-container-id-1 input.sk-hidden--visually {border: 0;clip: rect(1px 1px 1px 1px);clip: rect(1px, 1px, 1px, 1px);height: 1px;margin: -1px;overflow: hidden;padding: 0;position: absolute;width: 1px;}#sk-container-id-1 div.sk-estimator {font-family: monospace;background-color: #f0f8ff;border: 1px dotted black;border-radius: 0.25em;box-sizing: border-box;margin-bottom: 0.5em;}#sk-container-id-1 div.sk-estimator:hover {background-color: #d4ebff;}#sk-container-id-1 div.sk-parallel-item::after {content: \"\";width: 100%;border-bottom: 1px solid gray;flex-grow: 1;}#sk-container-id-1 div.sk-label:hover label.sk-toggleable__label {background-color: #d4ebff;}#sk-container-id-1 div.sk-serial::before {content: \"\";position: absolute;border-left: 1px solid gray;box-sizing: border-box;top: 0;bottom: 0;left: 50%;z-index: 0;}#sk-container-id-1 div.sk-serial {display: flex;flex-direction: column;align-items: center;background-color: white;padding-right: 0.2em;padding-left: 0.2em;position: relative;}#sk-container-id-1 div.sk-item {position: relative;z-index: 1;}#sk-container-id-1 div.sk-parallel {display: flex;align-items: stretch;justify-content: center;background-color: white;position: relative;}#sk-container-id-1 div.sk-item::before, #sk-container-id-1 div.sk-parallel-item::before {content: \"\";position: absolute;border-left: 1px solid gray;box-sizing: border-box;top: 0;bottom: 0;left: 50%;z-index: -1;}#sk-container-id-1 div.sk-parallel-item {display: flex;flex-direction: column;z-index: 1;position: relative;background-color: white;}#sk-container-id-1 div.sk-parallel-item:first-child::after {align-self: flex-end;width: 50%;}#sk-container-id-1 div.sk-parallel-item:last-child::after {align-self: flex-start;width: 50%;}#sk-container-id-1 div.sk-parallel-item:only-child::after {width: 0;}#sk-container-id-1 div.sk-dashed-wrapped {border: 1px dashed gray;margin: 0 0.4em 0.5em 0.4em;box-sizing: border-box;padding-bottom: 0.4em;background-color: white;}#sk-container-id-1 div.sk-label label {font-family: monospace;font-weight: bold;display: inline-block;line-height: 1.2em;}#sk-container-id-1 div.sk-label-container {text-align: center;}#sk-container-id-1 div.sk-container {/* jupyter's `normalize.less` sets `[hidden] { display: none; }` but bootstrap.min.css set `[hidden] { display: none !important; }` so we also need the `!important` here to be able to override the default hidden behavior on the sphinx rendered scikit-learn.org. See: https://github.com/scikit-learn/scikit-learn/issues/21755 */display: inline-block !important;position: relative;}#sk-container-id-1 div.sk-text-repr-fallback {display: none;}</style><div id=\"sk-container-id-1\" class=\"sk-top-container\"><div class=\"sk-text-repr-fallback\"><pre>DBSCAN(eps=0.34, min_samples=3)</pre><b>In a Jupyter environment, please rerun this cell to show the HTML representation or trust the notebook. <br />On GitHub, the HTML representation is unable to render, please try loading this page with nbviewer.org.</b></div><div class=\"sk-container\" hidden><div class=\"sk-item\"><div class=\"sk-estimator sk-toggleable\"><input class=\"sk-toggleable__control sk-hidden--visually\" id=\"sk-estimator-id-1\" type=\"checkbox\" checked><label for=\"sk-estimator-id-1\" class=\"sk-toggleable__label sk-toggleable__label-arrow\">DBSCAN</label><div class=\"sk-toggleable__content\"><pre>DBSCAN(eps=0.34, min_samples=3)</pre></div></div></div></div></div>"
      ],
      "text/plain": [
       "DBSCAN(eps=0.34, min_samples=3)"
      ]
     },
     "execution_count": 9,
     "metadata": {},
     "output_type": "execute_result"
    }
   ],
   "source": [
    "# Apply DBSCAN\n",
    "epsilon = 0.34 # You may need to adjust this parameter\n",
    "min_samples = 3  # You may need to adjust this parameter\n",
    "dbscan = DBSCAN(eps=epsilon, min_samples=min_samples)\n",
    "#dbscan.fit(X_scaled)\n",
    "dbscan.fit(X_scaled)\n"
   ]
  },
  {
   "cell_type": "code",
   "execution_count": 10,
   "id": "6457c4e7-c84a-43d8-9326-7713fd8e5fea",
   "metadata": {},
   "outputs": [
    {
     "name": "stdout",
     "output_type": "stream",
     "text": [
      "1211\n"
     ]
    }
   ],
   "source": [
    "# Extract outlier labels\n",
    "outlier_mask = dbscan.labels_ == -1\n",
    "\n",
    "# Get the outliers\n",
    "outliers = X[outlier_mask]\n",
    "\n",
    "print(len(outliers))"
   ]
  },
  {
   "cell_type": "code",
   "execution_count": 11,
   "id": "da58b099-7aa7-4029-9fe1-3d1dd02250e3",
   "metadata": {},
   "outputs": [
    {
     "data": {
      "text/plain": [
       "9"
      ]
     },
     "execution_count": 11,
     "metadata": {},
     "output_type": "execute_result"
    }
   ],
   "source": [
    "len(set(dbscan.labels_))"
   ]
  },
  {
   "cell_type": "code",
   "execution_count": 12,
   "id": "6c34606e-b016-44fe-b568-02e66c332721",
   "metadata": {},
   "outputs": [
    {
     "name": "stdout",
     "output_type": "stream",
     "text": [
      "1211\n"
     ]
    }
   ],
   "source": [
    "# Analyze outliers\n",
    "print(len(df[outlier_mask]))\n"
   ]
  },
  {
   "cell_type": "code",
   "execution_count": 21,
   "id": "8e6eddb9-7531-456f-9ac3-3963bd4fa307",
   "metadata": {},
   "outputs": [],
   "source": [
    "non_outlier_mask=dbscan.labels_ != -1"
   ]
  },
  {
   "cell_type": "code",
   "execution_count": 23,
   "id": "34988724-73d6-4d9d-80f2-97b23804e909",
   "metadata": {},
   "outputs": [
    {
     "name": "stdout",
     "output_type": "stream",
     "text": [
      "99033\n"
     ]
    }
   ],
   "source": [
    "print(len(df[non_outlier_mask]))"
   ]
  },
  {
   "cell_type": "code",
   "execution_count": 15,
   "id": "fe103ea1-707d-4c5b-a673-e1dec49b6b8e",
   "metadata": {},
   "outputs": [],
   "source": [
    "def display_df(df: pd.DataFrame, title: str = \"\"):\n",
    "  display(df.style.hide(axis=\"index\").set_caption(title))"
   ]
  },
  {
   "cell_type": "code",
   "execution_count": 16,
   "id": "55d30f83-5fce-4f26-9a3b-5303115c049b",
   "metadata": {},
   "outputs": [],
   "source": [
    "TGT = \"readmitted\""
   ]
  },
  {
   "cell_type": "code",
   "execution_count": 17,
   "id": "47763063-c680-412b-bb2a-cb3598a9c88f",
   "metadata": {},
   "outputs": [
    {
     "data": {
      "text/html": [
       "<style type=\"text/css\">\n",
       "</style>\n",
       "<table id=\"T_3354a\">\n",
       "  <caption>full dataset</caption>\n",
       "  <thead>\n",
       "    <tr>\n",
       "      <th id=\"T_3354a_level0_col0\" class=\"col_heading level0 col0\" >index</th>\n",
       "      <th id=\"T_3354a_level0_col1\" class=\"col_heading level0 col1\" >readmitted</th>\n",
       "    </tr>\n",
       "  </thead>\n",
       "  <tbody>\n",
       "    <tr>\n",
       "      <td id=\"T_3354a_row0_col0\" class=\"data row0 col0\" >NO</td>\n",
       "      <td id=\"T_3354a_row0_col1\" class=\"data row0 col1\" >53821</td>\n",
       "    </tr>\n",
       "    <tr>\n",
       "      <td id=\"T_3354a_row1_col0\" class=\"data row1 col0\" >>30</td>\n",
       "      <td id=\"T_3354a_row1_col1\" class=\"data row1 col1\" >35173</td>\n",
       "    </tr>\n",
       "    <tr>\n",
       "      <td id=\"T_3354a_row2_col0\" class=\"data row2 col0\" ><30</td>\n",
       "      <td id=\"T_3354a_row2_col1\" class=\"data row2 col1\" >11250</td>\n",
       "    </tr>\n",
       "  </tbody>\n",
       "</table>\n"
      ],
      "text/plain": [
       "<pandas.io.formats.style.Styler at 0x296b6d37990>"
      ]
     },
     "metadata": {},
     "output_type": "display_data"
    },
    {
     "data": {
      "text/html": [
       "<style type=\"text/css\">\n",
       "</style>\n",
       "<table id=\"T_2e9db\">\n",
       "  <caption>DBscan outliers</caption>\n",
       "  <thead>\n",
       "    <tr>\n",
       "      <th id=\"T_2e9db_level0_col0\" class=\"col_heading level0 col0\" >index</th>\n",
       "      <th id=\"T_2e9db_level0_col1\" class=\"col_heading level0 col1\" >readmitted</th>\n",
       "    </tr>\n",
       "  </thead>\n",
       "  <tbody>\n",
       "    <tr>\n",
       "      <td id=\"T_2e9db_row0_col0\" class=\"data row0 col0\" >NO</td>\n",
       "      <td id=\"T_2e9db_row0_col1\" class=\"data row0 col1\" >629</td>\n",
       "    </tr>\n",
       "    <tr>\n",
       "      <td id=\"T_2e9db_row1_col0\" class=\"data row1 col0\" >>30</td>\n",
       "      <td id=\"T_2e9db_row1_col1\" class=\"data row1 col1\" >427</td>\n",
       "    </tr>\n",
       "    <tr>\n",
       "      <td id=\"T_2e9db_row2_col0\" class=\"data row2 col0\" ><30</td>\n",
       "      <td id=\"T_2e9db_row2_col1\" class=\"data row2 col1\" >155</td>\n",
       "    </tr>\n",
       "  </tbody>\n",
       "</table>\n"
      ],
      "text/plain": [
       "<pandas.io.formats.style.Styler at 0x296b6da4390>"
      ]
     },
     "metadata": {},
     "output_type": "display_data"
    }
   ],
   "source": [
    "prop = df.loc[:, TGT].value_counts().reset_index()\n",
    "display_df(prop.sort_values(\"readmitted\", ascending = False), \"full dataset\")\n",
    "\n",
    "prop = df.loc[list(outlier_mask), TGT].value_counts().reset_index()\n",
    "display_df(prop.sort_values(\"readmitted\", ascending = False), \"DBscan outliers\")"
   ]
  },
  {
   "cell_type": "code",
   "execution_count": 18,
   "id": "0450d988-70c7-4fd4-93dc-47a0b4318516",
   "metadata": {},
   "outputs": [
    {
     "data": {
      "text/plain": [
       "Chi2ContingencyResult(statistic=3.778073768423819, pvalue=0.15121737856959827, dof=2, expected_freq=array([[54840.40745021, 35548.97260553, 11376.61994426],\n",
       "       [  652.59254979,   423.02739447,   135.38005574]]))"
      ]
     },
     "execution_count": 18,
     "metadata": {},
     "output_type": "execute_result"
    }
   ],
   "source": [
    "stats.chi2_contingency(np.array([[54864, 35545 , 11357], [629, 427 , 155]]))"
   ]
  },
  {
   "cell_type": "code",
   "execution_count": 24,
   "id": "94da2c8d-3a27-45c2-a157-1aee356ed9b5",
   "metadata": {},
   "outputs": [],
   "source": [
    "output_df=df[non_outlier_mask]"
   ]
  },
  {
   "cell_type": "code",
   "execution_count": 25,
   "id": "d5267d49-e2e8-4c0f-8445-34c0eec4d1c5",
   "metadata": {},
   "outputs": [],
   "source": [
    "output_df.to_csv(\"diabetic_data_cleaned_pca_som_ae_dbscan.csv\")\n",
    "output_df.to_parquet(\"diabetic_data_cleaned_pca_som_ae_dbscan.parquet\")"
   ]
  },
  {
   "cell_type": "code",
   "execution_count": null,
   "id": "7df4abb2-9c0b-47ee-bc80-afe747f4340d",
   "metadata": {},
   "outputs": [],
   "source": []
  }
 ],
 "metadata": {
  "kernelspec": {
   "display_name": "Python 3 (ipykernel)",
   "language": "python",
   "name": "python3"
  },
  "language_info": {
   "codemirror_mode": {
    "name": "ipython",
    "version": 3
   },
   "file_extension": ".py",
   "mimetype": "text/x-python",
   "name": "python",
   "nbconvert_exporter": "python",
   "pygments_lexer": "ipython3",
   "version": "3.11.0"
  }
 },
 "nbformat": 4,
 "nbformat_minor": 5
}
